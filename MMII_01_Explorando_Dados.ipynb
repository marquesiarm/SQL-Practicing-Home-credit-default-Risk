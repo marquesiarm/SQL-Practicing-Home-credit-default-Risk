{
  "nbformat": 4,
  "nbformat_minor": 0,
  "metadata": {
    "colab": {
      "name": "MMII_01_Explorando_Dados.ipynb",
      "provenance": []
    },
    "kernelspec": {
      "name": "python3",
      "display_name": "Python 3"
    },
    "language_info": {
      "name": "python"
    }
  },
  "cells": [
    {
      "cell_type": "code",
      "execution_count": 1,
      "metadata": {
        "id": "wPGfQ_QtRl8F"
      },
      "outputs": [],
      "source": [
        "def Soma(var1:float,var2:float)->int:\n",
        "  \"\"\"Esta função retorna o reseultado da soma entre dois números.\n",
        "  var1: variável numérica\n",
        "  var2: variável numérica\n",
        "  resultado: resultado da soma de var1 e var2\"\"\"\n",
        "\n",
        "  resultado = var1 + var2\n",
        "  print('O resultado da soma é: ', resultado)\n",
        "\n",
        "  if resultado > 10:\n",
        "    print('Só Alegria!!')\n",
        "\n",
        "    return resultado"
      ]
    },
    {
      "cell_type": "code",
      "source": [
        "Soma(1,10)"
      ],
      "metadata": {
        "colab": {
          "base_uri": "https://localhost:8080/"
        },
        "id": "bEXi_aXgUQsA",
        "outputId": "90c28bcc-dd6e-4aa6-9c70-77be895e021c"
      },
      "execution_count": 2,
      "outputs": [
        {
          "output_type": "stream",
          "name": "stdout",
          "text": [
            "O resultado da soma é:  11\n",
            "Só Alegria!!\n"
          ]
        },
        {
          "output_type": "execute_result",
          "data": {
            "text/plain": [
              "11"
            ]
          },
          "metadata": {},
          "execution_count": 2
        }
      ]
    },
    {
      "cell_type": "markdown",
      "source": [
        "Instalando Dependências"
      ],
      "metadata": {
        "id": "TaMyR6fZ23We"
      }
    },
    {
      "cell_type": "code",
      "source": [
        "# instalar as dependências\n",
        "!apt-get install openjdk-8-jdk-headless -qq > /dev/null\n",
        "!wget -q https://archive.apache.org/dist/spark/spark-2.4.4/spark-2.4.4-bin-hadoop2.7.tgz\n",
        "!tar xf spark-2.4.4-bin-hadoop2.7.tgz\n",
        "!pip install -q findspark"
      ],
      "metadata": {
        "id": "YQ64JTD61efk"
      },
      "execution_count": 3,
      "outputs": []
    },
    {
      "cell_type": "markdown",
      "source": [
        "Configurando o Kernel Spark"
      ],
      "metadata": {
        "id": "lhZsa1Gv28Rb"
      }
    },
    {
      "cell_type": "code",
      "source": [
        "# configurar as variáveis de ambiente\n",
        "import os\n",
        "os.environ[\"JAVA_HOME\"] = \"/usr/lib/jvm/java-8-openjdk-amd64\"\n",
        "os.environ[\"SPARK_HOME\"] = \"/content/spark-2.4.4-bin-hadoop2.7\"\n",
        "\n",
        "# tornar o pyspark \"importável\"\n",
        "import findspark\n",
        "findspark.init('spark-2.4.4-bin-hadoop2.7')"
      ],
      "metadata": {
        "id": "9hudIK3c1wLx"
      },
      "execution_count": 4,
      "outputs": []
    },
    {
      "cell_type": "code",
      "source": [
        "from pyspark.sql import SparkSession\n",
        "\n",
        "spark = SparkSession.builder\\\n",
        "        .master(\"local\")\\\n",
        "        .appName(\"Colab\")\\\n",
        "        .config('spark.ui.port', '4050')\\\n",
        "        .getOrCreate()"
      ],
      "metadata": {
        "id": "l2XRIV2h2MlM"
      },
      "execution_count": 5,
      "outputs": []
    },
    {
      "cell_type": "markdown",
      "source": [
        "Explorandos os Dados"
      ],
      "metadata": {
        "id": "rJJqGNPD2oPg"
      }
    },
    {
      "cell_type": "markdown",
      "source": [
        "Lendo público de modelagem (tabela Principal)"
      ],
      "metadata": {
        "id": "-jS9Ab-W2uAV"
      }
    },
    {
      "cell_type": "code",
      "source": [
        "app_train = spark.read.csv(\"/content/drive/MyDrive/SQLMMs/InputData/application_train.csv\", inferSchema=True, header=True)\n",
        "\n",
        "app_train.registerTempTable('app_train')\n",
        "\n",
        "app_train.count()"
      ],
      "metadata": {
        "colab": {
          "base_uri": "https://localhost:8080/"
        },
        "id": "9RmHBlnH5d27",
        "outputId": "da403dd9-37ef-4859-88f1-fa5d34ca3140"
      },
      "execution_count": 6,
      "outputs": [
        {
          "output_type": "execute_result",
          "data": {
            "text/plain": [
              "307511"
            ]
          },
          "metadata": {},
          "execution_count": 6
        }
      ]
    },
    {
      "cell_type": "markdown",
      "source": [
        "Lendo tabela transacional Bureau"
      ],
      "metadata": {
        "id": "lGlPYKWY6NgF"
      }
    },
    {
      "cell_type": "code",
      "source": [
        "bureau = spark.read.csv(\"/content/drive/MyDrive/SQLMMs/InputData/bureau.csv\", inferSchema=True, header=True)\n",
        "\n",
        "bureau.registerTempTable('bureau')\n",
        "\n",
        "bureau.count()"
      ],
      "metadata": {
        "colab": {
          "base_uri": "https://localhost:8080/"
        },
        "id": "9XS1kEU-6Jlo",
        "outputId": "4e058230-3dbe-4a5e-9cf3-54f69b6d2346"
      },
      "execution_count": 7,
      "outputs": [
        {
          "output_type": "execute_result",
          "data": {
            "text/plain": [
              "1716428"
            ]
          },
          "metadata": {},
          "execution_count": 7
        }
      ]
    },
    {
      "cell_type": "markdown",
      "source": [
        "Verificando variáveis da tabela princicpal"
      ],
      "metadata": {
        "id": "gcuNlPxv7xTI"
      }
    },
    {
      "cell_type": "code",
      "source": [
        "app_train.printSchema()"
      ],
      "metadata": {
        "colab": {
          "base_uri": "https://localhost:8080/"
        },
        "id": "1HRjarK475Bj",
        "outputId": "f86f5866-7170-4b82-9aee-9c07c5726151"
      },
      "execution_count": 8,
      "outputs": [
        {
          "output_type": "stream",
          "name": "stdout",
          "text": [
            "root\n",
            " |-- SK_ID_CURR: integer (nullable = true)\n",
            " |-- TARGET: integer (nullable = true)\n",
            " |-- NAME_CONTRACT_TYPE: string (nullable = true)\n",
            " |-- CODE_GENDER: string (nullable = true)\n",
            " |-- FLAG_OWN_CAR: string (nullable = true)\n",
            " |-- FLAG_OWN_REALTY: string (nullable = true)\n",
            " |-- CNT_CHILDREN: integer (nullable = true)\n",
            " |-- AMT_INCOME_TOTAL: double (nullable = true)\n",
            " |-- AMT_CREDIT: double (nullable = true)\n",
            " |-- AMT_ANNUITY: double (nullable = true)\n",
            " |-- AMT_GOODS_PRICE: double (nullable = true)\n",
            " |-- NAME_TYPE_SUITE: string (nullable = true)\n",
            " |-- NAME_INCOME_TYPE: string (nullable = true)\n",
            " |-- NAME_EDUCATION_TYPE: string (nullable = true)\n",
            " |-- NAME_FAMILY_STATUS: string (nullable = true)\n",
            " |-- NAME_HOUSING_TYPE: string (nullable = true)\n",
            " |-- REGION_POPULATION_RELATIVE: double (nullable = true)\n",
            " |-- DAYS_BIRTH: integer (nullable = true)\n",
            " |-- DAYS_EMPLOYED: integer (nullable = true)\n",
            " |-- DAYS_REGISTRATION: double (nullable = true)\n",
            " |-- DAYS_ID_PUBLISH: integer (nullable = true)\n",
            " |-- OWN_CAR_AGE: double (nullable = true)\n",
            " |-- FLAG_MOBIL: integer (nullable = true)\n",
            " |-- FLAG_EMP_PHONE: integer (nullable = true)\n",
            " |-- FLAG_WORK_PHONE: integer (nullable = true)\n",
            " |-- FLAG_CONT_MOBILE: integer (nullable = true)\n",
            " |-- FLAG_PHONE: integer (nullable = true)\n",
            " |-- FLAG_EMAIL: integer (nullable = true)\n",
            " |-- OCCUPATION_TYPE: string (nullable = true)\n",
            " |-- CNT_FAM_MEMBERS: double (nullable = true)\n",
            " |-- REGION_RATING_CLIENT: integer (nullable = true)\n",
            " |-- REGION_RATING_CLIENT_W_CITY: integer (nullable = true)\n",
            " |-- WEEKDAY_APPR_PROCESS_START: string (nullable = true)\n",
            " |-- HOUR_APPR_PROCESS_START: integer (nullable = true)\n",
            " |-- REG_REGION_NOT_LIVE_REGION: integer (nullable = true)\n",
            " |-- REG_REGION_NOT_WORK_REGION: integer (nullable = true)\n",
            " |-- LIVE_REGION_NOT_WORK_REGION: integer (nullable = true)\n",
            " |-- REG_CITY_NOT_LIVE_CITY: integer (nullable = true)\n",
            " |-- REG_CITY_NOT_WORK_CITY: integer (nullable = true)\n",
            " |-- LIVE_CITY_NOT_WORK_CITY: integer (nullable = true)\n",
            " |-- ORGANIZATION_TYPE: string (nullable = true)\n",
            " |-- EXT_SOURCE_1: double (nullable = true)\n",
            " |-- EXT_SOURCE_2: double (nullable = true)\n",
            " |-- EXT_SOURCE_3: double (nullable = true)\n",
            " |-- APARTMENTS_AVG: double (nullable = true)\n",
            " |-- BASEMENTAREA_AVG: double (nullable = true)\n",
            " |-- YEARS_BEGINEXPLUATATION_AVG: double (nullable = true)\n",
            " |-- YEARS_BUILD_AVG: double (nullable = true)\n",
            " |-- COMMONAREA_AVG: double (nullable = true)\n",
            " |-- ELEVATORS_AVG: double (nullable = true)\n",
            " |-- ENTRANCES_AVG: double (nullable = true)\n",
            " |-- FLOORSMAX_AVG: double (nullable = true)\n",
            " |-- FLOORSMIN_AVG: double (nullable = true)\n",
            " |-- LANDAREA_AVG: double (nullable = true)\n",
            " |-- LIVINGAPARTMENTS_AVG: double (nullable = true)\n",
            " |-- LIVINGAREA_AVG: double (nullable = true)\n",
            " |-- NONLIVINGAPARTMENTS_AVG: double (nullable = true)\n",
            " |-- NONLIVINGAREA_AVG: double (nullable = true)\n",
            " |-- APARTMENTS_MODE: double (nullable = true)\n",
            " |-- BASEMENTAREA_MODE: double (nullable = true)\n",
            " |-- YEARS_BEGINEXPLUATATION_MODE: double (nullable = true)\n",
            " |-- YEARS_BUILD_MODE: double (nullable = true)\n",
            " |-- COMMONAREA_MODE: double (nullable = true)\n",
            " |-- ELEVATORS_MODE: double (nullable = true)\n",
            " |-- ENTRANCES_MODE: double (nullable = true)\n",
            " |-- FLOORSMAX_MODE: double (nullable = true)\n",
            " |-- FLOORSMIN_MODE: double (nullable = true)\n",
            " |-- LANDAREA_MODE: double (nullable = true)\n",
            " |-- LIVINGAPARTMENTS_MODE: double (nullable = true)\n",
            " |-- LIVINGAREA_MODE: double (nullable = true)\n",
            " |-- NONLIVINGAPARTMENTS_MODE: double (nullable = true)\n",
            " |-- NONLIVINGAREA_MODE: double (nullable = true)\n",
            " |-- APARTMENTS_MEDI: double (nullable = true)\n",
            " |-- BASEMENTAREA_MEDI: double (nullable = true)\n",
            " |-- YEARS_BEGINEXPLUATATION_MEDI: double (nullable = true)\n",
            " |-- YEARS_BUILD_MEDI: double (nullable = true)\n",
            " |-- COMMONAREA_MEDI: double (nullable = true)\n",
            " |-- ELEVATORS_MEDI: double (nullable = true)\n",
            " |-- ENTRANCES_MEDI: double (nullable = true)\n",
            " |-- FLOORSMAX_MEDI: double (nullable = true)\n",
            " |-- FLOORSMIN_MEDI: double (nullable = true)\n",
            " |-- LANDAREA_MEDI: double (nullable = true)\n",
            " |-- LIVINGAPARTMENTS_MEDI: double (nullable = true)\n",
            " |-- LIVINGAREA_MEDI: double (nullable = true)\n",
            " |-- NONLIVINGAPARTMENTS_MEDI: double (nullable = true)\n",
            " |-- NONLIVINGAREA_MEDI: double (nullable = true)\n",
            " |-- FONDKAPREMONT_MODE: string (nullable = true)\n",
            " |-- HOUSETYPE_MODE: string (nullable = true)\n",
            " |-- TOTALAREA_MODE: double (nullable = true)\n",
            " |-- WALLSMATERIAL_MODE: string (nullable = true)\n",
            " |-- EMERGENCYSTATE_MODE: string (nullable = true)\n",
            " |-- OBS_30_CNT_SOCIAL_CIRCLE: double (nullable = true)\n",
            " |-- DEF_30_CNT_SOCIAL_CIRCLE: double (nullable = true)\n",
            " |-- OBS_60_CNT_SOCIAL_CIRCLE: double (nullable = true)\n",
            " |-- DEF_60_CNT_SOCIAL_CIRCLE: double (nullable = true)\n",
            " |-- DAYS_LAST_PHONE_CHANGE: double (nullable = true)\n",
            " |-- FLAG_DOCUMENT_2: integer (nullable = true)\n",
            " |-- FLAG_DOCUMENT_3: integer (nullable = true)\n",
            " |-- FLAG_DOCUMENT_4: integer (nullable = true)\n",
            " |-- FLAG_DOCUMENT_5: integer (nullable = true)\n",
            " |-- FLAG_DOCUMENT_6: integer (nullable = true)\n",
            " |-- FLAG_DOCUMENT_7: integer (nullable = true)\n",
            " |-- FLAG_DOCUMENT_8: integer (nullable = true)\n",
            " |-- FLAG_DOCUMENT_9: integer (nullable = true)\n",
            " |-- FLAG_DOCUMENT_10: integer (nullable = true)\n",
            " |-- FLAG_DOCUMENT_11: integer (nullable = true)\n",
            " |-- FLAG_DOCUMENT_12: integer (nullable = true)\n",
            " |-- FLAG_DOCUMENT_13: integer (nullable = true)\n",
            " |-- FLAG_DOCUMENT_14: integer (nullable = true)\n",
            " |-- FLAG_DOCUMENT_15: integer (nullable = true)\n",
            " |-- FLAG_DOCUMENT_16: integer (nullable = true)\n",
            " |-- FLAG_DOCUMENT_17: integer (nullable = true)\n",
            " |-- FLAG_DOCUMENT_18: integer (nullable = true)\n",
            " |-- FLAG_DOCUMENT_19: integer (nullable = true)\n",
            " |-- FLAG_DOCUMENT_20: integer (nullable = true)\n",
            " |-- FLAG_DOCUMENT_21: integer (nullable = true)\n",
            " |-- AMT_REQ_CREDIT_BUREAU_HOUR: double (nullable = true)\n",
            " |-- AMT_REQ_CREDIT_BUREAU_DAY: double (nullable = true)\n",
            " |-- AMT_REQ_CREDIT_BUREAU_WEEK: double (nullable = true)\n",
            " |-- AMT_REQ_CREDIT_BUREAU_MON: double (nullable = true)\n",
            " |-- AMT_REQ_CREDIT_BUREAU_QRT: double (nullable = true)\n",
            " |-- AMT_REQ_CREDIT_BUREAU_YEAR: double (nullable = true)\n",
            "\n"
          ]
        }
      ]
    },
    {
      "cell_type": "markdown",
      "source": [
        "Listando variáveis tipo string"
      ],
      "metadata": {
        "id": "DHopg8JV8x_1"
      }
    },
    {
      "cell_type": "code",
      "source": [
        "string_list = [item[0] for item in app_train.dtypes if item[1].startswith('string')]\n",
        "string_list"
      ],
      "metadata": {
        "colab": {
          "base_uri": "https://localhost:8080/"
        },
        "id": "dxqOs8AK73te",
        "outputId": "9b3fc5c3-c5be-4e78-b830-5251cdd1dc33"
      },
      "execution_count": 9,
      "outputs": [
        {
          "output_type": "execute_result",
          "data": {
            "text/plain": [
              "['NAME_CONTRACT_TYPE',\n",
              " 'CODE_GENDER',\n",
              " 'FLAG_OWN_CAR',\n",
              " 'FLAG_OWN_REALTY',\n",
              " 'NAME_TYPE_SUITE',\n",
              " 'NAME_INCOME_TYPE',\n",
              " 'NAME_EDUCATION_TYPE',\n",
              " 'NAME_FAMILY_STATUS',\n",
              " 'NAME_HOUSING_TYPE',\n",
              " 'OCCUPATION_TYPE',\n",
              " 'WEEKDAY_APPR_PROCESS_START',\n",
              " 'ORGANIZATION_TYPE',\n",
              " 'FONDKAPREMONT_MODE',\n",
              " 'HOUSETYPE_MODE',\n",
              " 'WALLSMATERIAL_MODE',\n",
              " 'EMERGENCYSTATE_MODE']"
            ]
          },
          "metadata": {},
          "execution_count": 9
        }
      ]
    },
    {
      "cell_type": "markdown",
      "source": [
        "Exercícios sobre a tabela de modelagem"
      ],
      "metadata": {
        "id": "sjeo6uXl90iS"
      }
    },
    {
      "cell_type": "markdown",
      "source": [
        "Cálculo da volumetria e taxa de evento para cada domínio de cada uma das variáveis tipo string."
      ],
      "metadata": {
        "id": "c9G_opri-sm_"
      }
    },
    {
      "cell_type": "code",
      "source": [
        "spark.sql(\"\"\"\n",
        "select\n",
        "  NAME_CONTRACT_tYPE,\n",
        "  round(100*avg(TARGET),2) as AVG_TARGET,\n",
        "  count(*) as Volume\n",
        "\n",
        "  from\n",
        "    app_train\n",
        "  group by\n",
        "    NAME_CONTRACT_TYPE\n",
        "  order by\n",
        "    AVG_TARGET desc\n",
        "    \"\"\").show()"
      ],
      "metadata": {
        "colab": {
          "base_uri": "https://localhost:8080/"
        },
        "id": "k6J0-btV97Si",
        "outputId": "18f2b930-10b5-4f0d-c889-d18427aecd91"
      },
      "execution_count": 10,
      "outputs": [
        {
          "output_type": "stream",
          "name": "stdout",
          "text": [
            "+------------------+----------+------+\n",
            "|NAME_CONTRACT_tYPE|AVG_TARGET|Volume|\n",
            "+------------------+----------+------+\n",
            "|        Cash loans|      8.35|278232|\n",
            "|   Revolving loans|      5.48| 29279|\n",
            "+------------------+----------+------+\n",
            "\n"
          ]
        }
      ]
    },
    {
      "cell_type": "markdown",
      "source": [
        "Entendi que \"AVG_TARGET\" é a porcentagem de inadimplentes sobre o total de pessoas (\"Volume\") que realizaram empréstimos (em dinheiro ou rotativo).\n",
        "\n",
        "Revolving loans, empéstimo rotativo, acho que refere-se ao uso de cartão de crédito. Este evento possui menor média de inadimplência e de empréstimos. Creio que seja pelo fato de que a modalidae de empréstimos em cartões de crédito cobram juros muito mais elevados do que outros tipos de empréstimos. No Brasil, os juros em cartões de crédito são próximos de 300 % ao ano."
      ],
      "metadata": {
        "id": "tyowBg5WCfuV"
      }
    },
    {
      "cell_type": "code",
      "source": [
        "spark.sql(\"\"\"\n",
        "            select \n",
        "              OCCUPATION_TYPE,\n",
        "              round(100*avg(TARGET),2) as AVG_TARGET,\n",
        "              count(*) as Volume\n",
        "\n",
        "            from \n",
        "              app_train\n",
        "            group by \n",
        "              OCCUPATION_TYPE\n",
        "            order by \n",
        "              AVG_TARGET desc\n",
        "\"\"\").show(100)"
      ],
      "metadata": {
        "colab": {
          "base_uri": "https://localhost:8080/"
        },
        "id": "6mOnBoO0Lojp",
        "outputId": "c7704cb2-be6d-4bf0-da24-980518e369a5"
      },
      "execution_count": 11,
      "outputs": [
        {
          "output_type": "stream",
          "name": "stdout",
          "text": [
            "+--------------------+----------+------+\n",
            "|     OCCUPATION_TYPE|AVG_TARGET|Volume|\n",
            "+--------------------+----------+------+\n",
            "|  Low-skill Laborers|     17.15|  2093|\n",
            "|             Drivers|     11.33| 18603|\n",
            "|Waiters/barmen staff|     11.28|  1348|\n",
            "|      Security staff|     10.74|  6721|\n",
            "|            Laborers|     10.58| 55186|\n",
            "|       Cooking staff|     10.44|  5946|\n",
            "|         Sales staff|      9.63| 32102|\n",
            "|      Cleaning staff|      9.61|  4653|\n",
            "|       Realty agents|      7.86|   751|\n",
            "|         Secretaries|      7.05|  1305|\n",
            "|      Medicine staff|       6.7|  8537|\n",
            "|Private service s...|       6.6|  2652|\n",
            "|                null|      6.51| 96391|\n",
            "|            IT staff|      6.46|   526|\n",
            "|            HR staff|      6.39|   563|\n",
            "|          Core staff|       6.3| 27570|\n",
            "|            Managers|      6.21| 21371|\n",
            "|High skill tech s...|      6.16| 11380|\n",
            "|         Accountants|      4.83|  9813|\n",
            "+--------------------+----------+------+\n",
            "\n"
          ]
        }
      ]
    },
    {
      "cell_type": "markdown",
      "source": [
        "Neste caso trabalhadores com menor grau de habilidades técnicas apresentam elevado percentual de inadimplência."
      ],
      "metadata": {
        "id": "yYBRE6leMzEQ"
      }
    },
    {
      "cell_type": "code",
      "source": [
        "spark.sql(\"\"\"\n",
        "            select \n",
        "              CODE_GENDER,\n",
        "              round(100*avg(TARGET),2) as AVG_TARGET,\n",
        "              count(*) as Volume\n",
        "\n",
        "            from \n",
        "              app_train\n",
        "            group by \n",
        "              CODE_GENDER\n",
        "            order by \n",
        "              AVG_TARGET desc\n",
        "\"\"\").show()"
      ],
      "metadata": {
        "colab": {
          "base_uri": "https://localhost:8080/"
        },
        "id": "NAeGrnfBNLLS",
        "outputId": "1dc47909-0584-4571-b6cd-dd458a174779"
      },
      "execution_count": 12,
      "outputs": [
        {
          "output_type": "stream",
          "name": "stdout",
          "text": [
            "+-----------+----------+------+\n",
            "|CODE_GENDER|AVG_TARGET|Volume|\n",
            "+-----------+----------+------+\n",
            "|          M|     10.14|105059|\n",
            "|          F|       7.0|202448|\n",
            "|        XNA|       0.0|     4|\n",
            "+-----------+----------+------+\n",
            "\n"
          ]
        }
      ]
    },
    {
      "cell_type": "markdown",
      "source": [
        "Os homens são mais inadimplentes do que as mulheres, ainda que elas tenham feito mais empréstimos."
      ],
      "metadata": {
        "id": "OpFQNz-2Okm4"
      }
    },
    {
      "cell_type": "code",
      "source": [
        "spark.sql(\"\"\"\n",
        "select\n",
        "  FLAG_OWN_CAR,\n",
        "  round(100*avg(TARGET),2) as AVG_TARGET,\n",
        "  count(*) as Volume\n",
        "\n",
        "  from\n",
        "    app_train\n",
        "  group by\n",
        "    FLAG_OWN_CAR\n",
        "  order by\n",
        "    AVG_TARGET desc\n",
        "    \"\"\").show()"
      ],
      "metadata": {
        "colab": {
          "base_uri": "https://localhost:8080/"
        },
        "id": "rkA1W9gQO_FL",
        "outputId": "d8147917-ec4e-4095-d337-54260d041544"
      },
      "execution_count": 13,
      "outputs": [
        {
          "output_type": "stream",
          "name": "stdout",
          "text": [
            "+------------+----------+------+\n",
            "|FLAG_OWN_CAR|AVG_TARGET|Volume|\n",
            "+------------+----------+------+\n",
            "|           N|       8.5|202924|\n",
            "|           Y|      7.24|104587|\n",
            "+------------+----------+------+\n",
            "\n"
          ]
        }
      ]
    },
    {
      "cell_type": "markdown",
      "source": [
        "A inadimplência é quase ao mesmo nível entre os que possuem e não carro, sendo o número de empréstimos significativamente maior para os que não tem carro."
      ],
      "metadata": {
        "id": "Hegfn_9KP21S"
      }
    },
    {
      "cell_type": "code",
      "source": [
        "spark.sql(\"\"\"\n",
        "            select \n",
        "              FLAG_OWN_REALTY,\n",
        "              round(100*avg(TARGET),2) as AVG_TARGET,\n",
        "              count(*) as Volume\n",
        "\n",
        "            from \n",
        "              app_train\n",
        "            group by \n",
        "              FLAG_OWN_REALTY\n",
        "            order by \n",
        "              AVG_TARGET desc\n",
        "\"\"\").show()"
      ],
      "metadata": {
        "colab": {
          "base_uri": "https://localhost:8080/"
        },
        "id": "6ceOFFg_QeVd",
        "outputId": "21cc539f-3259-47bc-8480-f3b88a678926"
      },
      "execution_count": 14,
      "outputs": [
        {
          "output_type": "stream",
          "name": "stdout",
          "text": [
            "+---------------+----------+------+\n",
            "|FLAG_OWN_REALTY|AVG_TARGET|Volume|\n",
            "+---------------+----------+------+\n",
            "|              N|      8.32| 94199|\n",
            "|              Y|      7.96|213312|\n",
            "+---------------+----------+------+\n",
            "\n"
          ]
        }
      ]
    },
    {
      "cell_type": "markdown",
      "source": [
        "Proprietários de casa ou partamento realizaram empréstimos em mais do que o dobro do que os que não possuem imóveis, sendo que para ambos o nível de inadiplência é próximo de 8%."
      ],
      "metadata": {
        "id": "rK7m0OIxRRTh"
      }
    },
    {
      "cell_type": "code",
      "source": [
        "spark.sql(\"\"\"\n",
        "            select \n",
        "              NAME_TYPE_SUITE,\n",
        "              round(100*avg(TARGET),2) as AVG_TARGET,\n",
        "              count(*) as Volume\n",
        "\n",
        "            from \n",
        "              app_train\n",
        "            group by \n",
        "              NAME_TYPE_SUITE\n",
        "            order by \n",
        "              AVG_TARGET desc\n",
        "\"\"\").show()"
      ],
      "metadata": {
        "colab": {
          "base_uri": "https://localhost:8080/"
        },
        "id": "8FXTzXpiR4Nh",
        "outputId": "6c066a1f-b8fd-4b47-f69e-7c161001079d"
      },
      "execution_count": 15,
      "outputs": [
        {
          "output_type": "stream",
          "name": "stdout",
          "text": [
            "+---------------+----------+------+\n",
            "|NAME_TYPE_SUITE|AVG_TARGET|Volume|\n",
            "+---------------+----------+------+\n",
            "|        Other_B|      9.83|  1770|\n",
            "|        Other_A|      8.78|   866|\n",
            "|Group of people|      8.49|   271|\n",
            "|  Unaccompanied|      8.18|248526|\n",
            "|Spouse, partner|      7.87| 11370|\n",
            "|         Family|      7.49| 40149|\n",
            "|       Children|      7.38|  3267|\n",
            "|           null|      5.42|  1292|\n",
            "+---------------+----------+------+\n",
            "\n"
          ]
        }
      ]
    },
    {
      "cell_type": "markdown",
      "source": [
        "Não percebo resolução significativa do nível de inadimplência estando o solicitante acompanhado ou não ou o tipo de companhia. O percentual de inadimplência varia entre 7 e 10 %, sendo que o maior número de empréstimos ocorreu para os não acompanhados."
      ],
      "metadata": {
        "id": "aLYhwb1NTM2I"
      }
    },
    {
      "cell_type": "code",
      "source": [
        "spark.sql(\"\"\"\n",
        "            select \n",
        "              NAME_INCOME_TYPE,\n",
        "              round(100*avg(TARGET),2) as AVG_TARGET,\n",
        "              count(*) as Volume\n",
        "\n",
        "            from \n",
        "              app_train\n",
        "            group by \n",
        "              NAME_INCOME_TYPE\n",
        "            order by \n",
        "              AVG_TARGET desc\n",
        "\"\"\").show()"
      ],
      "metadata": {
        "colab": {
          "base_uri": "https://localhost:8080/"
        },
        "id": "thC8C5imU4vL",
        "outputId": "0be3cf3e-bddb-47ae-ac25-e25d2789c35a"
      },
      "execution_count": 16,
      "outputs": [
        {
          "output_type": "stream",
          "name": "stdout",
          "text": [
            "+--------------------+----------+------+\n",
            "|    NAME_INCOME_TYPE|AVG_TARGET|Volume|\n",
            "+--------------------+----------+------+\n",
            "|     Maternity leave|      40.0|     5|\n",
            "|          Unemployed|     36.36|    22|\n",
            "|             Working|      9.59|158774|\n",
            "|Commercial associate|      7.48| 71617|\n",
            "|       State servant|      5.75| 21703|\n",
            "|           Pensioner|      5.39| 55362|\n",
            "|             Student|       0.0|    18|\n",
            "|         Businessman|       0.0|    10|\n",
            "+--------------------+----------+------+\n",
            "\n"
          ]
        }
      ]
    },
    {
      "cell_type": "markdown",
      "source": [
        "A maior inadimolência ocorreu para quem estava de licença maternidade e para desempregados, sendo estes ultimos os que mais realizaram empréstimos. Estudantes e businessman não foram inadimplentes."
      ],
      "metadata": {
        "id": "tj-00awLVv52"
      }
    },
    {
      "cell_type": "code",
      "source": [
        "spark.sql(\"\"\"\n",
        "            select \n",
        "              NAME_EDUCATION_TYPE,\n",
        "              round(100*avg(TARGET),2) as AVG_TARGET,\n",
        "              count(*) as Volume\n",
        "\n",
        "            from \n",
        "              app_train\n",
        "            group by \n",
        "              NAME_EDUCATION_TYPE\n",
        "            order by \n",
        "              AVG_TARGET desc\n",
        "\"\"\").show()"
      ],
      "metadata": {
        "colab": {
          "base_uri": "https://localhost:8080/"
        },
        "id": "4XSMtkwqWVLo",
        "outputId": "f7bfc327-71b8-4617-9eb1-58709ee35556"
      },
      "execution_count": 17,
      "outputs": [
        {
          "output_type": "stream",
          "name": "stdout",
          "text": [
            "+--------------------+----------+------+\n",
            "| NAME_EDUCATION_TYPE|AVG_TARGET|Volume|\n",
            "+--------------------+----------+------+\n",
            "|     Lower secondary|     10.93|  3816|\n",
            "|Secondary / secon...|      8.94|218391|\n",
            "|   Incomplete higher|      8.48| 10277|\n",
            "|    Higher education|      5.36| 74863|\n",
            "|     Academic degree|      1.83|   164|\n",
            "+--------------------+----------+------+\n",
            "\n"
          ]
        }
      ]
    },
    {
      "cell_type": "markdown",
      "source": [
        "A inadimplência foi maior para aqueles com baixo grau de escolaridade, e de maneira oposta, menor para aqueles com curso superior."
      ],
      "metadata": {
        "id": "1DUpm284Wj_L"
      }
    },
    {
      "cell_type": "code",
      "source": [
        "spark.sql(\"\"\"\n",
        "            select \n",
        "              NAME_FAMILY_STATUS,\n",
        "              round(100*avg(TARGET),2) as AVG_TARGET,\n",
        "              count(*) as Volume\n",
        "\n",
        "            from \n",
        "              app_train\n",
        "            group by \n",
        "              NAME_FAMILY_STATUS\n",
        "            order by \n",
        "              AVG_TARGET desc\n",
        "\"\"\").show()"
      ],
      "metadata": {
        "colab": {
          "base_uri": "https://localhost:8080/"
        },
        "id": "wKQU8Kz0W54H",
        "outputId": "9ff68cdf-bada-4301-e291-fb3b4a3090f9"
      },
      "execution_count": 18,
      "outputs": [
        {
          "output_type": "stream",
          "name": "stdout",
          "text": [
            "+--------------------+----------+------+\n",
            "|  NAME_FAMILY_STATUS|AVG_TARGET|Volume|\n",
            "+--------------------+----------+------+\n",
            "|      Civil marriage|      9.94| 29775|\n",
            "|Single / not married|      9.81| 45444|\n",
            "|           Separated|      8.19| 19770|\n",
            "|             Married|      7.56|196432|\n",
            "|               Widow|      5.82| 16088|\n",
            "|             Unknown|       0.0|     2|\n",
            "+--------------------+----------+------+\n",
            "\n"
          ]
        }
      ]
    },
    {
      "cell_type": "markdown",
      "source": [
        "O estado civil pouco afeta a inadimplência, sendo apeans um pouco menor para viúvos."
      ],
      "metadata": {
        "id": "Wy-2gBtlXbAK"
      }
    },
    {
      "cell_type": "code",
      "source": [
        "spark.sql(\"\"\"\n",
        "            select \n",
        "              NAME_HOUSING_TYPE,\n",
        "              round(100*avg(TARGET),2) as AVG_TARGET,\n",
        "              count(*) as Volume\n",
        "\n",
        "            from \n",
        "              app_train\n",
        "            group by \n",
        "              NAME_HOUSING_TYPE\n",
        "            order by \n",
        "              AVG_TARGET desc\n",
        "\"\"\").show()"
      ],
      "metadata": {
        "colab": {
          "base_uri": "https://localhost:8080/"
        },
        "id": "5HTZ6SMdXwUJ",
        "outputId": "ca846863-2f5e-4f28-eb39-dcfd22508769"
      },
      "execution_count": 19,
      "outputs": [
        {
          "output_type": "stream",
          "name": "stdout",
          "text": [
            "+-------------------+----------+------+\n",
            "|  NAME_HOUSING_TYPE|AVG_TARGET|Volume|\n",
            "+-------------------+----------+------+\n",
            "|   Rented apartment|     12.31|  4881|\n",
            "|       With parents|      11.7| 14840|\n",
            "|Municipal apartment|      8.54| 11183|\n",
            "|    Co-op apartment|      7.93|  1122|\n",
            "|  House / apartment|       7.8|272868|\n",
            "|   Office apartment|      6.57|  2617|\n",
            "+-------------------+----------+------+\n",
            "\n"
          ]
        }
      ]
    },
    {
      "cell_type": "markdown",
      "source": [
        "A inadimplência foi maior para aqueles com aparatamento alugado. "
      ],
      "metadata": {
        "id": "SrzNgzGJYPmq"
      }
    },
    {
      "cell_type": "code",
      "source": [
        "spark.sql(\"\"\"\n",
        "            select \n",
        "              WEEKDAY_APPR_PROCESS_START,\n",
        "              round(100*avg(TARGET),2) as AVG_TARGET,\n",
        "              count(*) as Volume\n",
        "\n",
        "            from \n",
        "              app_train\n",
        "            group by \n",
        "              WEEKDAY_APPR_PROCESS_START\n",
        "            order by \n",
        "              AVG_TARGET desc\n",
        "\"\"\").show()"
      ],
      "metadata": {
        "colab": {
          "base_uri": "https://localhost:8080/"
        },
        "id": "wdd4lHDmYa1F",
        "outputId": "491d97db-7506-4104-f783-10fa1ecfc260"
      },
      "execution_count": 20,
      "outputs": [
        {
          "output_type": "stream",
          "name": "stdout",
          "text": [
            "+--------------------------+----------+------+\n",
            "|WEEKDAY_APPR_PROCESS_START|AVG_TARGET|Volume|\n",
            "+--------------------------+----------+------+\n",
            "|                   TUESDAY|      8.35| 53901|\n",
            "|                 WEDNESDAY|      8.16| 51934|\n",
            "|                    FRIDAY|      8.15| 50338|\n",
            "|                  THURSDAY|       8.1| 50591|\n",
            "|                    SUNDAY|      7.93| 16181|\n",
            "|                  SATURDAY|      7.89| 33852|\n",
            "|                    MONDAY|      7.76| 50714|\n",
            "+--------------------------+----------+------+\n",
            "\n"
          ]
        }
      ]
    },
    {
      "cell_type": "markdown",
      "source": [
        "O dia de aplicação do empréstimo não parece ser significativo quanto a inadimplência."
      ],
      "metadata": {
        "id": "IockIQ7IZCbP"
      }
    },
    {
      "cell_type": "code",
      "source": [
        "spark.sql(\"\"\"\n",
        "            select \n",
        "              ORGANIZATION_TYPE,\n",
        "              round(100*avg(TARGET),2) as AVG_TARGET,\n",
        "              count(*) as Volume\n",
        "\n",
        "            from \n",
        "              app_train\n",
        "            group by \n",
        "              ORGANIZATION_TYPE\n",
        "            order by \n",
        "              AVG_TARGET desc\n",
        "\"\"\").show(200)"
      ],
      "metadata": {
        "colab": {
          "base_uri": "https://localhost:8080/"
        },
        "id": "vP-klfe8ZQsw",
        "outputId": "69f3669a-2123-4994-f843-279a90b0901a"
      },
      "execution_count": 21,
      "outputs": [
        {
          "output_type": "stream",
          "name": "stdout",
          "text": [
            "+--------------------+----------+------+\n",
            "|   ORGANIZATION_TYPE|AVG_TARGET|Volume|\n",
            "+--------------------+----------+------+\n",
            "|   Transport: type 3|     15.75|  1187|\n",
            "|   Industry: type 13|     13.43|    67|\n",
            "|    Industry: type 8|      12.5|    24|\n",
            "|          Restaurant|     11.71|  1811|\n",
            "|        Construction|     11.68|  6721|\n",
            "|            Cleaning|     11.15|   260|\n",
            "|    Industry: type 1|     11.07|  1039|\n",
            "|    Industry: type 3|     10.62|  3278|\n",
            "|             Realtor|     10.61|   396|\n",
            "|         Agriculture|     10.47|  2454|\n",
            "|       Trade: type 3|     10.34|  3492|\n",
            "|       Self-employed|     10.17| 38412|\n",
            "|    Industry: type 4|     10.15|   877|\n",
            "|            Security|      9.98|  3247|\n",
            "|       Trade: type 7|      9.45|  7831|\n",
            "|Business Entity T...|       9.3| 67992|\n",
            "|   Transport: type 4|      9.28|  5398|\n",
            "|              Mobile|      9.15|   317|\n",
            "|       Trade: type 1|      8.91|   348|\n",
            "|   Industry: type 11|      8.65|  2704|\n",
            "|Business Entity T...|      8.53| 10553|\n",
            "|              Postal|      8.44|  2157|\n",
            "|         Advertising|      8.16|   429|\n",
            "|Business Entity T...|      8.14|  5984|\n",
            "|    Industry: type 7|      8.03|  1307|\n",
            "|             Housing|      7.94|  2958|\n",
            "|      Legal Services|      7.87|   305|\n",
            "|   Transport: type 2|       7.8|  2204|\n",
            "|               Other|      7.64| 16683|\n",
            "|             Telecom|      7.63|   577|\n",
            "|    Industry: type 2|      7.21|   458|\n",
            "|           Emergency|      7.14|   560|\n",
            "|    Industry: type 6|      7.14|   112|\n",
            "|        Kindergarten|      7.03|  6880|\n",
            "|       Trade: type 2|       7.0|  1900|\n",
            "|          Government|      6.98| 10404|\n",
            "|    Industry: type 5|      6.84|   599|\n",
            "|    Industry: type 9|      6.68|  3368|\n",
            "|         Electricity|      6.63|   950|\n",
            "|            Services|       6.6|  1575|\n",
            "|            Medicine|      6.58| 11193|\n",
            "|   Industry: type 10|      6.42|   109|\n",
            "|               Hotel|      6.42|   966|\n",
            "|       Trade: type 5|      6.12|    49|\n",
            "|              School|      5.91|  8893|\n",
            "|            Religion|      5.88|    85|\n",
            "|           Insurance|       5.7|   597|\n",
            "|             Culture|      5.54|   379|\n",
            "|                 XNA|       5.4| 55374|\n",
            "|                Bank|      5.19|  2507|\n",
            "|            Military|      5.13|  2634|\n",
            "|              Police|       5.0|  2341|\n",
            "|          University|       4.9|  1327|\n",
            "| Security Ministries|      4.86|  1974|\n",
            "|       Trade: type 6|       4.6|   631|\n",
            "|   Transport: type 1|      4.48|   201|\n",
            "|   Industry: type 12|      3.79|   369|\n",
            "|       Trade: type 4|      3.13|    64|\n",
            "+--------------------+----------+------+\n",
            "\n"
          ]
        }
      ]
    },
    {
      "cell_type": "markdown",
      "source": [
        "A inadimplência varia entre 8 e 16 % entre os diferentes tipos de empresas onde trabalham os clientes."
      ],
      "metadata": {
        "id": "wBb_-NYbZ5xv"
      }
    },
    {
      "cell_type": "code",
      "source": [
        "spark.sql(\"\"\"\n",
        "            select \n",
        "              FONDKAPREMONT_MODE,\n",
        "              round(100*avg(TARGET),2) as AVG_TARGET,\n",
        "              count(*) as Volume\n",
        "\n",
        "            from \n",
        "              app_train\n",
        "            group by \n",
        "              FONDKAPREMONT_MODE\n",
        "            order by \n",
        "              AVG_TARGET desc\n",
        "\"\"\").show()"
      ],
      "metadata": {
        "colab": {
          "base_uri": "https://localhost:8080/"
        },
        "id": "asdz4Za2aNvh",
        "outputId": "24cb56c8-cd17-4ece-988e-84ae8ae2bdfe"
      },
      "execution_count": 22,
      "outputs": [
        {
          "output_type": "stream",
          "name": "stdout",
          "text": [
            "+--------------------+----------+------+\n",
            "|  FONDKAPREMONT_MODE|AVG_TARGET|Volume|\n",
            "+--------------------+----------+------+\n",
            "|                null|      8.62|210295|\n",
            "|       not specified|      7.54|  5687|\n",
            "|    reg oper account|      6.98| 73830|\n",
            "|reg oper spec acc...|      6.56| 12080|\n",
            "|    org spec account|      5.82|  5619|\n",
            "+--------------------+----------+------+\n",
            "\n"
          ]
        }
      ]
    },
    {
      "cell_type": "code",
      "source": [
        "spark.sql(\"\"\"\n",
        "            select \n",
        "              HOUSETYPE_MODE,\n",
        "              round(100*avg(TARGET),2) as AVG_TARGET,\n",
        "              count(*) as Volume\n",
        "\n",
        "            from \n",
        "              app_train\n",
        "            group by \n",
        "              HOUSETYPE_MODE\n",
        "            order by \n",
        "              AVG_TARGET desc\n",
        "\"\"\").show()"
      ],
      "metadata": {
        "colab": {
          "base_uri": "https://localhost:8080/"
        },
        "id": "EOPUsQ-0a6G3",
        "outputId": "52aaaa26-bdd2-404d-aa61-b2dc0448082d"
      },
      "execution_count": 23,
      "outputs": [
        {
          "output_type": "stream",
          "name": "stdout",
          "text": [
            "+----------------+----------+------+\n",
            "|  HOUSETYPE_MODE|AVG_TARGET|Volume|\n",
            "+----------------+----------+------+\n",
            "|specific housing|     10.14|  1499|\n",
            "|            null|      9.15|154297|\n",
            "|  terraced house|       8.5|  1212|\n",
            "|  block of flats|      6.94|150503|\n",
            "+----------------+----------+------+\n",
            "\n"
          ]
        }
      ]
    },
    {
      "cell_type": "code",
      "source": [
        "spark.sql(\"\"\"\n",
        "            select \n",
        "              WALLSMATERIAL_MODE,\n",
        "              round(100*avg(TARGET),2) as AVG_TARGET,\n",
        "              count(*) as Volume\n",
        "\n",
        "            from \n",
        "              app_train\n",
        "            group by \n",
        "              WALLSMATERIAL_MODE\n",
        "            order by \n",
        "              AVG_TARGET desc\n",
        "\"\"\").show()"
      ],
      "metadata": {
        "colab": {
          "base_uri": "https://localhost:8080/"
        },
        "id": "xYbDLnlybVUL",
        "outputId": "16e37540-22cb-41f9-ef99-1b6dad5c2d80"
      },
      "execution_count": 24,
      "outputs": [
        {
          "output_type": "stream",
          "name": "stdout",
          "text": [
            "+------------------+----------+------+\n",
            "|WALLSMATERIAL_MODE|AVG_TARGET|Volume|\n",
            "+------------------+----------+------+\n",
            "|            Wooden|       9.7|  5362|\n",
            "|              null|      9.13|156341|\n",
            "|            Others|      8.31|  1625|\n",
            "|             Mixed|      7.53|  2296|\n",
            "|      Stone, brick|      7.41| 64815|\n",
            "|             Block|      7.02|  9253|\n",
            "|             Panel|      6.35| 66040|\n",
            "|        Monolithic|      4.72|  1779|\n",
            "+------------------+----------+------+\n",
            "\n"
          ]
        }
      ]
    },
    {
      "cell_type": "code",
      "source": [
        "spark.sql(\"\"\"\n",
        "            select \n",
        "              EMERGENCYSTATE_MODE,\n",
        "              round(100*avg(TARGET),2) as AVG_TARGET,\n",
        "              count(*) as Volume\n",
        "\n",
        "            from \n",
        "              app_train\n",
        "            group by \n",
        "              EMERGENCYSTATE_MODE\n",
        "            order by \n",
        "              AVG_TARGET desc\n",
        "\"\"\").show()"
      ],
      "metadata": {
        "colab": {
          "base_uri": "https://localhost:8080/"
        },
        "id": "99EQ0RQUbvod",
        "outputId": "8be0ff02-f842-4848-ed1e-40382f8a269f"
      },
      "execution_count": 25,
      "outputs": [
        {
          "output_type": "stream",
          "name": "stdout",
          "text": [
            "+-------------------+----------+------+\n",
            "|EMERGENCYSTATE_MODE|AVG_TARGET|Volume|\n",
            "+-------------------+----------+------+\n",
            "|                Yes|      9.58|  2328|\n",
            "|               null|      9.26|145755|\n",
            "|                 No|      6.96|159428|\n",
            "+-------------------+----------+------+\n",
            "\n"
          ]
        }
      ]
    },
    {
      "cell_type": "code",
      "source": [
        "#tabela de modelagem\n",
        "app_train.show()"
      ],
      "metadata": {
        "colab": {
          "base_uri": "https://localhost:8080/"
        },
        "id": "qOIPwsJrcYRY",
        "outputId": "569273c0-4e0d-4c4f-a016-e8a23f34cde6"
      },
      "execution_count": 26,
      "outputs": [
        {
          "output_type": "stream",
          "name": "stdout",
          "text": [
            "+----------+------+------------------+-----------+------------+---------------+------------+----------------+----------+-----------+---------------+---------------+--------------------+--------------------+--------------------+-----------------+--------------------------+----------+-------------+-----------------+---------------+-----------+----------+--------------+---------------+----------------+----------+----------+---------------+---------------+--------------------+---------------------------+--------------------------+-----------------------+--------------------------+--------------------------+---------------------------+----------------------+----------------------+-----------------------+--------------------+-------------------+-------------------+-------------------+--------------+----------------+---------------------------+------------------+--------------+-------------+-------------+-------------+-------------+------------+--------------------+--------------+-----------------------+-----------------+---------------+-----------------+----------------------------+----------------+---------------+--------------+--------------+--------------+--------------+-------------+---------------------+---------------+------------------------+------------------+---------------+-----------------+----------------------------+------------------+---------------+--------------+--------------+--------------+--------------+-------------+---------------------+---------------+------------------------+------------------+------------------+--------------+--------------+------------------+-------------------+------------------------+------------------------+------------------------+------------------------+----------------------+---------------+---------------+---------------+---------------+---------------+---------------+---------------+---------------+----------------+----------------+----------------+----------------+----------------+----------------+----------------+----------------+----------------+----------------+----------------+----------------+--------------------------+-------------------------+--------------------------+-------------------------+-------------------------+--------------------------+\n",
            "|SK_ID_CURR|TARGET|NAME_CONTRACT_TYPE|CODE_GENDER|FLAG_OWN_CAR|FLAG_OWN_REALTY|CNT_CHILDREN|AMT_INCOME_TOTAL|AMT_CREDIT|AMT_ANNUITY|AMT_GOODS_PRICE|NAME_TYPE_SUITE|    NAME_INCOME_TYPE| NAME_EDUCATION_TYPE|  NAME_FAMILY_STATUS|NAME_HOUSING_TYPE|REGION_POPULATION_RELATIVE|DAYS_BIRTH|DAYS_EMPLOYED|DAYS_REGISTRATION|DAYS_ID_PUBLISH|OWN_CAR_AGE|FLAG_MOBIL|FLAG_EMP_PHONE|FLAG_WORK_PHONE|FLAG_CONT_MOBILE|FLAG_PHONE|FLAG_EMAIL|OCCUPATION_TYPE|CNT_FAM_MEMBERS|REGION_RATING_CLIENT|REGION_RATING_CLIENT_W_CITY|WEEKDAY_APPR_PROCESS_START|HOUR_APPR_PROCESS_START|REG_REGION_NOT_LIVE_REGION|REG_REGION_NOT_WORK_REGION|LIVE_REGION_NOT_WORK_REGION|REG_CITY_NOT_LIVE_CITY|REG_CITY_NOT_WORK_CITY|LIVE_CITY_NOT_WORK_CITY|   ORGANIZATION_TYPE|       EXT_SOURCE_1|       EXT_SOURCE_2|       EXT_SOURCE_3|APARTMENTS_AVG|BASEMENTAREA_AVG|YEARS_BEGINEXPLUATATION_AVG|   YEARS_BUILD_AVG|COMMONAREA_AVG|ELEVATORS_AVG|ENTRANCES_AVG|FLOORSMAX_AVG|FLOORSMIN_AVG|LANDAREA_AVG|LIVINGAPARTMENTS_AVG|LIVINGAREA_AVG|NONLIVINGAPARTMENTS_AVG|NONLIVINGAREA_AVG|APARTMENTS_MODE|BASEMENTAREA_MODE|YEARS_BEGINEXPLUATATION_MODE|YEARS_BUILD_MODE|COMMONAREA_MODE|ELEVATORS_MODE|ENTRANCES_MODE|FLOORSMAX_MODE|FLOORSMIN_MODE|LANDAREA_MODE|LIVINGAPARTMENTS_MODE|LIVINGAREA_MODE|NONLIVINGAPARTMENTS_MODE|NONLIVINGAREA_MODE|APARTMENTS_MEDI|BASEMENTAREA_MEDI|YEARS_BEGINEXPLUATATION_MEDI|  YEARS_BUILD_MEDI|COMMONAREA_MEDI|ELEVATORS_MEDI|ENTRANCES_MEDI|FLOORSMAX_MEDI|FLOORSMIN_MEDI|LANDAREA_MEDI|LIVINGAPARTMENTS_MEDI|LIVINGAREA_MEDI|NONLIVINGAPARTMENTS_MEDI|NONLIVINGAREA_MEDI|FONDKAPREMONT_MODE|HOUSETYPE_MODE|TOTALAREA_MODE|WALLSMATERIAL_MODE|EMERGENCYSTATE_MODE|OBS_30_CNT_SOCIAL_CIRCLE|DEF_30_CNT_SOCIAL_CIRCLE|OBS_60_CNT_SOCIAL_CIRCLE|DEF_60_CNT_SOCIAL_CIRCLE|DAYS_LAST_PHONE_CHANGE|FLAG_DOCUMENT_2|FLAG_DOCUMENT_3|FLAG_DOCUMENT_4|FLAG_DOCUMENT_5|FLAG_DOCUMENT_6|FLAG_DOCUMENT_7|FLAG_DOCUMENT_8|FLAG_DOCUMENT_9|FLAG_DOCUMENT_10|FLAG_DOCUMENT_11|FLAG_DOCUMENT_12|FLAG_DOCUMENT_13|FLAG_DOCUMENT_14|FLAG_DOCUMENT_15|FLAG_DOCUMENT_16|FLAG_DOCUMENT_17|FLAG_DOCUMENT_18|FLAG_DOCUMENT_19|FLAG_DOCUMENT_20|FLAG_DOCUMENT_21|AMT_REQ_CREDIT_BUREAU_HOUR|AMT_REQ_CREDIT_BUREAU_DAY|AMT_REQ_CREDIT_BUREAU_WEEK|AMT_REQ_CREDIT_BUREAU_MON|AMT_REQ_CREDIT_BUREAU_QRT|AMT_REQ_CREDIT_BUREAU_YEAR|\n",
            "+----------+------+------------------+-----------+------------+---------------+------------+----------------+----------+-----------+---------------+---------------+--------------------+--------------------+--------------------+-----------------+--------------------------+----------+-------------+-----------------+---------------+-----------+----------+--------------+---------------+----------------+----------+----------+---------------+---------------+--------------------+---------------------------+--------------------------+-----------------------+--------------------------+--------------------------+---------------------------+----------------------+----------------------+-----------------------+--------------------+-------------------+-------------------+-------------------+--------------+----------------+---------------------------+------------------+--------------+-------------+-------------+-------------+-------------+------------+--------------------+--------------+-----------------------+-----------------+---------------+-----------------+----------------------------+----------------+---------------+--------------+--------------+--------------+--------------+-------------+---------------------+---------------+------------------------+------------------+---------------+-----------------+----------------------------+------------------+---------------+--------------+--------------+--------------+--------------+-------------+---------------------+---------------+------------------------+------------------+------------------+--------------+--------------+------------------+-------------------+------------------------+------------------------+------------------------+------------------------+----------------------+---------------+---------------+---------------+---------------+---------------+---------------+---------------+---------------+----------------+----------------+----------------+----------------+----------------+----------------+----------------+----------------+----------------+----------------+----------------+----------------+--------------------------+-------------------------+--------------------------+-------------------------+-------------------------+--------------------------+\n",
            "|    100002|     1|        Cash loans|          M|           N|              Y|           0|        202500.0|  406597.5|    24700.5|       351000.0|  Unaccompanied|             Working|Secondary / secon...|Single / not married|House / apartment|                  0.018801|     -9461|         -637|          -3648.0|          -2120|       null|         1|             1|              0|               1|         1|         0|       Laborers|            1.0|                   2|                          2|                 WEDNESDAY|                     10|                         0|                         0|                          0|                     0|                     0|                      0|Business Entity T...|0.08303696739132256| 0.2629485927471776|0.13937578009978951|        0.0247|          0.0369|                     0.9722|            0.6192|        0.0143|          0.0|        0.069|       0.0833|        0.125|      0.0369|              0.0202|         0.019|                    0.0|              0.0|         0.0252|           0.0383|                      0.9722|          0.6341|         0.0144|           0.0|         0.069|        0.0833|         0.125|       0.0377|                0.022|         0.0198|                     0.0|               0.0|          0.025|           0.0369|                      0.9722|            0.6243|         0.0144|           0.0|         0.069|        0.0833|         0.125|       0.0375|               0.0205|         0.0193|                     0.0|               0.0|  reg oper account|block of flats|        0.0149|      Stone, brick|                 No|                     2.0|                     2.0|                     2.0|                     2.0|               -1134.0|              0|              1|              0|              0|              0|              0|              0|              0|               0|               0|               0|               0|               0|               0|               0|               0|               0|               0|               0|               0|                       0.0|                      0.0|                       0.0|                      0.0|                      0.0|                       1.0|\n",
            "|    100003|     0|        Cash loans|          F|           N|              N|           0|        270000.0| 1293502.5|    35698.5|      1129500.0|         Family|       State servant|    Higher education|             Married|House / apartment|      0.003540999999999999|    -16765|        -1188|          -1186.0|           -291|       null|         1|             1|              0|               1|         1|         0|     Core staff|            2.0|                   1|                          1|                    MONDAY|                     11|                         0|                         0|                          0|                     0|                     0|                      0|              School| 0.3112673113812225| 0.6222457752555098|               null|        0.0959|          0.0529|                     0.9851|0.7959999999999999|        0.0605|         0.08|       0.0345|       0.2917|       0.3333|       0.013|              0.0773|        0.0549|                 0.0039|           0.0098|         0.0924|           0.0538|                      0.9851|           0.804|         0.0497|        0.0806|        0.0345|        0.2917|        0.3333|       0.0128|                0.079|         0.0554|                     0.0|               0.0|         0.0968|           0.0529|                      0.9851|            0.7987|         0.0608|          0.08|        0.0345|        0.2917|        0.3333|       0.0132|               0.0787|         0.0558|                  0.0039|              0.01|  reg oper account|block of flats|        0.0714|             Block|                 No|                     1.0|                     0.0|                     1.0|                     0.0|                -828.0|              0|              1|              0|              0|              0|              0|              0|              0|               0|               0|               0|               0|               0|               0|               0|               0|               0|               0|               0|               0|                       0.0|                      0.0|                       0.0|                      0.0|                      0.0|                       0.0|\n",
            "|    100004|     0|   Revolving loans|          M|           Y|              Y|           0|         67500.0|  135000.0|     6750.0|       135000.0|  Unaccompanied|             Working|Secondary / secon...|Single / not married|House / apartment|                  0.010032|    -19046|         -225|          -4260.0|          -2531|       26.0|         1|             1|              1|               1|         1|         0|       Laborers|            1.0|                   2|                          2|                    MONDAY|                      9|                         0|                         0|                          0|                     0|                     0|                      0|          Government|               null| 0.5559120833904428| 0.7295666907060153|          null|            null|                       null|              null|          null|         null|         null|         null|         null|        null|                null|          null|                   null|             null|           null|             null|                        null|            null|           null|          null|          null|          null|          null|         null|                 null|           null|                    null|              null|           null|             null|                        null|              null|           null|          null|          null|          null|          null|         null|                 null|           null|                    null|              null|              null|          null|          null|              null|               null|                     0.0|                     0.0|                     0.0|                     0.0|                -815.0|              0|              0|              0|              0|              0|              0|              0|              0|               0|               0|               0|               0|               0|               0|               0|               0|               0|               0|               0|               0|                       0.0|                      0.0|                       0.0|                      0.0|                      0.0|                       0.0|\n",
            "|    100006|     0|        Cash loans|          F|           N|              Y|           0|        135000.0|  312682.5|    29686.5|       297000.0|  Unaccompanied|             Working|Secondary / secon...|      Civil marriage|House / apartment|                  0.008019|    -19005|        -3039|          -9833.0|          -2437|       null|         1|             1|              0|               1|         0|         0|       Laborers|            2.0|                   2|                          2|                 WEDNESDAY|                     17|                         0|                         0|                          0|                     0|                     0|                      0|Business Entity T...|               null| 0.6504416904014653|               null|          null|            null|                       null|              null|          null|         null|         null|         null|         null|        null|                null|          null|                   null|             null|           null|             null|                        null|            null|           null|          null|          null|          null|          null|         null|                 null|           null|                    null|              null|           null|             null|                        null|              null|           null|          null|          null|          null|          null|         null|                 null|           null|                    null|              null|              null|          null|          null|              null|               null|                     2.0|                     0.0|                     2.0|                     0.0|                -617.0|              0|              1|              0|              0|              0|              0|              0|              0|               0|               0|               0|               0|               0|               0|               0|               0|               0|               0|               0|               0|                      null|                     null|                      null|                     null|                     null|                      null|\n",
            "|    100007|     0|        Cash loans|          M|           N|              Y|           0|        121500.0|  513000.0|    21865.5|       513000.0|  Unaccompanied|             Working|Secondary / secon...|Single / not married|House / apartment|                  0.028663|    -19932|        -3038|          -4311.0|          -3458|       null|         1|             1|              0|               1|         0|         0|     Core staff|            1.0|                   2|                          2|                  THURSDAY|                     11|                         0|                         0|                          0|                     0|                     1|                      1|            Religion|               null| 0.3227382869704046|               null|          null|            null|                       null|              null|          null|         null|         null|         null|         null|        null|                null|          null|                   null|             null|           null|             null|                        null|            null|           null|          null|          null|          null|          null|         null|                 null|           null|                    null|              null|           null|             null|                        null|              null|           null|          null|          null|          null|          null|         null|                 null|           null|                    null|              null|              null|          null|          null|              null|               null|                     0.0|                     0.0|                     0.0|                     0.0|               -1106.0|              0|              0|              0|              0|              0|              0|              1|              0|               0|               0|               0|               0|               0|               0|               0|               0|               0|               0|               0|               0|                       0.0|                      0.0|                       0.0|                      0.0|                      0.0|                       0.0|\n",
            "|    100008|     0|        Cash loans|          M|           N|              Y|           0|         99000.0|  490495.5|    27517.5|       454500.0|Spouse, partner|       State servant|Secondary / secon...|             Married|House / apartment|      0.035792000000000004|    -16941|        -1588|          -4970.0|           -477|       null|         1|             1|              1|               1|         1|         0|       Laborers|            2.0|                   2|                          2|                 WEDNESDAY|                     16|                         0|                         0|                          0|                     0|                     0|                      0|               Other|               null| 0.3542247319929012| 0.6212263380626669|          null|            null|                       null|              null|          null|         null|         null|         null|         null|        null|                null|          null|                   null|             null|           null|             null|                        null|            null|           null|          null|          null|          null|          null|         null|                 null|           null|                    null|              null|           null|             null|                        null|              null|           null|          null|          null|          null|          null|         null|                 null|           null|                    null|              null|              null|          null|          null|              null|               null|                     0.0|                     0.0|                     0.0|                     0.0|               -2536.0|              0|              1|              0|              0|              0|              0|              0|              0|               0|               0|               0|               0|               0|               0|               0|               0|               0|               0|               0|               0|                       0.0|                      0.0|                       0.0|                      0.0|                      1.0|                       1.0|\n",
            "|    100009|     0|        Cash loans|          F|           Y|              Y|           1|        171000.0| 1560726.0|    41301.0|      1395000.0|  Unaccompanied|Commercial associate|    Higher education|             Married|House / apartment|      0.035792000000000004|    -13778|        -3130|          -1213.0|           -619|       17.0|         1|             1|              0|               1|         1|         0|    Accountants|            3.0|                   2|                          2|                    SUNDAY|                     16|                         0|                         0|                          0|                     0|                     0|                      0|Business Entity T...| 0.7747614130547695| 0.7239998516953141| 0.4920600938649263|          null|            null|                       null|              null|          null|         null|         null|         null|         null|        null|                null|          null|                   null|             null|           null|             null|                        null|            null|           null|          null|          null|          null|          null|         null|                 null|           null|                    null|              null|           null|             null|                        null|              null|           null|          null|          null|          null|          null|         null|                 null|           null|                    null|              null|              null|          null|          null|              null|               null|                     1.0|                     0.0|                     1.0|                     0.0|               -1562.0|              0|              0|              0|              0|              0|              0|              1|              0|               0|               0|               0|               0|               1|               0|               0|               0|               0|               0|               0|               0|                       0.0|                      0.0|                       0.0|                      1.0|                      1.0|                       2.0|\n",
            "|    100010|     0|        Cash loans|          M|           Y|              Y|           0|        360000.0| 1530000.0|    42075.0|      1530000.0|  Unaccompanied|       State servant|    Higher education|             Married|House / apartment|      0.003121999999999...|    -18850|         -449|          -4597.0|          -2379|        8.0|         1|             1|              1|               1|         0|         0|       Managers|            2.0|                   3|                          3|                    MONDAY|                     16|                         0|                         0|                          0|                     0|                     1|                      1|               Other|               null| 0.7142792864482229| 0.5406544504453575|          null|            null|                       null|              null|          null|         null|         null|         null|         null|        null|                null|          null|                   null|             null|           null|             null|                        null|            null|           null|          null|          null|          null|          null|         null|                 null|           null|                    null|              null|           null|             null|                        null|              null|           null|          null|          null|          null|          null|         null|                 null|           null|                    null|              null|              null|          null|          null|              null|               null|                     2.0|                     0.0|                     2.0|                     0.0|               -1070.0|              0|              1|              0|              0|              0|              0|              0|              0|               0|               0|               0|               0|               0|               0|               0|               0|               0|               0|               0|               0|                       0.0|                      0.0|                       0.0|                      0.0|                      0.0|                       0.0|\n",
            "|    100011|     0|        Cash loans|          F|           N|              Y|           0|        112500.0| 1019610.0|    33826.5|       913500.0|       Children|           Pensioner|Secondary / secon...|             Married|House / apartment|                  0.018634|    -20099|       365243|          -7427.0|          -3514|       null|         1|             0|              0|               1|         0|         0|           null|            2.0|                   2|                          2|                 WEDNESDAY|                     14|                         0|                         0|                          0|                     0|                     0|                      0|                 XNA| 0.5873340468730377|0.20574728800732814| 0.7517237147741489|          null|            null|                       null|              null|          null|         null|         null|         null|         null|        null|                null|          null|                   null|             null|           null|             null|                        null|            null|           null|          null|          null|          null|          null|         null|                 null|           null|                    null|              null|           null|             null|                        null|              null|           null|          null|          null|          null|          null|         null|                 null|           null|                    null|              null|              null|          null|          null|              null|               null|                     1.0|                     0.0|                     1.0|                     0.0|                   0.0|              0|              1|              0|              0|              0|              0|              0|              0|               0|               0|               0|               0|               0|               0|               0|               0|               0|               0|               0|               0|                       0.0|                      0.0|                       0.0|                      0.0|                      0.0|                       1.0|\n",
            "|    100012|     0|   Revolving loans|          M|           N|              Y|           0|        135000.0|  405000.0|    20250.0|       405000.0|  Unaccompanied|             Working|Secondary / secon...|Single / not married|House / apartment|      0.019688999999999998|    -14469|        -2019|         -14437.0|          -3992|       null|         1|             1|              0|               1|         0|         0|       Laborers|            1.0|                   2|                          2|                  THURSDAY|                      8|                         0|                         0|                          0|                     0|                     0|                      0|         Electricity|               null| 0.7466436294590924|               null|          null|            null|                       null|              null|          null|         null|         null|         null|         null|        null|                null|          null|                   null|             null|           null|             null|                        null|            null|           null|          null|          null|          null|          null|         null|                 null|           null|                    null|              null|           null|             null|                        null|              null|           null|          null|          null|          null|          null|         null|                 null|           null|                    null|              null|              null|          null|          null|              null|               null|                     2.0|                     0.0|                     2.0|                     0.0|               -1673.0|              0|              0|              0|              0|              0|              0|              0|              0|               0|               0|               0|               0|               0|               0|               0|               0|               0|               0|               0|               0|                      null|                     null|                      null|                     null|                     null|                      null|\n",
            "|    100014|     0|        Cash loans|          F|           N|              Y|           1|        112500.0|  652500.0|    21177.0|       652500.0|  Unaccompanied|             Working|    Higher education|             Married|House / apartment|                    0.0228|    -10197|         -679|          -4427.0|           -738|       null|         1|             1|              0|               1|         0|         0|     Core staff|            3.0|                   2|                          2|                  SATURDAY|                     15|                         0|                         0|                          0|                     0|                     0|                      0|            Medicine| 0.3197601716755032| 0.6518623334244781|  0.363945238612397|          null|            null|                       null|              null|          null|         null|         null|         null|         null|        null|                null|          null|                   null|             null|           null|             null|                        null|            null|           null|          null|          null|          null|          null|         null|                 null|           null|                    null|              null|           null|             null|                        null|              null|           null|          null|          null|          null|          null|         null|                 null|           null|                    null|              null|              null|          null|          null|              null|               null|                     0.0|                     0.0|                     0.0|                     0.0|                -844.0|              0|              1|              0|              0|              0|              0|              0|              0|               0|               0|               0|               0|               0|               0|               0|               0|               0|               0|               0|               0|                       0.0|                      0.0|                       0.0|                      1.0|                      0.0|                       0.0|\n",
            "|    100015|     0|        Cash loans|          F|           N|              Y|           0|       38419.155|  148365.0|    10678.5|       135000.0|       Children|           Pensioner|Secondary / secon...|             Married|House / apartment|                  0.015221|    -20417|       365243|          -5246.0|          -2512|       null|         1|             0|              0|               1|         1|         0|           null|            2.0|                   2|                          2|                    FRIDAY|                      7|                         0|                         0|                          0|                     0|                     0|                      0|                 XNA| 0.7220444501416448| 0.5551831615131809| 0.6528965519806539|          null|            null|                       null|              null|          null|         null|         null|         null|         null|        null|                null|          null|                   null|             null|           null|             null|                        null|            null|           null|          null|          null|          null|          null|         null|                 null|           null|                    null|              null|           null|             null|                        null|              null|           null|          null|          null|          null|          null|         null|                 null|           null|                    null|              null|              null|          null|          null|              null|               null|                     0.0|                     0.0|                     0.0|                     0.0|               -2396.0|              0|              0|              0|              0|              1|              0|              0|              0|               0|               0|               0|               0|               0|               0|               0|               0|               0|               0|               0|               0|                       0.0|                      0.0|                       0.0|                      0.0|                      0.0|                       2.0|\n",
            "|    100016|     0|        Cash loans|          F|           N|              Y|           0|         67500.0|   80865.0|     5881.5|        67500.0|  Unaccompanied|             Working|Secondary / secon...|             Married|House / apartment|                  0.031329|    -13439|        -2717|           -311.0|          -3227|       null|         1|             1|              1|               1|         1|         0|       Laborers|            2.0|                   2|                          2|                    FRIDAY|                     10|                         0|                         0|                          0|                     0|                     0|                      0|Business Entity T...| 0.4648311169632833| 0.7150418188660659| 0.1766525794312139|        0.0825|            null|                     0.9811|              null|          null|          0.0|       0.2069|       0.1667|         null|      0.0135|                null|        0.0778|                   null|              0.0|          0.084|             null|                      0.9811|            null|           null|           0.0|        0.2069|        0.1667|          null|       0.0138|                 null|          0.081|                    null|               0.0|         0.0833|             null|                      0.9811|              null|           null|           0.0|        0.2069|        0.1667|          null|       0.0137|                 null|         0.0792|                    null|               0.0|  reg oper account|block of flats|        0.0612|              null|                 No|                     0.0|                     0.0|                     0.0|                     0.0|               -2370.0|              0|              1|              0|              0|              0|              0|              0|              0|               0|               0|               0|               0|               0|               0|               0|               0|               0|               0|               0|               0|                       0.0|                      0.0|                       0.0|                      1.0|                      0.0|                       0.0|\n",
            "|    100017|     0|        Cash loans|          M|           Y|              N|           1|        225000.0|  918468.0|    28966.5|       697500.0|  Unaccompanied|             Working|Secondary / secon...|             Married|House / apartment|      0.016612000000000002|    -14086|        -3028|           -643.0|          -4911|       23.0|         1|             1|              0|               1|         0|         0|        Drivers|            3.0|                   2|                          2|                  THURSDAY|                     13|                         0|                         0|                          0|                     0|                     0|                      0|       Self-employed|               null| 0.5669066132460429| 0.7700870700124128|        0.1474|          0.0973|                     0.9806|            0.7348|        0.0582|         0.16|       0.1379|       0.3333|        0.375|      0.0931|              0.1202|        0.1397|                    0.0|              0.0|         0.1502|            0.101|                      0.9806|          0.7452|         0.0587|        0.1611|        0.1379|        0.3333|         0.375|       0.0952|               0.1313|         0.1456|                     0.0|               0.0|         0.1489|           0.0973|                      0.9806|            0.7383|         0.0585|          0.16|        0.1379|        0.3333|         0.375|       0.0947|               0.1223|         0.1422|                     0.0|               0.0|  reg oper account|block of flats|        0.1417|             Panel|                 No|                     0.0|                     0.0|                     0.0|                     0.0|                  -4.0|              0|              1|              0|              0|              0|              0|              0|              0|               0|               0|               0|               0|               0|               0|               0|               0|               0|               0|               0|               0|                       0.0|                      0.0|                       0.0|                      0.0|                      0.0|                       1.0|\n",
            "|    100018|     0|        Cash loans|          F|           N|              Y|           0|        189000.0|  773680.5|    32778.0|       679500.0|  Unaccompanied|             Working|Secondary / secon...|             Married|House / apartment|      0.010006000000000001|    -14583|         -203|           -615.0|          -2056|       null|         1|             1|              0|               1|         0|         0|       Laborers|            2.0|                   2|                          1|                    MONDAY|                      9|                         0|                         0|                          0|                     0|                     0|                      0|   Transport: type 2| 0.7219397686622343| 0.6426562048311103|               null|        0.3495|          0.1335|                     0.9985|            0.9796|        0.1143|          0.4|       0.1724|       0.6667|       0.7083|      0.1758|              0.2849|        0.3774|                 0.0193|           0.1001|         0.3561|           0.1386|                      0.9985|          0.9804|         0.1153|        0.4028|        0.1724|        0.6667|        0.7083|       0.1798|               0.3113|         0.3932|                  0.0195|             0.106|         0.3529|           0.1335|                      0.9985|            0.9799|          0.115|           0.4|        0.1724|        0.6667|        0.7083|       0.1789|               0.2899|         0.3842|                  0.0194|            0.1022|  reg oper account|block of flats|        0.3811|             Panel|                 No|                     0.0|                     0.0|                     0.0|                     0.0|                -188.0|              0|              1|              0|              0|              0|              0|              0|              0|               0|               0|               0|               0|               0|               0|               0|               0|               0|               0|               0|               0|                      null|                     null|                      null|                     null|                     null|                      null|\n",
            "|    100019|     0|        Cash loans|          M|           Y|              Y|           0|        157500.0|  299772.0|    20160.0|       247500.0|         Family|             Working|Secondary / secon...|Single / not married| Rented apartment|                  0.020713|     -8728|        -1157|          -3494.0|          -1368|       17.0|         1|             1|              0|               1|         0|         0|       Laborers|            1.0|                   3|                          3|                  SATURDAY|                      6|                         0|                         0|                          0|                     1|                     1|                      0|Business Entity T...|0.11563433726229973|   0.34663398139668| 0.6785676886853644|          null|            null|                       null|              null|          null|         null|         null|         null|         null|        null|                null|          null|                   null|             null|           null|             null|                        null|            null|           null|          null|          null|          null|          null|         null|                 null|           null|                    null|              null|           null|             null|                        null|              null|           null|          null|          null|          null|          null|         null|                 null|           null|                    null|              null|              null|          null|          null|              null|               null|                     0.0|                     0.0|                     0.0|                     0.0|                -925.0|              0|              0|              0|              0|              0|              0|              1|              0|               0|               0|               0|               0|               0|               0|               0|               0|               0|               0|               0|               0|                       0.0|                      0.0|                       0.0|                      0.0|                      0.0|                       1.0|\n",
            "|    100020|     0|        Cash loans|          M|           N|              N|           0|        108000.0|  509602.5|    26149.5|       387000.0|  Unaccompanied|             Working|Secondary / secon...|             Married|House / apartment|                  0.018634|    -12931|        -1317|          -6392.0|          -3866|       null|         1|             1|              0|               1|         0|         0|        Drivers|            2.0|                   2|                          2|                  THURSDAY|                     12|                         0|                         0|                          0|                     1|                     1|                      0|          Government|               null| 0.2363778398884225|0.06210303783729682|          null|            null|                       null|              null|          null|         null|         null|         null|         null|        null|                null|          null|                   null|             null|           null|             null|                        null|            null|           null|          null|          null|          null|          null|         null|                 null|           null|                    null|              null|           null|             null|                        null|              null|           null|          null|          null|          null|          null|         null|                 null|           null|                    null|              null|              null|          null|          null|              null|               null|                     0.0|                     0.0|                     0.0|                     0.0|                  -3.0|              0|              1|              0|              0|              0|              0|              0|              0|               0|               0|               0|               0|               0|               0|               0|               0|               0|               0|               0|               0|                       0.0|                      0.0|                       0.0|                      0.0|                      1.0|                       0.0|\n",
            "|    100021|     0|   Revolving loans|          F|           N|              Y|           1|         81000.0|  270000.0|    13500.0|       270000.0|  Unaccompanied|             Working|Secondary / secon...|             Married|House / apartment|                  0.010966|     -9776|         -191|          -4143.0|          -2427|       null|         1|             1|              0|               1|         0|         0|       Laborers|            3.0|                   2|                          2|                    MONDAY|                     10|                         0|                         0|                          0|                     1|                     1|                      0|        Construction|               null| 0.6835133461914255|               null|          null|            null|                       null|              null|          null|         null|         null|         null|         null|        null|                null|          null|                   null|             null|           null|             null|                        null|            null|           null|          null|          null|          null|          null|         null|                 null|           null|                    null|              null|           null|             null|                        null|              null|           null|          null|          null|          null|          null|         null|                 null|           null|                    null|              null|              null|          null|          null|              null|               null|                     4.0|                     0.0|                     4.0|                     0.0|               -2811.0|              0|              0|              0|              0|              0|              0|              0|              0|               0|               0|               0|               0|               0|               0|               0|               0|               0|               0|               0|               0|                      null|                     null|                      null|                     null|                     null|                      null|\n",
            "|    100022|     0|   Revolving loans|          F|           N|              Y|           0|        112500.0|  157500.0|     7875.0|       157500.0|        Other_A|             Working|Secondary / secon...|               Widow|House / apartment|                   0.04622|    -17718|        -7804|          -8751.0|          -1259|       null|         1|             1|              0|               1|         1|         0|       Laborers|            1.0|                   1|                          1|                    FRIDAY|                     13|                         0|                         0|                          0|                     0|                     0|                      0|             Housing|               null| 0.7064284028871654| 0.5567274263630174|        0.0278|          0.0617|                     0.9881|            0.8368|        0.0018|          0.0|       0.1034|       0.0833|        0.125|      0.0279|              0.0227|         0.029|                    0.0|              0.0|         0.0284|            0.064|                      0.9881|          0.8432|         0.0018|           0.0|        0.1034|        0.0833|         0.125|       0.0286|               0.0248|         0.0302|                     0.0|               0.0|         0.0281|           0.0617|                      0.9881|0.8390000000000001|         0.0018|           0.0|        0.1034|        0.0833|         0.125|       0.0284|               0.0231|         0.0295|                     0.0|               0.0|  reg oper account|block of flats|        0.0238|      Stone, brick|                 No|                     8.0|                     0.0|                     8.0|                     0.0|                -239.0|              0|              1|              0|              0|              0|              0|              0|              0|               0|               0|               0|               0|               0|               0|               0|               0|               0|               0|               0|               0|                       0.0|                      0.0|                       0.0|                      0.0|                      0.0|                       0.0|\n",
            "|    100023|     0|        Cash loans|          F|           N|              Y|           1|         90000.0|  544491.0|    17563.5|       454500.0|  Unaccompanied|       State servant|    Higher education|Single / not married|House / apartment|                  0.015221|    -11348|        -2038|          -1021.0|          -3964|       null|         1|             1|              1|               1|         1|         0|     Core staff|            2.0|                   2|                          2|                    MONDAY|                     12|                         0|                         0|                          0|                     0|                     0|                      0|        Kindergarten|               null| 0.5866171400119664| 0.4776491548517548|          null|            null|                       null|              null|          null|         null|         null|         null|         null|        null|                null|          null|                   null|             null|           null|             null|                        null|            null|           null|          null|          null|          null|          null|         null|                 null|           null|                    null|              null|           null|             null|                        null|              null|           null|          null|          null|          null|          null|         null|                 null|           null|                    null|              null|              null|          null|          null|              null|               null|                     0.0|                     0.0|                     0.0|                     0.0|               -1850.0|              0|              1|              0|              0|              0|              0|              0|              0|               0|               0|               0|               0|               0|               0|               0|               0|               0|               0|               0|               0|                       0.0|                      0.0|                       0.0|                      0.0|                      0.0|                       2.0|\n",
            "+----------+------+------------------+-----------+------------+---------------+------------+----------------+----------+-----------+---------------+---------------+--------------------+--------------------+--------------------+-----------------+--------------------------+----------+-------------+-----------------+---------------+-----------+----------+--------------+---------------+----------------+----------+----------+---------------+---------------+--------------------+---------------------------+--------------------------+-----------------------+--------------------------+--------------------------+---------------------------+----------------------+----------------------+-----------------------+--------------------+-------------------+-------------------+-------------------+--------------+----------------+---------------------------+------------------+--------------+-------------+-------------+-------------+-------------+------------+--------------------+--------------+-----------------------+-----------------+---------------+-----------------+----------------------------+----------------+---------------+--------------+--------------+--------------+--------------+-------------+---------------------+---------------+------------------------+------------------+---------------+-----------------+----------------------------+------------------+---------------+--------------+--------------+--------------+--------------+-------------+---------------------+---------------+------------------------+------------------+------------------+--------------+--------------+------------------+-------------------+------------------------+------------------------+------------------------+------------------------+----------------------+---------------+---------------+---------------+---------------+---------------+---------------+---------------+---------------+----------------+----------------+----------------+----------------+----------------+----------------+----------------+----------------+----------------+----------------+----------------+----------------+--------------------------+-------------------------+--------------------------+-------------------------+-------------------------+--------------------------+\n",
            "only showing top 20 rows\n",
            "\n"
          ]
        }
      ]
    },
    {
      "cell_type": "code",
      "source": [
        "#tabela de bereau\n",
        "bureau.show()"
      ],
      "metadata": {
        "colab": {
          "base_uri": "https://localhost:8080/"
        },
        "id": "lEBAz-Oxc8Ac",
        "outputId": "52ca1137-fc22-451c-b925-07680d6cc35d"
      },
      "execution_count": 27,
      "outputs": [
        {
          "output_type": "stream",
          "name": "stdout",
          "text": [
            "+----------+------------+-------------+---------------+-----------+------------------+-------------------+-----------------+----------------------+------------------+--------------+-------------------+--------------------+----------------------+---------------+------------------+-----------+\n",
            "|SK_ID_CURR|SK_ID_BUREAU|CREDIT_ACTIVE|CREDIT_CURRENCY|DAYS_CREDIT|CREDIT_DAY_OVERDUE|DAYS_CREDIT_ENDDATE|DAYS_ENDDATE_FACT|AMT_CREDIT_MAX_OVERDUE|CNT_CREDIT_PROLONG|AMT_CREDIT_SUM|AMT_CREDIT_SUM_DEBT|AMT_CREDIT_SUM_LIMIT|AMT_CREDIT_SUM_OVERDUE|    CREDIT_TYPE|DAYS_CREDIT_UPDATE|AMT_ANNUITY|\n",
            "+----------+------------+-------------+---------------+-----------+------------------+-------------------+-----------------+----------------------+------------------+--------------+-------------------+--------------------+----------------------+---------------+------------------+-----------+\n",
            "|    215354|     5714462|       Closed|     currency 1|       -497|                 0|             -153.0|           -153.0|                  null|                 0|       91323.0|                0.0|                null|                   0.0|Consumer credit|              -131|       null|\n",
            "|    215354|     5714463|       Active|     currency 1|       -208|                 0|             1075.0|             null|                  null|                 0|      225000.0|           171342.0|                null|                   0.0|    Credit card|               -20|       null|\n",
            "|    215354|     5714464|       Active|     currency 1|       -203|                 0|              528.0|             null|                  null|                 0|      464323.5|               null|                null|                   0.0|Consumer credit|               -16|       null|\n",
            "|    215354|     5714465|       Active|     currency 1|       -203|                 0|               null|             null|                  null|                 0|       90000.0|               null|                null|                   0.0|    Credit card|               -16|       null|\n",
            "|    215354|     5714466|       Active|     currency 1|       -629|                 0|             1197.0|             null|               77674.5|                 0|     2700000.0|               null|                null|                   0.0|Consumer credit|               -21|       null|\n",
            "|    215354|     5714467|       Active|     currency 1|       -273|                 0|            27460.0|             null|                   0.0|                 0|      180000.0|           71017.38|           108982.62|                   0.0|    Credit card|               -31|       null|\n",
            "|    215354|     5714468|       Active|     currency 1|        -43|                 0|               79.0|             null|                   0.0|                 0|       42103.8|            42103.8|                 0.0|                   0.0|Consumer credit|               -22|       null|\n",
            "|    162297|     5714469|       Closed|     currency 1|      -1896|                 0|            -1684.0|          -1710.0|               14985.0|                 0|      76878.45|                0.0|                 0.0|                   0.0|Consumer credit|             -1710|       null|\n",
            "|    162297|     5714470|       Closed|     currency 1|      -1146|                 0|             -811.0|           -840.0|                   0.0|                 0|      103007.7|                0.0|                 0.0|                   0.0|Consumer credit|              -840|       null|\n",
            "|    162297|     5714471|       Active|     currency 1|      -1146|                 0|             -484.0|             null|                   0.0|                 0|        4500.0|                0.0|                 0.0|                   0.0|    Credit card|              -690|       null|\n",
            "|    162297|     5714472|       Active|     currency 1|      -1146|                 0|             -180.0|             null|                   0.0|                 0|      337500.0|                0.0|                 0.0|                   0.0|    Credit card|              -690|       null|\n",
            "|    162297|     5714473|       Closed|     currency 1|      -2456|                 0|             -629.0|           -825.0|                  null|                 0|      675000.0|                0.0|                 0.0|                   0.0|Consumer credit|              -706|       null|\n",
            "|    162297|     5714474|       Active|     currency 1|       -277|                 0|             5261.0|             null|                   0.0|                 0|     7033500.0|               null|                null|                   0.0|       Mortgage|               -31|       null|\n",
            "|    402440|     5714475|       Active|     currency 1|        -96|                 0|              269.0|             null|                   0.0|                 0|       89910.0|            76905.0|                 0.0|                   0.0|Consumer credit|               -22|       null|\n",
            "|    238881|     5714482|       Closed|     currency 1|       -318|                 0|             -187.0|           -187.0|                  null|                 0|           0.0|                0.0|                 0.0|                   0.0|    Credit card|              -185|       null|\n",
            "|    238881|     5714484|       Closed|     currency 1|      -2911|                 0|            -2607.0|          -2604.0|                  null|                 0|       48555.0|               null|                null|                   0.0|Consumer credit|             -2601|       null|\n",
            "|    238881|     5714485|       Closed|     currency 1|      -2148|                 0|            -1595.0|           -987.0|                  null|                 0|      135000.0|               null|                null|                   0.0|Consumer credit|              -984|       null|\n",
            "|    238881|     5714486|       Active|     currency 1|       -381|                 0|               null|             null|                  null|                 0|      450000.0|           520920.0|                null|                   0.0|Consumer credit|                -4|       null|\n",
            "|    238881|     5714487|       Active|     currency 1|        -95|                 0|             1720.0|             null|                  null|                 0|       67500.0|             8131.5|                null|                   0.0|    Credit card|                -7|       null|\n",
            "|    238881|     5714488|       Closed|     currency 1|       -444|                 0|              -77.0|            -77.0|                   0.0|                 0|     107184.06|                0.0|                 0.0|                   0.0|Consumer credit|               -71|       null|\n",
            "+----------+------------+-------------+---------------+-----------+------------------+-------------------+-----------------+----------------------+------------------+--------------+-------------------+--------------------+----------------------+---------------+------------------+-----------+\n",
            "only showing top 20 rows\n",
            "\n"
          ]
        }
      ]
    },
    {
      "cell_type": "code",
      "source": [
        "#verificando a estrutursa da tabela bereau\n",
        "bureau.printSchema()"
      ],
      "metadata": {
        "colab": {
          "base_uri": "https://localhost:8080/"
        },
        "id": "5GETKMPUdWdv",
        "outputId": "ac1e8393-5786-492f-abe4-5e0632d303a5"
      },
      "execution_count": 28,
      "outputs": [
        {
          "output_type": "stream",
          "name": "stdout",
          "text": [
            "root\n",
            " |-- SK_ID_CURR: integer (nullable = true)\n",
            " |-- SK_ID_BUREAU: integer (nullable = true)\n",
            " |-- CREDIT_ACTIVE: string (nullable = true)\n",
            " |-- CREDIT_CURRENCY: string (nullable = true)\n",
            " |-- DAYS_CREDIT: integer (nullable = true)\n",
            " |-- CREDIT_DAY_OVERDUE: integer (nullable = true)\n",
            " |-- DAYS_CREDIT_ENDDATE: double (nullable = true)\n",
            " |-- DAYS_ENDDATE_FACT: double (nullable = true)\n",
            " |-- AMT_CREDIT_MAX_OVERDUE: double (nullable = true)\n",
            " |-- CNT_CREDIT_PROLONG: integer (nullable = true)\n",
            " |-- AMT_CREDIT_SUM: double (nullable = true)\n",
            " |-- AMT_CREDIT_SUM_DEBT: double (nullable = true)\n",
            " |-- AMT_CREDIT_SUM_LIMIT: double (nullable = true)\n",
            " |-- AMT_CREDIT_SUM_OVERDUE: double (nullable = true)\n",
            " |-- CREDIT_TYPE: string (nullable = true)\n",
            " |-- DAYS_CREDIT_UPDATE: integer (nullable = true)\n",
            " |-- AMT_ANNUITY: double (nullable = true)\n",
            "\n"
          ]
        }
      ]
    },
    {
      "cell_type": "code",
      "source": [
        ""
      ],
      "metadata": {
        "id": "VmC-QDiJnb7K"
      },
      "execution_count": 28,
      "outputs": []
    },
    {
      "cell_type": "markdown",
      "source": [
        "Cálculo da volumetria de cada um dos domínios das variáveis do tipo string."
      ],
      "metadata": {
        "id": "Rt1JtLByAbfE"
      }
    },
    {
      "cell_type": "code",
      "source": [
        "spark.sql(\"\"\"\n",
        "            select\n",
        "              CREDIT_ACTIVE,\n",
        "              count(*) as Volume\n",
        "\n",
        "            from\n",
        "              bureau\n",
        "            group by\n",
        "              CREDIT_ACTIVE\n",
        "            order by\n",
        "              Volume desc\n",
        "\"\"\").show()"
      ],
      "metadata": {
        "colab": {
          "base_uri": "https://localhost:8080/"
        },
        "id": "UQ_SsU6AAlWz",
        "outputId": "46142b15-a196-4cf4-fd22-84bb912d3785"
      },
      "execution_count": 29,
      "outputs": [
        {
          "output_type": "stream",
          "name": "stdout",
          "text": [
            "+-------------+-------+\n",
            "|CREDIT_ACTIVE| Volume|\n",
            "+-------------+-------+\n",
            "|       Closed|1079273|\n",
            "|       Active| 630607|\n",
            "|         Sold|   6527|\n",
            "|     Bad debt|     21|\n",
            "+-------------+-------+\n",
            "\n"
          ]
        }
      ]
    },
    {
      "cell_type": "code",
      "source": [
        "spark.sql(\"\"\"\n",
        "            Select\n",
        "              count(*) N_linhas\n",
        "            from bureau\n",
        "\"\"\").show()"
      ],
      "metadata": {
        "colab": {
          "base_uri": "https://localhost:8080/"
        },
        "id": "-p0xBCjtEDqh",
        "outputId": "0086db6b-95de-4660-df65-c11ed715cf01"
      },
      "execution_count": 30,
      "outputs": [
        {
          "output_type": "stream",
          "name": "stdout",
          "text": [
            "+--------+\n",
            "|N_linhas|\n",
            "+--------+\n",
            "| 1716428|\n",
            "+--------+\n",
            "\n"
          ]
        }
      ]
    },
    {
      "cell_type": "markdown",
      "source": [
        "Comparando os dois últimos resultados é possível concluir que o domínio \"Bad debit\" não possui representatividade significativa sobre o negócio por consitutir uma volumetria de apenas 21 eventos frente a quase 2 milhões de linhas da tabela \"bureau\"."
      ],
      "metadata": {
        "id": "gqp9kgGWEtYR"
      }
    },
    {
      "cell_type": "markdown",
      "source": [
        "Tentando \"trocar por miúdos\": O problema de negócio deve ser explorado em função de indicadores preditivos, variáveis explicativas. O termo é bastante sugestivo e significa que deve-se identificar adequadamente ao problema de negócio em questão, as variáveis numéricas que representam o fenômeno. Neste caso, a probabilidade de quitação de um empréstimo. "
      ],
      "metadata": {
        "id": "-zcdKvZWH3Ff"
      }
    },
    {
      "cell_type": "markdown",
      "source": [
        "A recomendação é que seja identificado o parâmetro dentre os dados que exercem grande influência sobre esses."
      ],
      "metadata": {
        "id": "6ByFolBSILdx"
      }
    },
    {
      "cell_type": "code",
      "source": [
        "# carregar dados da tabela metadados\n",
        "metadados = spark.read.csv(\"/content/drive/MyDrive/SQLMMs/InputData/HomeCredit_columns_description.csv\", inferSchema=True, header=True)\n",
        "\n",
        "metadados.registerTempTable('metadados')\n",
        "\n",
        "metadados.count()"
      ],
      "metadata": {
        "colab": {
          "base_uri": "https://localhost:8080/"
        },
        "id": "uZj2VOlzHx2b",
        "outputId": "791ccde6-4ee0-4969-b299-f5dd02900a2e"
      },
      "execution_count": 31,
      "outputs": [
        {
          "output_type": "execute_result",
          "data": {
            "text/plain": [
              "219"
            ]
          },
          "metadata": {},
          "execution_count": 31
        }
      ]
    },
    {
      "cell_type": "code",
      "source": [
        "spark.sql(\"\"\"\n",
        "            select\n",
        "              *\n",
        "            from\n",
        "              metadados\n",
        "            where Table = 'bureau.csv'\n",
        "\"\"\").show(30,False)"
      ],
      "metadata": {
        "colab": {
          "base_uri": "https://localhost:8080/"
        },
        "id": "9EN1slojMvsj",
        "outputId": "2c58f9ff-f74e-4e66-e53a-6cf8ed55ddbc"
      },
      "execution_count": 32,
      "outputs": [
        {
          "output_type": "stream",
          "name": "stdout",
          "text": [
            "+---+----------+----------------------+-------------------------------------------------------------------------------------------------------------------+-------------------------------------+\n",
            "|_c0|Table     |Row                   |Description                                                                                                        |Special                              |\n",
            "+---+----------+----------------------+-------------------------------------------------------------------------------------------------------------------+-------------------------------------+\n",
            "|125|bureau.csv|SK_ID_CURR            |ID of loan in our sample - one loan in our sample can have 0,1,2 or more related previous credits in credit bureau |hashed                               |\n",
            "|126|bureau.csv|SK_BUREAU_ID          |Recoded ID of previous Credit Bureau credit related to our loan (unique coding for each loan application)          |hashed                               |\n",
            "|127|bureau.csv|CREDIT_ACTIVE         |Status of the Credit Bureau (CB) reported credits                                                                  |null                                 |\n",
            "|128|bureau.csv|CREDIT_CURRENCY       |Recoded currency of the Credit Bureau credit                                                                       |recoded                              |\n",
            "|129|bureau.csv|DAYS_CREDIT           |How many days before current application did client apply for Credit Bureau credit                                 |time only relative to the application|\n",
            "|130|bureau.csv|CREDIT_DAY_OVERDUE    |Number of days past due on CB credit at the time of application for related loan in our sample                     |null                                 |\n",
            "|131|bureau.csv|DAYS_CREDIT_ENDDATE   |Remaining duration of CB credit (in days) at the time of application in Home Credit                                |time only relative to the application|\n",
            "|132|bureau.csv|DAYS_ENDDATE_FACT     |Days since CB credit ended at the time of application in Home Credit (only for closed credit)                      |time only relative to the application|\n",
            "|133|bureau.csv|AMT_CREDIT_MAX_OVERDUE|Maximal amount overdue on the Credit Bureau credit so far (at application date of loan in our sample)              |null                                 |\n",
            "|134|bureau.csv|CNT_CREDIT_PROLONG    |How many times was the Credit Bureau credit prolonged                                                              |null                                 |\n",
            "|135|bureau.csv|AMT_CREDIT_SUM        |Current credit amount for the Credit Bureau credit                                                                 |null                                 |\n",
            "|136|bureau.csv|AMT_CREDIT_SUM_DEBT   |Current debt on Credit Bureau credit                                                                               |null                                 |\n",
            "|137|bureau.csv|AMT_CREDIT_SUM_LIMIT  |Current credit limit of credit card reported in Credit Bureau                                                      |null                                 |\n",
            "|138|bureau.csv|AMT_CREDIT_SUM_OVERDUE|Current amount overdue on Credit Bureau credit                                                                     |null                                 |\n",
            "|139|bureau.csv|CREDIT_TYPE           |Type of Credit Bureau credit (Car, cash,...)                                                                       |null                                 |\n",
            "|140|bureau.csv|DAYS_CREDIT_UPDATE    |How many days before loan application did last information about the Credit Bureau credit come                     |time only relative to the application|\n",
            "|141|bureau.csv|AMT_ANNUITY           |Annuity of the Credit Bureau credit                                                                                |null                                 |\n",
            "+---+----------+----------------------+-------------------------------------------------------------------------------------------------------------------+-------------------------------------+\n",
            "\n"
          ]
        }
      ]
    },
    {
      "cell_type": "markdown",
      "source": [
        "Criando um nova tabela para a nova variável."
      ],
      "metadata": {
        "id": "Ap0GQOvxOCs6"
      }
    },
    {
      "cell_type": "code",
      "source": [
        "df_bureau_01 = spark.sql(\"\"\"\n",
        "                          select\n",
        "                            SK_ID_CURR,\n",
        "                            round(avg(DAYS_CREDIT),2) as AVG_DAYS_CREIT\n",
        "\n",
        "                          from\n",
        "                            bureau\n",
        "                          group by\n",
        "                            SK_ID_CURR\n",
        "\"\"\")\n",
        "\n",
        "df_bureau_01.registerTempTable('df_bureau_01')\n",
        "\n",
        "df_bureau_01.count()"
      ],
      "metadata": {
        "colab": {
          "base_uri": "https://localhost:8080/"
        },
        "id": "BZSjppvNOM7z",
        "outputId": "6ad53269-4905-446e-c165-87e45484f48d"
      },
      "execution_count": 33,
      "outputs": [
        {
          "output_type": "execute_result",
          "data": {
            "text/plain": [
              "305811"
            ]
          },
          "metadata": {},
          "execution_count": 33
        }
      ]
    },
    {
      "cell_type": "markdown",
      "source": [
        "Naturalmente a operação de média sobre a variável \"DAYS_CREDIT\" produz uma única saída correspondente a cada indivíduo SK_ID_CURR. Esse processo de agregação entre a tabela principal e a tabela de transações (Bureau) iguala a granulometria dessas tabelas."
      ],
      "metadata": {
        "id": "eWW37g0ZQD2v"
      }
    },
    {
      "cell_type": "code",
      "source": [
        "spark.sql(\"\"\"\n",
        "            select\n",
        "              *\n",
        "            from\n",
        "              df_bureau_01\n",
        "            where\n",
        "              SK_ID_CURR = 100002\n",
        "\"\"\").show()"
      ],
      "metadata": {
        "colab": {
          "base_uri": "https://localhost:8080/"
        },
        "id": "_SwmBpcGR3Ls",
        "outputId": "50eeb530-797c-493d-ed07-5d70b3307c85"
      },
      "execution_count": 34,
      "outputs": [
        {
          "output_type": "stream",
          "name": "stdout",
          "text": [
            "+----------+--------------+\n",
            "|SK_ID_CURR|AVG_DAYS_CREIT|\n",
            "+----------+--------------+\n",
            "|    100002|        -874.0|\n",
            "+----------+--------------+\n",
            "\n"
          ]
        }
      ]
    },
    {
      "cell_type": "markdown",
      "source": [
        "Por que o resultado é negativo (-874.0)?\n",
        "Significa que o novo crédito foi solicitado com média de 874 dias antes da quitação do empréstimo corrente (vigente, em curso)."
      ],
      "metadata": {
        "id": "kt6RFiciSgSI"
      }
    },
    {
      "cell_type": "code",
      "source": [
        "#Exibindo a tabela df_bureau_01\n",
        "df_bureau_01.show()"
      ],
      "metadata": {
        "colab": {
          "base_uri": "https://localhost:8080/"
        },
        "id": "oCaF4_NaR2PO",
        "outputId": "0e77e9db-6734-4695-8a2f-f808416db276"
      },
      "execution_count": 35,
      "outputs": [
        {
          "output_type": "stream",
          "name": "stdout",
          "text": [
            "+----------+--------------+\n",
            "|SK_ID_CURR|AVG_DAYS_CREIT|\n",
            "+----------+--------------+\n",
            "|    341504|        -283.5|\n",
            "|    197603|      -1916.43|\n",
            "|    330299|       -1645.0|\n",
            "|    355377|       -1540.0|\n",
            "|    454739|      -1215.86|\n",
            "|    295286|      -1264.89|\n",
            "|    192082|      -1451.21|\n",
            "|    109608|       -504.33|\n",
            "|    375705|       -896.75|\n",
            "|    380065|       -638.67|\n",
            "|    416191|       -1429.0|\n",
            "|    162260|       -1507.4|\n",
            "|    166160|        -856.0|\n",
            "|    191350|        -151.0|\n",
            "|    258865|        -979.5|\n",
            "|    439807|        -795.2|\n",
            "|    258129|       -434.75|\n",
            "|    133018|      -1261.64|\n",
            "|    338173|      -1318.24|\n",
            "|    338091|       -1022.0|\n",
            "+----------+--------------+\n",
            "only showing top 20 rows\n",
            "\n"
          ]
        }
      ]
    },
    {
      "cell_type": "code",
      "source": [
        "#Exibindo os valores mínimos e máximos da variável \"DAYS_CREDIT\" para cada valor de \"SK_ID_CURR\"\n",
        "spark.sql(\"\"\"\n",
        "            Select\n",
        "              SK_ID_CURR,\n",
        "              min(DAYS_CREDIT) as MIN_DAYS_CREDIT,\n",
        "              max(DAYS_CREDIT) as MAX_DAYS_CREDIT\n",
        "            from\n",
        "              bureau\n",
        "            group by\n",
        "              SK_ID_CURR\n",
        "            order by\n",
        "              SK_ID_CURR\n",
        "\"\"\").show()\n"
      ],
      "metadata": {
        "colab": {
          "base_uri": "https://localhost:8080/"
        },
        "id": "x-Zl6bKJbIhH",
        "outputId": "50c7a315-dd20-403c-875c-73a2ca47f499"
      },
      "execution_count": 36,
      "outputs": [
        {
          "output_type": "stream",
          "name": "stdout",
          "text": [
            "+----------+---------------+---------------+\n",
            "|SK_ID_CURR|MIN_DAYS_CREDIT|MAX_DAYS_CREDIT|\n",
            "+----------+---------------+---------------+\n",
            "|    100001|          -1572|            -49|\n",
            "|    100002|          -1437|           -103|\n",
            "|    100003|          -2586|           -606|\n",
            "|    100004|          -1326|           -408|\n",
            "|    100005|           -373|            -62|\n",
            "|    100007|          -1149|          -1149|\n",
            "|    100008|          -1097|            -78|\n",
            "|    100009|          -2882|           -239|\n",
            "|    100010|          -2741|          -1138|\n",
            "|    100011|          -2508|          -1309|\n",
            "|    100013|          -2070|          -1210|\n",
            "|    100014|          -2308|           -376|\n",
            "|    100015|          -1409|           -319|\n",
            "|    100016|          -1634|           -128|\n",
            "|    100017|          -2881|           -909|\n",
            "|    100019|           -495|           -495|\n",
            "|    100020|           -492|            -90|\n",
            "|    100022|           -385|           -289|\n",
            "|    100023|          -2624|           -157|\n",
            "|    100025|           -700|           -700|\n",
            "+----------+---------------+---------------+\n",
            "only showing top 20 rows\n",
            "\n"
          ]
        }
      ]
    },
    {
      "cell_type": "code",
      "source": [
        "# Inserindo os valores de mínimo e máximo anteriores na tabela \"df_bureau_a1\"\n",
        "df_bureau_01 = spark.sql(\"\"\"\n",
        "                          select\n",
        "                            SK_ID_CURR,\n",
        "                            min(DAYS_CREDIT) as MIN_DAYS_CREDIT,\n",
        "                            max(DAYS_CREDIT) as MAX_DAYS_CREDIT,\n",
        "                            round(avg(DAYS_CREDIT),2) as AVG_DAYS_CREIT\n",
        "\n",
        "                          from\n",
        "                            bureau\n",
        "                          group by\n",
        "                            SK_ID_CURR\n",
        "\"\"\")\n",
        "\n",
        "df_bureau_01.registerTempTable('df_bureau_01')\n",
        "\n",
        "df_bureau_01.count()"
      ],
      "metadata": {
        "colab": {
          "base_uri": "https://localhost:8080/"
        },
        "id": "ysx5lLC-nepy",
        "outputId": "a65739a5-b6dd-4fab-da17-b7b6369ed5e7"
      },
      "execution_count": 37,
      "outputs": [
        {
          "output_type": "execute_result",
          "data": {
            "text/plain": [
              "305811"
            ]
          },
          "metadata": {},
          "execution_count": 37
        }
      ]
    },
    {
      "cell_type": "code",
      "source": [
        "# Mostrando a tabela gerada anteriormente.\n",
        "df_bureau_01.show()"
      ],
      "metadata": {
        "colab": {
          "base_uri": "https://localhost:8080/"
        },
        "id": "WujFTe_twoSY",
        "outputId": "7c786a3b-7edb-4784-e8a0-8ee1006a09b8"
      },
      "execution_count": 38,
      "outputs": [
        {
          "output_type": "stream",
          "name": "stdout",
          "text": [
            "+----------+---------------+---------------+--------------+\n",
            "|SK_ID_CURR|MIN_DAYS_CREDIT|MAX_DAYS_CREDIT|AVG_DAYS_CREIT|\n",
            "+----------+---------------+---------------+--------------+\n",
            "|    341504|           -285|           -282|        -283.5|\n",
            "|    197603|          -2836|           -594|      -1916.43|\n",
            "|    330299|          -2619|            -98|       -1645.0|\n",
            "|    355377|          -2800|           -859|       -1540.0|\n",
            "|    454739|          -2718|           -157|      -1215.86|\n",
            "|    295286|          -2617|           -212|      -1264.89|\n",
            "|    192082|          -2818|           -199|      -1451.21|\n",
            "|    109608|          -1293|            -40|       -504.33|\n",
            "|    375705|          -1179|           -623|       -896.75|\n",
            "|    380065|          -1098|           -409|       -638.67|\n",
            "|    416191|          -2891|           -640|       -1429.0|\n",
            "|    162260|          -2849|           -185|       -1507.4|\n",
            "|    166160|           -890|           -822|        -856.0|\n",
            "|    191350|           -151|           -151|        -151.0|\n",
            "|    258865|          -1761|           -198|        -979.5|\n",
            "|    439807|          -1211|           -189|        -795.2|\n",
            "|    258129|           -763|           -212|       -434.75|\n",
            "|    133018|          -2022|           -213|      -1261.64|\n",
            "|    338173|          -2103|           -301|      -1318.24|\n",
            "|    338091|          -1022|          -1022|       -1022.0|\n",
            "+----------+---------------+---------------+--------------+\n",
            "only showing top 20 rows\n",
            "\n"
          ]
        }
      ]
    },
    {
      "cell_type": "code",
      "source": [
        "#Verificando os valores de mínimo, máximo e média das variáveis numéricas contidas na tabela Bureau\n",
        "spark.sql(\"\"\"\n",
        "            Select\n",
        "              SK_ID_CURR,\n",
        "              min(CREDIT_DAY_OVERDUE) as MIN_CREDIT_DAY_OVERDUE,\n",
        "              max(CREDIT_DAY_OVERDUE) as MAX_CREDIT_DAY_OVERDUE,\n",
        "              round(avg(CREDIT_DAY_OVERDUE),2) as AVG_CREDIT_DAY_OVERDUE,\n",
        "              min(DAYS_CREDIT_ENDDATE) as MIN_DAYS_CREDIT_ENDDATE,\n",
        "              max(DAYS_CREDIT_ENDDATE) as MAX_DAYS_CREDIT_ENDDATE,\n",
        "              round(avg(DAYS_CREDIT_ENDDATE),2) as AVG_DAYS_CREDIT_ENDDATE,\n",
        "              min(DAYS_ENDDATE_FACT) as MIN_DAYS_ENDDATE_FACT,\n",
        "              max(DAYS_ENDDATE_FACT) as MAX_DAYS_ENDDATE_FACT,\n",
        "              round(avg(DAYS_ENDDATE_FACT),2) as AVG_DAYS_ENDDATE_FACT,\n",
        "              min(AMT_CREDIT_MAX_OVERDUE) as MIN_AMT_CREDIT_MAX_OVERDUE,\n",
        "              max(AMT_CREDIT_MAX_OVERDUE) as MAX_AMT_CREDIT_MAX_OVERDUE,\n",
        "              round(avg(AMT_CREDIT_MAX_OVERDUE),2) as AVG_AMT_CREDIT_MAX_OVERDUE,\n",
        "              min(CNT_CREDIT_PROLONG) as MIN_CNT_CREDIT_PROLONG,\n",
        "              max(CNT_CREDIT_PROLONG) as MAX_CNT_CREDIT_PROLONG,\n",
        "              round(avg(CNT_CREDIT_PROLONG),2) as AVG_CNT_CREDIT_PROLONG,\n",
        "              min(AMT_CREDIT_SUM) as MIN_AMT_CREDIT_SUM,\n",
        "              max(AMT_CREDIT_SUM) as MAX_AMT_CREDIT_SUM,\n",
        "              round(avg(AMT_CREDIT_SUM),2) as AVG_AMT_CREDIT_SUM,\n",
        "              min(AMT_CREDIT_SUM_DEBT) as MIN_AMT_CREDIT_SUM_DEBT,\n",
        "              max(AMT_CREDIT_SUM_DEBT) as MAX_AMT_CREDIT_SUM_DEBT,\n",
        "              round(avg(AMT_CREDIT_SUM_DEBT),2) as AVG_AMT_CREDIT_SUM_DEBT,\n",
        "              min(AMT_CREDIT_SUM_LIMIT) as MIN_AMT_CREDIT_SUM_LIMIT,\n",
        "              max(AMT_CREDIT_SUM_LIMIT) as MAX_AMT_CREDIT_SUM_LIMIT,\n",
        "              round(avg(AMT_CREDIT_SUM_LIMIT),2) as AVG_AMT_CREDIT_SUM_LIMIT,\n",
        "              min(AMT_CREDIT_SUM_OVERDUE) as MIN_AMT_CREDIT_SUM_OVERDUE,\n",
        "              max(AMT_CREDIT_SUM_OVERDUE) as MAX_AMT_CREDIT_SUM_OVERDUE,\n",
        "              round(avg(AMT_CREDIT_SUM_OVERDUE),2) as AVG_AMT_CREDIT_SUM_OVERDUE,\n",
        "              min(DAYS_CREDIT_UPDATE) as MIN_DAYS_CREDIT_UPDATE,\n",
        "              max(DAYS_CREDIT_UPDATE) as MAX_DAYS_CREDIT_UPDATE,\n",
        "              round(avg(DAYS_CREDIT_UPDATE),2) as AVG_DAYS_CREDIT_UPDATE,\n",
        "              min(AMT_ANNUITY) as MIN_DAYS_AMT_ANNUITY,\n",
        "              max(AMT_ANNUITY) as MAX_DAYS_AMT_ANNUITY,\n",
        "              round(avg(AMT_ANNUITY),2) as AVG_AMT_ANNUITY\n",
        "\n",
        "            from\n",
        "              bureau\n",
        "            group by\n",
        "              SK_ID_CURR\n",
        "            order by\n",
        "              SK_ID_CURR\n",
        "\"\"\").show()"
      ],
      "metadata": {
        "colab": {
          "base_uri": "https://localhost:8080/"
        },
        "id": "XEbiFKl6Tt1m",
        "outputId": "b360fb29-96aa-4ad1-e21e-a364629cfe6c"
      },
      "execution_count": 39,
      "outputs": [
        {
          "output_type": "stream",
          "name": "stdout",
          "text": [
            "+----------+----------------------+----------------------+----------------------+-----------------------+-----------------------+-----------------------+---------------------+---------------------+---------------------+--------------------------+--------------------------+--------------------------+----------------------+----------------------+----------------------+------------------+------------------+------------------+-----------------------+-----------------------+-----------------------+------------------------+------------------------+------------------------+--------------------------+--------------------------+--------------------------+----------------------+----------------------+----------------------+--------------------+--------------------+---------------+\n",
            "|SK_ID_CURR|MIN_CREDIT_DAY_OVERDUE|MAX_CREDIT_DAY_OVERDUE|AVG_CREDIT_DAY_OVERDUE|MIN_DAYS_CREDIT_ENDDATE|MAX_DAYS_CREDIT_ENDDATE|AVG_DAYS_CREDIT_ENDDATE|MIN_DAYS_ENDDATE_FACT|MAX_DAYS_ENDDATE_FACT|AVG_DAYS_ENDDATE_FACT|MIN_AMT_CREDIT_MAX_OVERDUE|MAX_AMT_CREDIT_MAX_OVERDUE|AVG_AMT_CREDIT_MAX_OVERDUE|MIN_CNT_CREDIT_PROLONG|MAX_CNT_CREDIT_PROLONG|AVG_CNT_CREDIT_PROLONG|MIN_AMT_CREDIT_SUM|MAX_AMT_CREDIT_SUM|AVG_AMT_CREDIT_SUM|MIN_AMT_CREDIT_SUM_DEBT|MAX_AMT_CREDIT_SUM_DEBT|AVG_AMT_CREDIT_SUM_DEBT|MIN_AMT_CREDIT_SUM_LIMIT|MAX_AMT_CREDIT_SUM_LIMIT|AVG_AMT_CREDIT_SUM_LIMIT|MIN_AMT_CREDIT_SUM_OVERDUE|MAX_AMT_CREDIT_SUM_OVERDUE|AVG_AMT_CREDIT_SUM_OVERDUE|MIN_DAYS_CREDIT_UPDATE|MAX_DAYS_CREDIT_UPDATE|AVG_DAYS_CREDIT_UPDATE|MIN_DAYS_AMT_ANNUITY|MAX_DAYS_AMT_ANNUITY|AVG_AMT_ANNUITY|\n",
            "+----------+----------------------+----------------------+----------------------+-----------------------+-----------------------+-----------------------+---------------------+---------------------+---------------------+--------------------------+--------------------------+--------------------------+----------------------+----------------------+----------------------+------------------+------------------+------------------+-----------------------+-----------------------+-----------------------+------------------------+------------------------+------------------------+--------------------------+--------------------------+--------------------------+----------------------+----------------------+----------------------+--------------------+--------------------+---------------+\n",
            "|    100001|                     0|                     0|                   0.0|                -1329.0|                 1778.0|                  82.43|              -1328.0|               -544.0|               -825.5|                      null|                      null|                      null|                     0|                     0|                   0.0|           85500.0|          378000.0|         207623.57|                    0.0|               373239.0|               85240.93|                     0.0|                     0.0|                     0.0|                       0.0|                       0.0|                       0.0|                  -155|                    -6|                -93.14|                 0.0|             10822.5|        3545.36|\n",
            "|    100002|                     0|                     0|                   0.0|                -1072.0|                  780.0|                 -349.0|              -1185.0|                -36.0|               -697.5|                       0.0|                  5043.645|                   1681.03|                     0|                     0|                   0.0|               0.0|          450000.0|         108131.95|                    0.0|               245781.0|                49156.2|                     0.0|               31988.565|                 7997.14|                       0.0|                       0.0|                       0.0|                 -1185|                    -7|               -499.88|                 0.0|                 0.0|            0.0|\n",
            "|    100003|                     0|                     0|                   0.0|                -2434.0|                 1216.0|                 -544.5|              -2131.0|               -540.0|             -1097.33|                       0.0|                       0.0|                       0.0|                     0|                     0|                   0.0|           22248.0|          810000.0|         254350.13|                    0.0|                    0.0|                    0.0|                     0.0|                810000.0|                202500.0|                       0.0|                       0.0|                       0.0|                 -2131|                   -43|                -816.0|                null|                null|           null|\n",
            "|    100004|                     0|                     0|                   0.0|                 -595.0|                 -382.0|                 -488.5|               -683.0|               -382.0|               -532.5|                       0.0|                       0.0|                       0.0|                     0|                     0|                   0.0|           94500.0|           94537.8|           94518.9|                    0.0|                    0.0|                    0.0|                     0.0|                     0.0|                     0.0|                       0.0|                       0.0|                       0.0|                  -682|                  -382|                -532.0|                null|                null|           null|\n",
            "|    100005|                     0|                     0|                   0.0|                 -128.0|                 1324.0|                 439.33|               -123.0|               -123.0|               -123.0|                       0.0|                       0.0|                       0.0|                     0|                     0|                   0.0|           29826.0|          568800.0|          219042.0|                    0.0|               543087.0|               189469.5|                     0.0|                     0.0|                     0.0|                       0.0|                       0.0|                       0.0|                  -121|                   -11|                -54.33|                 0.0|              4261.5|         1420.5|\n",
            "|    100007|                     0|                     0|                   0.0|                 -783.0|                 -783.0|                 -783.0|               -783.0|               -783.0|               -783.0|                       0.0|                       0.0|                       0.0|                     0|                     0|                   0.0|          146250.0|          146250.0|          146250.0|                    0.0|                    0.0|                    0.0|                     0.0|                     0.0|                     0.0|                       0.0|                       0.0|                       0.0|                  -783|                  -783|                -783.0|                null|                null|           null|\n",
            "|    100008|                     0|                     0|                   0.0|                 -853.0|                  471.0|                -391.33|              -1028.0|               -790.0|               -909.0|                       0.0|                       0.0|                       0.0|                     0|                     0|                   0.0|           95134.5|          267606.0|          156148.5|                    0.0|               240057.0|                80019.0|                     0.0|                     0.0|                     0.0|                       0.0|                       0.0|                       0.0|                 -1027|                   -16|                -611.0|                null|                null|           null|\n",
            "|    100009|                     0|                     0|                   0.0|                -2152.0|                 1402.0|                -794.94|              -2152.0|               -313.0|              -1108.5|                       0.0|                       0.0|                       0.0|                     0|                     0|                   0.0|           35770.5|         1777500.0|         266711.75|                    0.0|               557959.5|               76953.54|                     0.0|                     0.0|                     0.0|                       0.0|                       0.0|                       0.0|                 -2152|                   -23|               -851.61|                null|                null|           null|\n",
            "|    100010|                     0|                     0|                   0.0|                 -928.0|                  689.0|                 -119.5|              -1138.0|              -1138.0|              -1138.0|                      null|                      null|                      null|                     0|                     0|                   0.0|          315000.0|          675000.0|          495000.0|                    0.0|               348007.5|              174003.75|                     0.0|                     0.0|                     0.0|                       0.0|                       0.0|                       0.0|                 -1138|                   -18|                -578.0|                null|                null|           null|\n",
            "|    100011|                     0|                     0|                   0.0|                -2173.0|                 -860.0|               -1293.25|              -2197.0|               -968.0|             -1463.25|                       0.0|                  10147.23|                   5073.62|                     0|                     0|                   0.0|           54000.0|          145242.0|         108807.08|                    0.0|                    0.0|                    0.0|                     0.0|                     0.0|                     0.0|                       0.0|                       0.0|                       0.0|                 -2172|                  -965|              -1454.75|                null|                null|           null|\n",
            "|    100013|                     0|                     0|                   0.0|                -1707.0|                 -567.0|                -1068.0|              -1334.0|               -549.0|             -1054.75|                   19305.0|                   19305.0|                   19305.0|                     0|                     0|                   0.0|          26490.06|         1262250.0|         518070.02|                    0.0|                    0.0|                    0.0|                    null|                    null|                    null|                       0.0|                       0.0|                       0.0|                 -1334|                    -4|                -775.5|                 0.0|                 0.0|            0.0|\n",
            "|    100014|                     0|                     0|                   0.0|                -2004.0|                  723.0|                -387.38|              -1992.0|               -346.0|              -821.33|                       0.0|                  12752.28|                   3726.35|                     0|                     0|                   0.0|           26194.5|          900000.0|         341241.55|                    0.0|               420201.0|               151642.8|                     0.0|                     0.0|                     0.0|                       0.0|                       0.0|                       0.0|                 -1991|                   -25|               -615.88|                null|                null|           null|\n",
            "|    100015|                     0|                     0|                   0.0|                -1045.0|                  -16.0|                -598.25|               -907.0|                 -8.0|               -555.5|                      null|                      null|                      null|                     0|                     0|                   0.0|           89752.5|          131103.0|         102373.88|                    0.0|                    0.0|                    0.0|                     0.0|                     0.0|                     0.0|                       0.0|                       0.0|                       0.0|                  -904|                    -3|               -551.25|                null|                null|           null|\n",
            "|    100016|                     0|                     0|                   0.0|                -1369.0|                  845.0|                -217.14|              -1369.0|               -347.0|              -929.67|                       0.0|                       0.0|                       0.0|                     0|                     0|                   0.0|           22086.0|           91264.5|          67854.86|                    0.0|                63724.5|                12744.9|                     0.0|                     0.0|                     0.0|                       0.0|                       0.0|                       0.0|                 -1367|                    -3|               -405.86|                null|                null|           null|\n",
            "|    100017|                     0|                     0|                   0.0|                -2546.0|                  197.0|               -1512.33|              -2575.0|               -738.0|             -1677.83|                       0.0|                       0.0|                       0.0|                     0|                     0|                   0.0|           25231.5|          315000.0|          143295.0|                    0.0|                    0.0|                    0.0|                     0.0|                     0.0|                     0.0|                       0.0|                       0.0|                       0.0|                 -2575|                  -623|              -1594.33|                null|                null|           null|\n",
            "|    100019|                     0|                     0|                   0.0|                  419.0|                10463.0|                 5441.0|                 null|                 null|                 null|                       0.0|                       0.0|                       0.0|                     0|                     0|                   0.0|          270000.0|          450000.0|          360000.0|                    0.0|              245470.14|              122735.07|                     0.0|                270000.0|                135000.0|                       0.0|                       0.0|                       0.0|                   -46|                    -7|                 -26.5|             27000.0|             27000.0|        27000.0|\n",
            "|    100020|                     0|                     0|                   0.0|                 -311.0|                  277.0|                  -32.5|               -311.0|               -135.0|               -223.0|                       0.0|                       0.0|                       0.0|                     0|                     0|                   0.0|           16200.0|          135000.0|          49871.25|                    0.0|               117243.0|               30772.13|                     0.0|                     0.0|                     0.0|                       0.0|                       0.0|                       0.0|                  -310|                   -28|               -130.75|                null|                null|           null|\n",
            "|    100022|                     0|                     0|                   0.0|                  441.0|                 1439.0|                  940.0|                 null|                 null|                 null|                       0.0|                       0.0|                       0.0|                     0|                     0|                   0.0|          292500.0|          765000.0|          528750.0|               205276.5|               205276.5|               205276.5|                     0.0|                     0.0|                     0.0|                       0.0|                       0.0|                       0.0|                   -38|                   -18|                 -28.0|                null|                null|           null|\n",
            "|    100023|                     0|                     0|                   0.0|                -2228.0|                 1669.0|                -364.92|              -2335.0|               -138.0|               -997.3|                       0.0|                   5980.05|                   2720.85|                     0|                     0|                   0.0|           22500.0|          444078.0|         126591.72|                    0.0|                70443.0|               13703.85|                     0.0|                     0.0|                     0.0|                       0.0|                       0.0|                       0.0|                 -2287|                    -5|               -634.08|                null|                null|           null|\n",
            "|    100025|                     0|                     0|                   0.0|                 1124.0|                 1124.0|                 1124.0|                 null|                 null|                 null|                      null|                      null|                      null|                     0|                     0|                   0.0|         2452500.0|         2452500.0|         2452500.0|              1886544.0|              1886544.0|              1886544.0|                     0.0|                     0.0|                     0.0|                       0.0|                       0.0|                       0.0|                   -49|                   -49|                 -49.0|                null|                null|           null|\n",
            "+----------+----------------------+----------------------+----------------------+-----------------------+-----------------------+-----------------------+---------------------+---------------------+---------------------+--------------------------+--------------------------+--------------------------+----------------------+----------------------+----------------------+------------------+------------------+------------------+-----------------------+-----------------------+-----------------------+------------------------+------------------------+------------------------+--------------------------+--------------------------+--------------------------+----------------------+----------------------+----------------------+--------------------+--------------------+---------------+\n",
            "only showing top 20 rows\n",
            "\n"
          ]
        }
      ]
    },
    {
      "cell_type": "code",
      "source": [
        "# Inserindo os valores de mínimo, máximo e média das variáveis numéricas da tabela \"bureau\" na tabela \"df_bureau_01\"\n",
        "df_bureau_01 = spark.sql(\"\"\"\n",
        "                          select\n",
        "                            SK_ID_CURR,\n",
        "                            min(DAYS_CREDIT) as MIN_DAYS_CREDIT,\n",
        "                            max(DAYS_CREDIT) as MAX_DAYS_CREDIT,\n",
        "                            round(avg(DAYS_CREDIT),2) as AVG_DAYS_CREIT,\n",
        "                            min(CREDIT_DAY_OVERDUE) as MIN_CREDIT_DAY_OVERDUE,\n",
        "                            max(CREDIT_DAY_OVERDUE) as MAX_CREDIT_DAY_OVERDUE,\n",
        "                            round(avg(CREDIT_DAY_OVERDUE),2) as AVG_CREDIT_DAY_OVERDUE,\n",
        "                            min(DAYS_CREDIT_ENDDATE) as MIN_DAYS_CREDIT_ENDDATE,\n",
        "                            max(DAYS_CREDIT_ENDDATE) as MAX_DAYS_CREDIT_ENDDATE,\n",
        "                            round(avg(DAYS_CREDIT_ENDDATE),2) as AVG_DAYS_CREDIT_ENDDATE,\n",
        "                            min(DAYS_ENDDATE_FACT) as MIN_DAYS_ENDDATE_FACT,\n",
        "                            max(DAYS_ENDDATE_FACT) as MAX_DAYS_ENDDATE_FACT,\n",
        "                            round(avg(DAYS_ENDDATE_FACT),2) as AVG_DAYS_ENDDATE_FACT,\n",
        "                            min(AMT_CREDIT_MAX_OVERDUE) as MIN_AMT_CREDIT_MAX_OVERDUE,\n",
        "                            max(AMT_CREDIT_MAX_OVERDUE) as MAX_AMT_CREDIT_MAX_OVERDUE,\n",
        "                            round(avg(AMT_CREDIT_MAX_OVERDUE),2) as AVG_AMT_CREDIT_MAX_OVERDUE,\n",
        "                            min(CNT_CREDIT_PROLONG) as MIN_CNT_CREDIT_PROLONG,\n",
        "                            max(CNT_CREDIT_PROLONG) as MAX_CNT_CREDIT_PROLONG,\n",
        "                            round(avg(CNT_CREDIT_PROLONG),2) as AVG_CNT_CREDIT_PROLONG,\n",
        "                            min(AMT_CREDIT_SUM) as MIN_AMT_CREDIT_SUM,\n",
        "                            max(AMT_CREDIT_SUM) as MAX_AMT_CREDIT_SUM,\n",
        "                            round(avg(AMT_CREDIT_SUM),2) as AVG_AMT_CREDIT_SUM,\n",
        "                            min(AMT_CREDIT_SUM_DEBT) as MIN_AMT_CREDIT_SUM_DEBT,\n",
        "                            max(AMT_CREDIT_SUM_DEBT) as MAX_AMT_CREDIT_SUM_DEBT,\n",
        "                            round(avg(AMT_CREDIT_SUM_DEBT),2) as AVG_AMT_CREDIT_SUM_DEBT,\n",
        "                            min(AMT_CREDIT_SUM_LIMIT) as MIN_AMT_CREDIT_SUM_LIMIT,\n",
        "                            max(AMT_CREDIT_SUM_LIMIT) as MAX_AMT_CREDIT_SUM_LIMIT,\n",
        "                            round(avg(AMT_CREDIT_SUM_LIMIT),2) as AVG_AMT_CREDIT_SUM_LIMIT,\n",
        "                            min(AMT_CREDIT_SUM_OVERDUE) as MIN_AMT_CREDIT_SUM_OVERDUE,\n",
        "                            max(AMT_CREDIT_SUM_OVERDUE) as MAX_AMT_CREDIT_SUM_OVERDUE,\n",
        "                            round(avg(AMT_CREDIT_SUM_OVERDUE),2) as AVG_AMT_CREDIT_SUM_OVERDUE,\n",
        "                            min(DAYS_CREDIT_UPDATE) as MIN_DAYS_CREDIT_UPDATE,\n",
        "                            max(DAYS_CREDIT_UPDATE) as MAX_DAYS_CREDIT_UPDATE,\n",
        "                            round(avg(DAYS_CREDIT_UPDATE),2) as AVG_DAYS_CREDIT_UPDATE,\n",
        "                            min(AMT_ANNUITY) as MIN_DAYS_AMT_ANNUITY,\n",
        "                            max(AMT_ANNUITY) as MAX_DAYS_AMT_ANNUITY,\n",
        "                            round(avg(AMT_ANNUITY),2) as AVG_AMT_ANNUITY\n",
        "\n",
        "                          from\n",
        "                            bureau\n",
        "                          group by\n",
        "                            SK_ID_CURR\n",
        "\"\"\")\n",
        "\n",
        "df_bureau_01.registerTempTable('df_bureau_01')\n",
        "\n",
        "df_bureau_01.count()"
      ],
      "metadata": {
        "colab": {
          "base_uri": "https://localhost:8080/"
        },
        "id": "2aa-TZvgkn7B",
        "outputId": "97be4f97-2af9-47fe-b794-a34f3df073d1"
      },
      "execution_count": 40,
      "outputs": [
        {
          "output_type": "execute_result",
          "data": {
            "text/plain": [
              "305811"
            ]
          },
          "metadata": {},
          "execution_count": 40
        }
      ]
    },
    {
      "cell_type": "code",
      "source": [
        "# Exibindo toda as colunas da tabela \"df_bureau_01\".\n",
        "df_bureau_01.show(100,False)"
      ],
      "metadata": {
        "colab": {
          "base_uri": "https://localhost:8080/"
        },
        "id": "LYM4g4TrlnjP",
        "outputId": "464f0886-784b-49f4-e815-e0c76e5827c1"
      },
      "execution_count": 41,
      "outputs": [
        {
          "output_type": "stream",
          "name": "stdout",
          "text": [
            "+----------+---------------+---------------+--------------+----------------------+----------------------+----------------------+-----------------------+-----------------------+-----------------------+---------------------+---------------------+---------------------+--------------------------+--------------------------+--------------------------+----------------------+----------------------+----------------------+------------------+------------------+------------------+-----------------------+-----------------------+-----------------------+------------------------+------------------------+------------------------+--------------------------+--------------------------+--------------------------+----------------------+----------------------+----------------------+--------------------+--------------------+---------------+\n",
            "|SK_ID_CURR|MIN_DAYS_CREDIT|MAX_DAYS_CREDIT|AVG_DAYS_CREIT|MIN_CREDIT_DAY_OVERDUE|MAX_CREDIT_DAY_OVERDUE|AVG_CREDIT_DAY_OVERDUE|MIN_DAYS_CREDIT_ENDDATE|MAX_DAYS_CREDIT_ENDDATE|AVG_DAYS_CREDIT_ENDDATE|MIN_DAYS_ENDDATE_FACT|MAX_DAYS_ENDDATE_FACT|AVG_DAYS_ENDDATE_FACT|MIN_AMT_CREDIT_MAX_OVERDUE|MAX_AMT_CREDIT_MAX_OVERDUE|AVG_AMT_CREDIT_MAX_OVERDUE|MIN_CNT_CREDIT_PROLONG|MAX_CNT_CREDIT_PROLONG|AVG_CNT_CREDIT_PROLONG|MIN_AMT_CREDIT_SUM|MAX_AMT_CREDIT_SUM|AVG_AMT_CREDIT_SUM|MIN_AMT_CREDIT_SUM_DEBT|MAX_AMT_CREDIT_SUM_DEBT|AVG_AMT_CREDIT_SUM_DEBT|MIN_AMT_CREDIT_SUM_LIMIT|MAX_AMT_CREDIT_SUM_LIMIT|AVG_AMT_CREDIT_SUM_LIMIT|MIN_AMT_CREDIT_SUM_OVERDUE|MAX_AMT_CREDIT_SUM_OVERDUE|AVG_AMT_CREDIT_SUM_OVERDUE|MIN_DAYS_CREDIT_UPDATE|MAX_DAYS_CREDIT_UPDATE|AVG_DAYS_CREDIT_UPDATE|MIN_DAYS_AMT_ANNUITY|MAX_DAYS_AMT_ANNUITY|AVG_AMT_ANNUITY|\n",
            "+----------+---------------+---------------+--------------+----------------------+----------------------+----------------------+-----------------------+-----------------------+-----------------------+---------------------+---------------------+---------------------+--------------------------+--------------------------+--------------------------+----------------------+----------------------+----------------------+------------------+------------------+------------------+-----------------------+-----------------------+-----------------------+------------------------+------------------------+------------------------+--------------------------+--------------------------+--------------------------+----------------------+----------------------+----------------------+--------------------+--------------------+---------------+\n",
            "|341504    |-285           |-282           |-283.5        |0                     |0                     |0.0                   |82.0                   |82.0                   |82.0                   |null                 |null                 |null                 |0.0                       |0.0                       |0.0                       |0                     |0                     |0.0                   |169146.0          |270000.0          |219573.0          |44737.74               |345361.5               |195049.62              |0.0                     |0.0                     |0.0                     |0.0                       |0.0                       |0.0                       |-7                    |-6                    |-6.5                  |null                |null                |null           |\n",
            "|197603    |-2836          |-594           |-1916.43      |0                     |0                     |0.0                   |-2532.0                |30888.0                |3434.29                |-2683.0              |-205.0               |-1541.57             |0.0                       |0.0                       |0.0                       |0                     |0                     |0.0                   |55350.0           |2700000.0         |512164.29         |0.0                    |0.0                    |0.0                    |0.0                     |0.0                     |0.0                     |0.0                       |0.0                       |0.0                       |-2678                 |-205                  |-1216.29              |0.0                 |0.0                 |0.0            |\n",
            "|330299    |-2619          |-98            |-1645.0       |0                     |0                     |0.0                   |-2313.0                |268.0                  |-1373.07               |-2373.0              |-355.0               |-1633.0              |0.0                       |14652.0                   |5496.56                   |0                     |0                     |0.0                   |13500.0           |382500.0          |114550.2          |0.0                    |120973.5               |8640.96                |0.0                     |0.0                     |0.0                     |0.0                       |0.0                       |0.0                       |-2373                 |-32                   |-1096.47              |0.0                 |12259.305           |3984.35        |\n",
            "|355377    |-2800          |-859           |-1540.0       |0                     |0                     |0.0                   |-1434.0                |820.0                  |-593.0                 |-1791.0              |-159.0               |-1012.88             |0.0                       |0.0                       |0.0                       |0                     |0                     |0.0                   |0.0               |531000.0          |184184.84         |0.0                    |301477.5               |43068.21               |0.0                     |0.0                     |0.0                     |0.0                       |0.0                       |0.0                       |-1463                 |-14                   |-635.0                |null                |null                |null           |\n",
            "|454739    |-2718          |-157           |-1215.86      |0                     |0                     |0.0                   |-1150.0                |1670.0                 |-213.71                |-1150.0              |-232.0               |-796.6               |0.0                       |7390.575                  |2710.99                   |0                     |0                     |0.0                   |75883.275         |4378500.0         |901484.53         |0.0                    |178992.0               |29832.0                |0.0                     |0.0                     |0.0                     |0.0                       |0.0                       |0.0                       |-1150                 |-19                   |-483.57               |0.0                 |114741.0            |57370.5        |\n",
            "|295286    |-2617          |-212           |-1264.89      |0                     |0                     |0.0                   |-1710.0                |1614.0                 |-141.0                 |-1186.0              |-525.0               |-952.5               |6191.37                   |6191.37                   |6191.37                   |0                     |0                     |0.0                   |34533.0           |900000.0          |320702.5          |0.0                    |871204.5               |174240.9               |0.0                     |0.0                     |0.0                     |0.0                       |0.0                       |0.0                       |-1183                 |-14                   |-550.33               |0.0                 |14999.985           |2500.0         |\n",
            "|192082    |-2818          |-199           |-1451.21      |0                     |0                     |0.0                   |-2461.0                |1526.0                 |-870.35                |-2482.0              |-207.0               |-1261.4              |0.0                       |0.0                       |0.0                       |0                     |0                     |0.0                   |20673.0           |1350000.0         |281810.91         |0.0                    |1192626.0              |69687.2                |0.0                     |0.0                     |0.0                     |0.0                       |0.0                       |0.0                       |-1380                 |-16                   |-702.38               |0.0                 |32755.5             |3457.18        |\n",
            "|109608    |-1293          |-40            |-504.33       |0                     |0                     |0.0                   |-926.0                 |188.0                  |-256.0                 |-862.0               |-862.0               |-862.0               |null                      |null                      |null                      |0                     |0                     |0.0                   |27000.0           |180000.0          |94500.0           |0.0                    |0.0                    |0.0                    |0.0                     |0.0                     |0.0                     |0.0                       |0.0                       |0.0                       |-862                  |-9                    |-302.67               |0.0                 |0.0                 |0.0            |\n",
            "|375705    |-1179          |-623           |-896.75       |0                     |0                     |0.0                   |-1088.0                |-6.0                   |-476.75                |-1088.0              |-178.0               |-630.67              |94095.0                   |94095.0                   |94095.0                   |0                     |0                     |0.0                   |83430.0           |4183299.0         |1229807.25        |0.0                    |0.0                    |0.0                    |0.0                     |0.0                     |0.0                     |0.0                       |0.0                       |0.0                       |-940                  |-6                    |-437.25               |0.0                 |0.0                 |0.0            |\n",
            "|380065    |-1098          |-409           |-638.67       |0                     |0                     |0.0                   |-368.0                 |-44.0                  |-206.0                 |-357.0               |-43.0                |-200.0               |null                      |null                      |null                      |0                     |0                     |0.0                   |90000.0           |244305.0          |186435.0          |0.0                    |0.0                    |0.0                    |0.0                     |0.0                     |0.0                     |0.0                       |0.0                       |0.0                       |-408                  |-41                   |-267.33               |0.0                 |0.0                 |0.0            |\n",
            "|416191    |-2891          |-640           |-1429.0       |0                     |0                     |0.0                   |-2522.0                |-275.0                 |-1123.0                |-2508.0              |-275.0               |-1118.0              |null                      |null                      |null                      |0                     |0                     |0.0                   |43645.5           |135000.0          |77548.5           |0.0                    |0.0                    |0.0                    |0.0                     |0.0                     |0.0                     |0.0                       |0.0                       |0.0                       |-2508                 |-272                  |-1116.67              |null                |null                |null           |\n",
            "|162260    |-2849          |-185           |-1507.4       |0                     |0                     |0.0                   |-1752.0                |4198.0                 |421.2                  |-1486.0              |-490.0               |-1120.0              |0.0                       |0.0                       |0.0                       |0                     |0                     |0.0                   |180000.0          |1.07487225E7      |3244144.5         |0.0                    |1.04402295E7           |2088045.9              |0.0                     |0.0                     |0.0                     |0.0                       |0.0                       |0.0                       |-1486                 |-26                   |-471.2                |null                |null                |null           |\n",
            "|166160    |-890           |-822           |-856.0        |0                     |0                     |0.0                   |531.0                  |4601.0                 |2566.0                 |null                 |null                 |null                 |null                      |null                      |null                      |0                     |0                     |0.0                   |225000.0          |1912500.0         |1068750.0         |125541.0               |1806210.0              |965875.5               |0.0                     |0.0                     |0.0                     |0.0                       |0.0                       |0.0                       |-20                   |-20                   |-20.0                 |null                |null                |null           |\n",
            "|191350    |-151           |-151           |-151.0        |0                     |0                     |0.0                   |1675.0                 |1675.0                 |1675.0                 |null                 |null                 |null                 |null                      |null                      |null                      |0                     |0                     |0.0                   |2899197.0         |2899197.0         |2899197.0         |4137808.5              |4137808.5              |4137808.5              |null                    |null                    |null                    |0.0                       |0.0                       |0.0                       |-16                   |-16                   |-16.0                 |null                |null                |null           |\n",
            "|258865    |-1761          |-198           |-979.5        |0                     |0                     |0.0                   |66.0                   |1628.0                 |847.0                  |null                 |null                 |null                 |4482.0                    |22878.0                   |13680.0                   |0                     |0                     |0.0                   |225000.0          |855000.0          |540000.0          |null                   |null                   |null                   |null                    |null                    |null                    |0.0                       |0.0                       |0.0                       |-11                   |-11                   |-11.0                 |null                |null                |null           |\n",
            "|439807    |-1211          |-189           |-795.2        |0                     |0                     |0.0                   |-903.0                 |-192.0                 |-671.5                 |-903.0               |-192.0               |-675.75              |0.0                       |0.0                       |0.0                       |0                     |0                     |0.0                   |35955.0           |157500.0          |77420.7           |0.0                    |8334.0                 |1666.8                 |0.0                     |149165.73               |49721.91                |0.0                       |0.0                       |0.0                       |-897                  |-15                   |-518.0                |null                |null                |null           |\n",
            "|258129    |-763           |-212           |-434.75       |0                     |0                     |0.0                   |-581.0                 |812.0                  |116.0                  |-580.0               |-286.0               |-433.0               |0.0                       |0.0                       |0.0                       |0                     |0                     |0.0                   |33201.0           |320677.56         |146539.52         |0.0                    |269016.39              |87621.1                |0.0                     |0.0                     |0.0                     |0.0                       |0.0                       |0.0                       |-579                  |-28                   |-234.5                |null                |null                |null           |\n",
            "|133018    |-2022          |-213           |-1261.64      |0                     |0                     |0.0                   |-1841.0                |914.0                  |-333.1                 |-1526.0              |-163.0               |-694.89              |0.0                       |0.0                       |0.0                       |0                     |0                     |0.0                   |0.0               |540000.0          |211574.05         |0.0                    |227704.5               |59496.19               |0.0                     |0.0                     |0.0                     |0.0                       |0.0                       |0.0                       |-1524                 |-14                   |-557.18               |0.0                 |15120.0             |3808.69        |\n",
            "|338173    |-2103          |-301           |-1318.24      |0                     |0                     |0.0                   |-1816.0                |641.0                  |-794.06                |-1816.0              |-322.0               |-1136.75             |0.0                       |9616.5                    |2344.24                   |0                     |3                     |0.18                  |15583.5           |360000.0          |73843.15          |0.0                    |127453.5               |23953.71               |0.0                     |0.0                     |0.0                     |0.0                       |0.0                       |0.0                       |-1763                 |-5                    |-792.35               |0.0                 |8334.0              |2059.5         |\n",
            "|338091    |-1022          |-1022          |-1022.0       |0                     |0                     |0.0                   |-682.0                 |-682.0                 |-682.0                 |-927.0               |-927.0               |-927.0               |null                      |null                      |null                      |0                     |0                     |0.0                   |108684.0          |108684.0          |108684.0          |0.0                    |0.0                    |0.0                    |0.0                     |0.0                     |0.0                     |0.0                       |0.0                       |0.0                       |-901                  |-901                  |-901.0                |null                |null                |null           |\n",
            "|436175    |-2858          |-1129          |-1871.27      |0                     |0                     |0.0                   |-2646.0                |1094.0                 |-1014.82               |-2674.0              |-1518.0              |-1968.67             |0.0                       |5947.695                  |1804.55                   |0                     |0                     |0.0                   |4500.0            |225000.0          |80587.25          |-6981.615              |23985.315              |3417.79                |0.0                     |225450.0                |36540.57                |0.0                       |0.0                       |0.0                       |-2674                 |-55                   |-1315.36              |null                |null                |null           |\n",
            "|342902    |-1975          |-891           |-1522.67      |0                     |0                     |0.0                   |-1669.0                |935.0                  |-710.33                |-1669.0              |-1397.0              |-1533.0              |0.0                       |9446.58                   |4723.29                   |0                     |0                     |0.0                   |24106.5           |463500.0          |196255.37         |0.0                    |309010.5               |103003.5               |0.0                     |0.0                     |0.0                     |0.0                       |0.0                       |0.0                       |-1499                 |-78                   |-991.33               |null                |null                |null           |\n",
            "|429364    |-2779          |-2500          |-2639.5       |0                     |0                     |0.0                   |-2385.0                |-2318.0                |-2351.5                |-2398.0              |-2228.0              |-2313.0              |4779.0                    |13752.0                   |9265.5                    |0                     |0                     |0.0                   |33907.5           |49261.5           |41584.5           |0.0                    |0.0                    |0.0                    |0.0                     |0.0                     |0.0                     |0.0                       |0.0                       |0.0                       |-2225                 |-1562                 |-1893.5               |null                |null                |null           |\n",
            "|315628    |-1695          |-722           |-1253.17      |0                     |0                     |0.0                   |-1513.0                |-532.0                 |-1099.67               |-1513.0              |-532.0               |-1098.33             |null                      |null                      |null                      |0                     |0                     |0.0                   |20839.5           |144540.0          |46722.0           |0.0                    |0.0                    |0.0                    |0.0                     |0.0                     |0.0                     |0.0                       |0.0                       |0.0                       |-1180                 |-521                  |-846.67               |null                |null                |null           |\n",
            "|362395    |-2813          |-51            |-1372.29      |0                     |0                     |0.0                   |-2447.0                |680.0                  |-810.57                |-2478.0              |-69.0                |-1404.4              |0.0                       |0.0                       |0.0                       |0                     |0                     |0.0                   |73440.0           |488970.0          |259367.52         |0.0                    |270522.0               |45087.0                |0.0                     |0.0                     |0.0                     |0.0                       |0.0                       |0.0                       |-2014                 |-14                   |-741.43               |null                |null                |null           |\n",
            "|198591    |-1106          |-167           |-567.6        |0                     |0                     |0.0                   |-984.0                 |17.0                   |-287.2                 |-360.0               |-360.0               |-360.0               |0.0                       |0.0                       |0.0                       |0                     |0                     |0.0                   |13500.0           |225000.0          |133243.2          |0.0                    |35730.0                |12620.35               |0.0                     |9573.255                |1914.65                 |0.0                       |0.0                       |0.0                       |-439                  |-7                    |-289.0                |null                |null                |null           |\n",
            "|129153    |-2748          |-77            |-1422.6       |0                     |0                     |0.0                   |-2382.0                |654.0                  |-491.4                 |-2382.0              |-1529.0              |-1955.5              |0.0                       |10014.75                  |5007.38                   |0                     |0                     |0.0                   |50832.0           |135000.0          |90257.4           |0.0                    |140296.5               |62985.6                |0.0                     |0.0                     |0.0                     |0.0                       |0.0                       |0.0                       |-2382                 |-8                    |-792.6                |null                |null                |null           |\n",
            "|374119    |-396           |-396           |-396.0        |0                     |0                     |0.0                   |30883.0                |30883.0                |30883.0                |null                 |null                 |null                 |null                      |null                      |null                      |0                     |0                     |0.0                   |90000.0           |90000.0           |90000.0           |89787.96               |89787.96               |89787.96               |212.04                  |212.04                  |212.04                  |0.0                       |0.0                       |0.0                       |-1                    |-1                    |-1.0                  |null                |null                |null           |\n",
            "|210736    |-1623          |-659           |-1380.2       |0                     |0                     |0.0                   |-1346.0                |432.0                  |-880.5                 |-1346.0              |-1293.0              |-1324.33             |null                      |null                      |null                      |0                     |0                     |0.0                   |46291.5           |486000.0          |189783.9          |0.0                    |490365.0               |98073.0                |0.0                     |0.0                     |0.0                     |0.0                       |0.0                       |0.0                       |-1193                 |-23                   |-679.2                |null                |null                |null           |\n",
            "|237810    |-1205          |-40            |-786.33       |0                     |0                     |0.0                   |-765.0                 |27511.0                |5227.2                 |-745.0               |-736.0               |-740.5               |0.0                       |0.0                       |0.0                       |0                     |0                     |0.0                   |0.0               |225000.0          |65549.25          |0.0                    |41306.58               |8609.59                |0.0                     |12149.055               |3037.26                 |0.0                       |0.0                       |0.0                       |-949                  |-15                   |-433.33               |null                |null                |null           |\n",
            "|300474    |-2260          |-512           |-1527.75      |0                     |0                     |0.0                   |-2076.0                |31191.0                |7053.75                |-2046.0              |-116.0               |-1245.25             |12029.76                  |12029.76                  |12029.76                  |0                     |0                     |0.0                   |12609.0           |660076.515        |198079.5          |0.0                    |0.0                    |0.0                    |0.0                     |0.0                     |0.0                     |0.0                       |0.0                       |0.0                       |-1059                 |-116                  |-605.5                |null                |null                |null           |\n",
            "|400797    |-244           |-244           |-244.0        |0                     |0                     |0.0                   |1082.0                 |1082.0                 |1082.0                 |null                 |null                 |null                 |null                      |null                      |null                      |0                     |0                     |0.0                   |67500.0           |67500.0           |67500.0           |0.0                    |0.0                    |0.0                    |0.0                     |0.0                     |0.0                     |0.0                       |0.0                       |0.0                       |-13                   |-13                   |-13.0                 |null                |null                |null           |\n",
            "|351086    |-598           |-169           |-290.5        |0                     |0                     |0.0                   |139.0                  |3054.0                 |1618.33                |null                 |null                 |null                 |null                      |null                      |null                      |0                     |0                     |0.0                   |270000.0          |3157915.5         |1048227.75        |0.0                    |4330746.0              |1185768.0              |0.0                     |0.0                     |0.0                     |0.0                       |0.0                       |0.0                       |-161                  |-2                    |-44.75                |null                |null                |null           |\n",
            "|412039    |-2427          |-410           |-1620.83      |0                     |0                     |0.0                   |-2275.0                |962.0                  |-1024.0                |-2275.0              |-462.0               |-1285.0              |0.0                       |0.0                       |0.0                       |0                     |0                     |0.0                   |54909.0           |450000.0          |229629.0          |0.0                    |0.0                    |0.0                    |0.0                     |0.0                     |0.0                     |0.0                       |0.0                       |0.0                       |-2275                 |-131                  |-838.67               |null                |null                |null           |\n",
            "|104688    |-2460          |-274           |-1126.6       |0                     |0                     |0.0                   |-1365.0                |1551.0                 |-105.75                |-1332.0              |-975.0               |-1153.5              |0.0                       |0.0                       |0.0                       |0                     |0                     |0.0                   |14355.0           |1768500.0         |541394.1          |0.0                    |1629994.5              |349527.6               |0.0                     |521115.39               |104223.08               |0.0                       |0.0                       |0.0                       |-1331                 |-4                    |-465.8                |0.0                 |8055.0              |2685.0         |\n",
            "|210441    |-1026          |-1026          |-1026.0       |0                     |0                     |0.0                   |-842.0                 |-842.0                 |-842.0                 |-842.0               |-842.0               |-842.0               |0.0                       |0.0                       |0.0                       |0                     |0                     |0.0                   |107775.0          |107775.0          |107775.0          |0.0                    |0.0                    |0.0                    |0.0                     |0.0                     |0.0                     |0.0                       |0.0                       |0.0                       |-842                  |-842                  |-842.0                |0.0                 |0.0                 |0.0            |\n",
            "|359354    |-639           |-56            |-255.5        |0                     |0                     |0.0                   |-312.0                 |795.0                  |46.5                   |-312.0               |-46.0                |-138.5               |0.0                       |0.0                       |0.0                       |0                     |0                     |0.0                   |19484.55          |157500.0          |65052.14          |0.0                    |139968.0               |26625.75               |0.0                     |0.0                     |0.0                     |0.0                       |0.0                       |0.0                       |-312                  |-11                   |-97.33                |0.0                 |10413.0             |3471.0         |\n",
            "|322700    |-2085          |-305           |-1043.0       |0                     |0                     |0.0                   |-1751.0                |-35.0                  |-893.0                 |-1900.0              |-35.0                |-855.0               |null                      |null                      |null                      |0                     |0                     |0.0                   |87437.7           |192235.5          |123224.4          |0.0                    |0.0                    |0.0                    |null                    |null                    |null                    |0.0                       |0.0                       |0.0                       |-737                  |-16                   |-461.0                |31500.0             |31500.0             |31500.0        |\n",
            "|122484    |-1669          |-93            |-565.75       |0                     |0                     |0.0                   |-930.0                 |819.0                  |-11.5                  |-148.0               |-148.0               |-148.0               |0.0                       |0.0                       |0.0                       |0                     |0                     |0.0                   |0.0               |485028.0          |152603.62         |0.0                    |409068.0               |108975.38              |0.0                     |0.0                     |0.0                     |0.0                       |0.0                       |0.0                       |-176                  |-7                    |-85.5                 |null                |null                |null           |\n",
            "|404885    |-2416          |-175           |-794.75       |0                     |0                     |0.0                   |-2141.0                |1651.0                 |560.75                 |-2169.0              |-213.0               |-1191.0              |0.0                       |5782.95                   |1927.65                   |0                     |0                     |0.0                   |0.0               |675000.0          |334882.13         |0.0                    |643293.0               |300549.31              |0.0                     |0.0                     |0.0                     |0.0                       |0.0                       |0.0                       |-2169                 |-17                   |-604.75               |null                |null                |null           |\n",
            "|386707    |-2886          |-375           |-1729.88      |0                     |0                     |0.0                   |-2766.0                |934.0                  |-673.63                |-2790.0              |-9.0                 |-1095.33             |0.0                       |0.0                       |0.0                       |0                     |0                     |0.0                   |15404.67          |1575000.0         |439846.96         |0.0                    |1002006.0              |125250.75              |0.0                     |0.0                     |0.0                     |0.0                       |0.0                       |0.0                       |-2790                 |-8                    |-805.5                |null                |null                |null           |\n",
            "|214660    |-1621          |-719           |-1043.33      |0                     |0                     |0.0                   |-1436.0                |1107.0                 |-5.33                  |-1436.0              |-1436.0              |-1436.0              |null                      |null                      |null                      |0                     |0                     |0.0                   |63958.5           |1807200.0         |785719.5          |0.0                    |1433925.0              |640027.5               |0.0                     |0.0                     |0.0                     |0.0                       |0.0                       |0.0                       |-1431                 |-15                   |-514.67               |0.0                 |46881.0             |23440.5        |\n",
            "|351175    |-1974          |-309           |-967.0        |0                     |0                     |0.0                   |497.0                  |3047.0                 |1687.0                 |-824.0               |-824.0               |-824.0               |null                      |null                      |null                      |0                     |0                     |0.0                   |180000.0          |2925000.0         |1152000.0         |0.0                    |314743.5               |165858.0               |0.0                     |0.0                     |0.0                     |0.0                       |0.0                       |0.0                       |-257                  |-33                   |-150.33               |0.0                 |8631.0              |4315.5         |\n",
            "|351369    |-1697          |-1697          |-1697.0       |0                     |0                     |0.0                   |-1513.0                |-1513.0                |-1513.0                |-1513.0              |-1513.0              |-1513.0              |0.0                       |0.0                       |0.0                       |0                     |0                     |0.0                   |54000.0           |54000.0           |54000.0           |0.0                    |0.0                    |0.0                    |0.0                     |0.0                     |0.0                     |0.0                       |0.0                       |0.0                       |-1513                 |-1513                 |-1513.0               |null                |null                |null           |\n",
            "|442773    |-1479          |-1365          |-1448.6       |0                     |0                     |0.0                   |-1372.0                |12806.0                |5717.0                 |-1372.0              |-310.0               |-835.5               |0.0                       |0.0                       |0.0                       |0                     |0                     |0.0                   |31324.5           |101250.0          |50780.35          |0.0                    |0.0                    |0.0                    |0.0                     |0.0                     |0.0                     |0.0                       |0.0                       |0.0                       |-1372                 |-253                  |-730.8                |null                |null                |null           |\n",
            "|379892    |-512           |-19            |-273.18       |0                     |0                     |0.0                   |-197.0                 |1807.0                 |949.09                 |null                 |null                 |null                 |0.0                       |450.0                     |112.5                     |0                     |0                     |0.0                   |0.0               |409500.0          |142577.18         |0.0                    |387936.0               |118746.77              |0.0                     |80372.295               |8037.23                 |0.0                       |0.0                       |0.0                       |-174                  |-7                    |-61.91                |null                |null                |null           |\n",
            "|285256    |-2868          |-228           |-1492.44      |0                     |0                     |0.0                   |-2687.0                |31195.0                |2523.22                |-2486.0              |-386.0               |-1236.33             |null                      |null                      |null                      |0                     |0                     |0.0                   |22500.0           |157500.0          |79249.0           |0.0                    |30730.5                |6356.25                |0.0                     |0.0                     |0.0                     |0.0                       |0.0                       |0.0                       |-2674                 |-11                   |-836.67               |null                |null                |null           |\n",
            "|192988    |-770           |-222           |-527.75       |0                     |0                     |0.0                   |-376.0                 |879.0                  |285.0                  |-376.0               |-376.0               |-376.0               |0.0                       |673.92                    |224.64                    |0                     |0                     |0.0                   |67500.0           |540000.0          |252877.5          |0.0                    |171117.0               |65956.5                |0.0                     |455175.81               |113793.95               |0.0                       |0.0                       |0.0                       |-373                  |-4                    |-106.25               |null                |null                |null           |\n",
            "|371863    |-993           |-225           |-560.0        |0                     |0                     |0.0                   |-268.0                 |871.0                  |209.6                  |-268.0               |-268.0               |-268.0               |0.0                       |0.0                       |0.0                       |0                     |0                     |0.0                   |62910.0           |1109758.5         |355583.7          |0.0                    |887553.0               |272979.9               |0.0                     |7990.65                 |1997.66                 |0.0                       |0.0                       |0.0                       |-266                  |-8                    |-76.2                 |null                |null                |null           |\n",
            "|452010    |-2691          |-134           |-1302.89      |0                     |0                     |0.0                   |-2381.0                |323.0                  |-851.89                |-2397.0              |-309.0               |-1570.0              |null                      |null                      |null                      |0                     |0                     |0.0                   |19156.5           |476730.0          |130549.5          |0.0                    |88674.075              |14423.75               |0.0                     |0.0                     |0.0                     |0.0                       |0.0                       |0.0                       |-2243                 |-7                    |-778.0                |null                |null                |null           |\n",
            "|344048    |-1815          |-1036          |-1512.33      |0                     |0                     |0.0                   |-1511.0                |-521.0                 |-1068.17               |-1693.0              |-495.0               |-1091.17             |3375.0                    |3375.0                    |3375.0                    |0                     |0                     |0.0                   |46494.0           |350041.5          |132421.59         |0.0                    |0.0                    |0.0                    |0.0                     |0.0                     |0.0                     |0.0                       |0.0                       |0.0                       |-1601                 |-489                  |-1021.83              |null                |null                |null           |\n",
            "|172959    |-2306          |-342           |-876.0        |0                     |0                     |0.0                   |-694.0                 |6825.0                 |1420.0                 |-1361.0              |-159.0               |-632.75              |0.0                       |0.0                       |0.0                       |0                     |0                     |0.0                   |30666.465         |4500000.0         |1348707.83        |0.0                    |1717231.5              |343446.3               |0.0                     |0.0                     |0.0                     |0.0                       |0.0                       |0.0                       |-754                  |-13                   |-320.0                |null                |null                |null           |\n",
            "|372156    |-693           |-57            |-229.4        |0                     |0                     |0.0                   |-603.0                 |1598.0                 |523.4                  |-603.0               |-603.0               |-603.0               |0.0                       |0.0                       |0.0                       |0                     |0                     |0.0                   |41260.5           |1318500.0         |436773.6          |0.0                    |1222645.5              |460900.13              |0.0                     |0.0                     |0.0                     |0.0                       |0.0                       |0.0                       |-600                  |-13                   |-138.2                |27355.5             |34569.0             |30240.9        |\n",
            "|263419    |-1162          |-968           |-1065.0       |0                     |0                     |0.0                   |-910.0                 |58.0                   |-426.0                 |-910.0               |-910.0               |-910.0               |0.0                       |0.0                       |0.0                       |0                     |0                     |0.0                   |86044.5           |540000.0          |313022.25         |476410.5               |476410.5               |476410.5               |0.0                     |0.0                     |0.0                     |0.0                       |0.0                       |0.0                       |-904                  |-8                    |-456.0                |23220.0             |23220.0             |23220.0        |\n",
            "|367456    |-1762          |-354           |-1007.25      |0                     |0                     |0.0                   |64.0                   |1472.0                 |819.0                  |-353.0               |-289.0               |-329.0               |null                      |null                      |null                      |0                     |0                     |0.0                   |675000.0          |2673000.0         |1438481.25        |0.0                    |2460726.0              |603165.94              |0.0                     |0.0                     |0.0                     |0.0                       |0.0                       |0.0                       |-327                  |-48                   |-139.13               |null                |null                |null           |\n",
            "|149465    |-1517          |-1516          |-1516.5       |0                     |0                     |0.0                   |-784.0                 |-784.0                 |-784.0                 |-784.0               |-766.0               |-775.0               |null                      |null                      |null                      |0                     |0                     |0.0                   |178902.0          |178902.0          |178902.0          |0.0                    |0.0                    |0.0                    |0.0                     |0.0                     |0.0                     |0.0                       |0.0                       |0.0                       |-778                  |-732                  |-755.0                |null                |null                |null           |\n",
            "|313059    |-638           |-70            |-334.29       |0                     |0                     |0.0                   |-456.0                 |27508.0                |5912.6                 |-517.0               |-336.0               |-426.5               |0.0                       |0.0                       |0.0                       |0                     |0                     |0.0                   |21501.0           |1228500.0         |428911.71         |0.0                    |1165869.0              |313530.43              |0.0                     |63000.0                 |10500.0                 |0.0                       |0.0                       |0.0                       |-512                  |-9                    |-166.71               |null                |null                |null           |\n",
            "|252206    |-2721          |-120           |-1150.3       |0                     |0                     |0.0                   |-2535.0                |1541.0                 |-102.3                 |-2535.0              |-254.0               |-1183.63             |0.0                       |4687.65                   |2283.93                   |0                     |0                     |0.0                   |19642.5           |2025000.0         |625323.6          |0.0                    |1864071.0              |349020.0               |0.0                     |0.0                     |0.0                     |0.0                       |0.0                       |0.0                       |-2533                 |-16                   |-900.6                |null                |null                |null           |\n",
            "|275400    |-2438          |-2184          |-2311.0       |0                     |0                     |0.0                   |-2132.0                |-1999.0                |-2065.5                |-1845.0              |-1199.0              |-1522.0              |0.0                       |0.0                       |0.0                       |0                     |0                     |0.0                   |29754.0           |145710.0          |87732.0           |0.0                    |0.0                    |0.0                    |0.0                     |0.0                     |0.0                     |0.0                       |0.0                       |0.0                       |-1844                 |-1196                 |-1520.0               |null                |null                |null           |\n",
            "|443032    |-2696          |-163           |-1370.0       |0                     |0                     |0.0                   |-1390.0                |568.0                  |-200.0                 |-1754.0              |-547.0               |-1150.5              |null                      |null                      |null                      |0                     |0                     |0.0                   |99000.0           |1485000.0         |585792.0          |0.0                    |97218.0                |24304.5                |0.0                     |0.0                     |0.0                     |0.0                       |0.0                       |0.0                       |-541                  |-23                   |-271.0                |0.0                 |5382.045            |4036.53        |\n",
            "|119517    |-1584          |-491           |-944.75       |0                     |0                     |0.0                   |-1462.0                |30948.0                |2153.5                 |-1462.0              |-258.0               |-795.56              |0.0                       |0.0                       |0.0                       |0                     |0                     |0.0                   |90000.0           |805500.0          |244890.78         |0.0                    |607410.0               |79809.95               |0.0                     |0.0                     |0.0                     |0.0                       |0.0                       |0.0                       |-1067                 |-10                   |-419.67               |0.0                 |54000.0             |9000.0         |\n",
            "|256425    |-2737          |-74            |-1441.05      |0                     |0                     |0.0                   |-2484.0                |377.0                  |-822.8                 |-2484.0              |-133.0               |-1360.53             |0.0                       |0.0                       |0.0                       |0                     |0                     |0.0                   |0.0               |2250000.0         |556208.33         |0.0                    |69511.5                |7436.69                |0.0                     |0.0                     |0.0                     |0.0                       |0.0                       |0.0                       |-2483                 |-9                    |-819.4                |0.0                 |41665.5             |7946.4         |\n",
            "|196013    |-1132          |-204           |-441.4        |0                     |0                     |0.0                   |-401.0                 |1162.0                 |195.78                 |-615.0               |-64.0                |-296.33              |0.0                       |0.0                       |0.0                       |0                     |0                     |0.0                   |31455.0           |948600.0          |235026.9          |0.0                    |676057.5               |114609.15              |0.0                     |86460.435               |10807.55                |0.0                       |0.0                       |0.0                       |-382                  |-13                   |-155.0                |null                |null                |null           |\n",
            "|341531    |-1166          |-52            |-512.2        |0                     |0                     |0.0                   |-190.0                 |1103.0                 |222.5                  |-204.0               |-190.0               |-197.0               |0.0                       |8235.0                    |2976.29                   |0                     |0                     |0.0                   |0.0               |315000.0          |110732.18         |0.0                    |67117.5                |16256.7                |0.0                     |0.0                     |0.0                     |0.0                       |0.0                       |0.0                       |-558                  |-11                   |-183.4                |null                |null                |null           |\n",
            "|113000    |-2892          |-725           |-1898.5       |0                     |0                     |0.0                   |-2587.0                |-781.0                 |-1985.0                |-2611.0              |-904.0               |-2032.0              |0.0                       |0.0                       |0.0                       |0                     |0                     |0.0                   |58644.0           |634500.0          |256572.0          |0.0                    |94702.5                |23675.63               |0.0                     |539793.09               |179931.03               |0.0                       |0.0                       |0.0                       |-1783                 |-24                   |-867.25               |null                |null                |null           |\n",
            "|293243    |-1266          |-627           |-930.0        |0                     |0                     |0.0                   |-992.0                 |651.0                  |-230.67                |-987.0               |-593.0               |-790.0               |null                      |null                      |null                      |0                     |0                     |0.0                   |73705.5           |563400.0          |257446.5          |0.0                    |354258.0               |118086.0               |0.0                     |0.0                     |0.0                     |0.0                       |0.0                       |0.0                       |-986                  |-15                   |-340.0                |0.0                 |20236.5             |10118.25       |\n",
            "|176073    |-2031          |-282           |-973.89       |0                     |0                     |0.0                   |-1301.0                |1544.0                 |63.63                  |-1290.0              |-311.0               |-753.0               |0.0                       |0.0                       |0.0                       |0                     |0                     |0.0                   |90000.0           |432900.0          |208316.0          |0.0                    |437004.0               |137719.69              |0.0                     |0.0                     |0.0                     |0.0                       |0.0                       |0.0                       |-1286                 |-8                    |-402.78               |0.0                 |25650.0             |7592.25        |\n",
            "|283975    |-2777          |-26            |-839.38       |0                     |0                     |0.0                   |-2440.0                |1646.0                 |-66.13                 |-2413.0              |-397.0               |-1405.0              |0.0                       |1710.0                    |342.0                     |0                     |0                     |0.0                   |15000.75          |243000.0          |104894.72         |0.0                    |207427.5               |65186.44               |0.0                     |0.0                     |0.0                     |0.0                       |0.0                       |0.0                       |-2410                 |-5                    |-452.25               |null                |null                |null           |\n",
            "|147961    |-396           |-396           |-396.0        |0                     |0                     |0.0                   |-31.0                  |-31.0                  |-31.0                  |-31.0                |-31.0                |-31.0                |0.0                       |0.0                       |0.0                       |0                     |0                     |0.0                   |278325.0          |278325.0          |278325.0          |0.0                    |0.0                    |0.0                    |0.0                     |0.0                     |0.0                     |0.0                       |0.0                       |0.0                       |-30                   |-30                   |-30.0                 |15704.46            |15704.46            |15704.46       |\n",
            "|453436    |-2852          |-2852          |-2852.0       |0                     |0                     |0.0                   |-2746.0                |-2746.0                |-2746.0                |-2368.0              |-2368.0              |-2368.0              |null                      |null                      |null                      |0                     |0                     |0.0                   |10125.0           |10125.0           |10125.0           |null                   |null                   |null                   |null                    |null                    |null                    |0.0                       |0.0                       |0.0                       |-2368                 |-2368                 |-2368.0               |null                |null                |null           |\n",
            "|120899    |-2256          |-14            |-1051.1       |0                     |0                     |0.0                   |-1889.0                |533.0                  |-625.2                 |-1920.0              |-13.0                |-859.25              |0.0                       |0.0                       |0.0                       |0                     |0                     |0.0                   |26839.44          |540000.0          |148362.84         |0.0                    |143407.35              |23890.69               |0.0                     |0.0                     |0.0                     |0.0                       |0.0                       |0.0                       |-1919                 |-13                   |-647.2                |7967.07             |7967.07             |7967.07        |\n",
            "|186314    |-2612          |-488           |-1477.0       |0                     |0                     |0.0                   |-2429.0                |962.0                  |-808.75                |-2429.0              |-836.0               |-1714.25             |29371.5                   |29371.5                   |29371.5                   |0                     |0                     |0.0                   |53325.0           |450000.0          |237430.69         |0.0                    |144544.5               |34656.43               |0.0                     |0.0                     |0.0                     |0.0                       |0.0                       |0.0                       |-2429                 |-27                   |-960.63               |null                |null                |null           |\n",
            "|319698    |-2488          |-337           |-1400.67      |0                     |0                     |0.0                   |-2304.0                |9407.0                 |1795.67                |-2304.0              |-694.0               |-1499.0              |0.0                       |17302.5                   |9228.0                    |0                     |0                     |0.0                   |16560.0           |675000.0          |324960.0          |0.0                    |456583.5               |234129.0               |0.0                     |0.0                     |0.0                     |0.0                       |0.0                       |0.0                       |-2298                 |-44                   |-782.5                |null                |null                |null           |\n",
            "|249423    |-2668          |-742           |-1784.9       |0                     |0                     |0.0                   |-2372.0                |356.0                  |-1254.5                |-2358.0              |-742.0               |-1607.0              |0.0                       |0.0                       |0.0                       |0                     |0                     |0.0                   |52456.5           |820093.455        |231967.96         |0.0                    |308538.0               |126076.98              |0.0                     |0.0                     |0.0                     |0.0                       |0.0                       |0.0                       |-2358                 |-25                   |-1449.3               |null                |null                |null           |\n",
            "|398497    |-1584          |-19            |-1000.13      |0                     |7                     |0.88                  |-1357.0                |1077.0                 |124.5                  |-1185.0              |-77.0                |-619.2               |null                      |null                      |null                      |0                     |0                     |0.0                   |0.0               |1260000.0         |502756.54         |0.0                    |1187100.0              |257650.07              |0.0                     |0.0                     |0.0                     |0.0                       |27445.5                   |3430.69                   |-1053                 |-6                    |-491.75               |29844.0             |29844.0             |29844.0        |\n",
            "|235447    |-2479          |-1456          |-2097.25      |0                     |0                     |0.0                   |-1771.0                |358.0                  |-1110.0                |-2112.0              |-1456.0              |-1749.67             |null                      |null                      |null                      |0                     |0                     |0.0                   |270000.0          |900000.0          |517500.0          |0.0                    |194980.5               |48745.13               |0.0                     |0.0                     |0.0                     |0.0                       |0.0                       |0.0                       |-2111                 |-27                   |-1316.5               |null                |null                |null           |\n",
            "|374216    |-2872          |-74            |-1730.3       |0                     |0                     |0.0                   |-2648.0                |1778.0                 |-1134.5                |-2676.0              |-396.0               |-1968.71             |0.0                       |0.0                       |0.0                       |0                     |0                     |0.0                   |14158.8           |3600000.0         |405488.92         |0.0                    |12699.0                |2438.86                |0.0                     |0.0                     |0.0                     |0.0                       |0.0                       |0.0                       |-2676                 |-11                   |-1381.8               |null                |null                |null           |\n",
            "|155251    |-862           |-546           |-683.25       |0                     |0                     |0.0                   |-418.0                 |964.0                  |176.25                 |-418.0               |-135.0               |-276.5               |0.0                       |0.0                       |0.0                       |0                     |0                     |0.0                   |31500.0           |1025797.5         |349040.93         |0.0                    |687204.0               |188616.38              |0.0                     |0.0                     |0.0                     |0.0                       |0.0                       |0.0                       |-415                  |-4                    |-139.25               |null                |null                |null           |\n",
            "|227152    |-852           |-259           |-522.8        |0                     |0                     |0.0                   |437.0                  |1408.0                 |1005.25                |null                 |null                 |null                 |null                      |null                      |null                      |0                     |0                     |0.0                   |90000.0           |900000.0          |368100.0          |123790.5               |344313.0               |216732.0               |0.0                     |0.0                     |0.0                     |0.0                       |0.0                       |0.0                       |-19                   |-11                   |-15.8                 |null                |null                |null           |\n",
            "|439991    |-1077          |-168           |-560.0        |0                     |0                     |0.0                   |-894.0                 |863.0                  |121.8                  |-894.0               |-894.0               |-894.0               |0.0                       |0.0                       |0.0                       |0                     |0                     |0.0                   |55080.0           |216450.0          |118134.0          |0.0                    |140890.5               |53927.1                |0.0                     |0.0                     |0.0                     |0.0                       |0.0                       |0.0                       |-892                  |-13                   |-191.8                |3325.5              |9450.0              |4550.4         |\n",
            "|398542    |-901           |-670           |-785.5        |0                     |0                     |0.0                   |-689.0                 |-336.0                 |-512.5                 |-717.0               |-454.0               |-585.5               |null                      |null                      |null                      |0                     |0                     |0.0                   |54807.3           |56659.5           |55733.4           |0.0                    |0.0                    |0.0                    |null                    |null                    |null                    |0.0                       |0.0                       |0.0                       |-714                  |-449                  |-581.5                |null                |null                |null           |\n",
            "|276399    |-2591          |-357           |-1320.9       |0                     |0                     |0.0                   |-1381.0                |1464.0                 |-252.7                 |-1561.0              |-91.0                |-627.78              |0.0                       |0.0                       |0.0                       |0                     |0                     |0.0                   |0.0               |1575000.0         |465463.35         |0.0                    |955498.5               |136499.79              |0.0                     |0.0                     |0.0                     |0.0                       |0.0                       |0.0                       |-1531                 |-12                   |-557.3                |null                |null                |null           |\n",
            "|143737    |-916           |-124           |-466.5        |0                     |0                     |0.0                   |-765.0                 |1444.0                 |440.5                  |-765.0               |-765.0               |-765.0               |0.0                       |31540.365                 |15770.18                  |0                     |0                     |0.0                   |88110.0           |2700000.0         |764460.0          |104521.5               |2371645.44             |874977.48              |0.0                     |0.0                     |0.0                     |0.0                       |0.0                       |0.0                       |-763                  |-14                   |-219.0                |null                |null                |null           |\n",
            "|303886    |-2793          |-354           |-1167.0       |0                     |0                     |0.0                   |-1682.0                |31100.0                |9718.67                |-291.0               |-291.0               |-291.0               |3600.0                    |3600.0                    |3600.0                    |0                     |0                     |0.0                   |30762.0           |360000.0          |175254.0          |-43.83                 |0.0                    |-14.61                 |0.0                     |43.83                   |14.61                   |0.0                       |0.0                       |0.0                       |-691                  |-49                   |-342.33               |5539.095            |5539.095            |5539.1         |\n",
            "|132318    |-2480          |-210           |-1107.71      |0                     |0                     |0.0                   |-2145.0                |1616.0                 |-412.17                |-2175.0              |-709.0               |-1363.25             |0.0                       |0.0                       |0.0                       |0                     |0                     |0.0                   |21285.0           |450000.0          |221820.49         |0.0                    |24331.5                |4866.3                 |0.0                     |0.0                     |0.0                     |0.0                       |0.0                       |0.0                       |-2175                 |-26                   |-790.0                |14728.5             |37350.0             |26039.25       |\n",
            "|171452    |-1005          |-307           |-656.0        |0                     |0                     |0.0                   |-760.0                 |1088.0                 |164.0                  |-789.0               |-789.0               |-789.0               |null                      |null                      |null                      |0                     |0                     |0.0                   |0.0               |72612.99          |36306.5           |0.0                    |0.0                    |0.0                    |0.0                     |0.0                     |0.0                     |0.0                       |0.0                       |0.0                       |-703                  |-31                   |-367.0                |null                |null                |null           |\n",
            "|455143    |-2693          |-258           |-1596.0       |0                     |0                     |0.0                   |-2358.0                |10155.0                |-262.62                |-2417.0              |-96.0                |-1451.73             |0.0                       |8370.0                    |2655.0                    |0                     |0                     |0.0                   |14355.0           |450000.0          |183439.4          |0.0                    |362403.0               |54790.88               |0.0                     |0.0                     |0.0                     |0.0                       |0.0                       |0.0                       |-2417                 |-11                   |-781.13               |0.0                 |25528.5             |5389.5         |\n",
            "|231421    |-1124          |-93            |-446.88       |0                     |0                     |0.0                   |-758.0                 |27442.0                |7912.86                |-941.0               |-307.0               |-624.0               |0.0                       |0.0                       |0.0                       |0                     |1                     |0.13                  |22500.0           |1692000.0         |380706.77         |0.0                    |604674.0               |130273.51              |0.0                     |22500.0                 |4748.54                 |0.0                       |0.0                       |0.0                       |-843                  |-8                    |-202.25               |null                |null                |null           |\n",
            "|328279    |-2588          |-2172          |-2380.0       |0                     |0                     |0.0                   |-761.0                 |-345.0                 |-553.0                 |-767.0               |-342.0               |-554.5               |28867.5                   |28867.5                   |28867.5                   |0                     |0                     |0.0                   |675000.0          |1125000.0         |900000.0          |0.0                    |0.0                    |0.0                    |0.0                     |0.0                     |0.0                     |0.0                       |0.0                       |0.0                       |-342                  |-50                   |-196.0                |null                |null                |null           |\n",
            "|443881    |-2037          |-63            |-1237.7       |0                     |0                     |0.0                   |-1853.0                |302.0                  |-991.1                 |-1883.0              |-122.0               |-1163.89             |0.0                       |8518.68                   |1703.74                   |0                     |0                     |0.0                   |27405.0           |279000.0          |80011.33          |0.0                    |88516.62               |8851.66                |0.0                     |0.0                     |0.0                     |0.0                       |0.0                       |0.0                       |-1735                 |-32                   |-869.7                |9225.0              |13438.485           |11331.74       |\n",
            "|310825    |-2325          |-54            |-1264.36      |0                     |0                     |0.0                   |-1981.0                |154.0                  |-854.6                 |-2008.0              |-16.0                |-972.78              |0.0                       |0.0                       |0.0                       |0                     |0                     |0.0                   |18090.0           |218250.0          |85752.2           |0.0                    |0.0                    |0.0                    |0.0                     |61200.0                 |6800.0                  |0.0                       |0.0                       |0.0                       |-2008                 |-16                   |-807.73               |null                |null                |null           |\n",
            "|326371    |-2486          |-183           |-967.5        |0                     |0                     |0.0                   |727.0                  |8472.0                 |3015.75                |-184.0               |-184.0               |-184.0               |null                      |null                      |null                      |0                     |0                     |0.0                   |225000.0          |4230000.0         |1395787.5         |0.0                    |929713.5               |408639.38              |0.0                     |0.0                     |0.0                     |0.0                       |0.0                       |0.0                       |-176                  |-16                   |-76.0                 |26631.0             |344430.0            |106080.75      |\n",
            "|314281    |-2246          |-47            |-1109.83      |0                     |0                     |0.0                   |-1881.0                |396.0                  |-333.5                 |-1881.0              |-459.0               |-962.75              |0.0                       |0.0                       |0.0                       |0                     |0                     |0.0                   |0.0               |160650.0          |57958.5           |0.0                    |16173.0                |3538.5                 |0.0                     |0.0                     |0.0                     |0.0                       |0.0                       |0.0                       |-1881                 |-16                   |-782.33               |null                |null                |null           |\n",
            "|424374    |-2252          |-755           |-1379.88      |0                     |0                     |0.0                   |-1795.0                |9244.0                 |752.25                 |-1795.0              |-335.0               |-1155.5              |0.0                       |0.0                       |0.0                       |0                     |1                     |0.13                  |0.0               |1575000.0         |372814.88         |0.0                    |0.0                    |0.0                    |0.0                     |0.0                     |0.0                     |0.0                       |0.0                       |0.0                       |-1794                 |-73                   |-957.75               |null                |null                |null           |\n",
            "|453520    |-2692          |-271           |-1628.75      |0                     |0                     |0.0                   |-2386.0                |825.0                  |-1156.25               |-2386.0              |-851.0               |-1816.67             |0.0                       |0.0                       |0.0                       |0                     |0                     |0.0                   |28309.5           |90000.0           |48772.13          |0.0                    |88627.5                |22156.88               |0.0                     |0.0                     |0.0                     |0.0                       |0.0                       |0.0                       |-2386                 |-36                   |-1371.25              |null                |null                |null           |\n",
            "|274848    |-2508          |-743           |-1627.67      |0                     |0                     |0.0                   |-2142.0                |337.0                  |-1155.83               |-2171.0              |-659.0               |-1451.4              |18400.23                  |18400.23                  |18400.23                  |0                     |0                     |0.0                   |18747.0           |450000.0          |143197.5          |0.0                    |150048.0               |30009.6                |0.0                     |0.0                     |0.0                     |0.0                       |0.0                       |0.0                       |-2171                 |-26                   |-1047.0               |null                |null                |null           |\n",
            "|341687    |-2457          |-157           |-1473.7       |0                     |0                     |0.0                   |-2151.0                |31137.0                |2434.78                |-2151.0              |-65.0                |-1174.56             |0.0                       |11727.0                   |1954.5                    |0                     |0                     |0.0                   |33300.0           |360000.0          |127750.33         |0.0                    |74637.0                |7463.7                 |0.0                     |53612.415               |5361.24                 |0.0                       |0.0                       |0.0                       |-2151                 |-10                   |-575.7                |null                |null                |null           |\n",
            "|328420    |-359           |-139           |-249.0        |0                     |0                     |0.0                   |141.0                  |10598.0                |3017.0                 |null                 |null                 |null                 |0.0                       |0.0                       |0.0                       |0                     |0                     |0.0                   |130500.0          |540000.0          |319500.0          |0.0                    |382671.0               |191335.5               |0.0                     |0.0                     |0.0                     |0.0                       |0.0                       |0.0                       |-44                   |-21                   |-33.5                 |null                |null                |null           |\n",
            "|347258    |-2647          |-888           |-1784.92      |0                     |0                     |0.0                   |-2281.0                |938.0                  |-1081.0                |-2396.0              |-78.0                |-1328.5              |0.0                       |3420.0                    |1140.0                    |0                     |0                     |0.0                   |18887.58          |328500.0          |143474.72         |0.0                    |144679.5               |20668.5                |0.0                     |0.0                     |0.0                     |0.0                       |0.0                       |0.0                       |-2396                 |-17                   |-1172.67              |null                |null                |null           |\n",
            "|399757    |-2644          |-312           |-1328.5       |0                     |0                     |0.0                   |-1936.0                |31181.0                |3993.0                 |-1347.0              |-735.0               |-943.67              |0.0                       |0.0                       |0.0                       |0                     |0                     |0.0                   |90000.0           |2250000.0         |887115.94         |0.0                    |1890567.0              |253841.63              |0.0                     |0.0                     |0.0                     |0.0                       |0.0                       |0.0                       |-749                  |-12                   |-230.0                |null                |null                |null           |\n",
            "+----------+---------------+---------------+--------------+----------------------+----------------------+----------------------+-----------------------+-----------------------+-----------------------+---------------------+---------------------+---------------------+--------------------------+--------------------------+--------------------------+----------------------+----------------------+----------------------+------------------+------------------+------------------+-----------------------+-----------------------+-----------------------+------------------------+------------------------+------------------------+--------------------------+--------------------------+--------------------------+----------------------+----------------------+----------------------+--------------------+--------------------+---------------+\n",
            "only showing top 100 rows\n",
            "\n"
          ]
        }
      ]
    },
    {
      "cell_type": "code",
      "source": [
        "#Filtrando o indivíduo 100002\n",
        "spark.sql(\"\"\"\n",
        "            Select\n",
        "              *\n",
        "            from\n",
        "              df_bureau_01\n",
        "            where\n",
        "              SK_ID_CURR = 100002\n",
        "\"\"\").show()"
      ],
      "metadata": {
        "colab": {
          "base_uri": "https://localhost:8080/"
        },
        "id": "lPSbM2k4npyB",
        "outputId": "53b958ee-1b50-4780-a750-f1b111104dcc"
      },
      "execution_count": 42,
      "outputs": [
        {
          "output_type": "stream",
          "name": "stdout",
          "text": [
            "+----------+---------------+---------------+--------------+----------------------+----------------------+----------------------+-----------------------+-----------------------+-----------------------+---------------------+---------------------+---------------------+--------------------------+--------------------------+--------------------------+----------------------+----------------------+----------------------+------------------+------------------+------------------+-----------------------+-----------------------+-----------------------+------------------------+------------------------+------------------------+--------------------------+--------------------------+--------------------------+----------------------+----------------------+----------------------+--------------------+--------------------+---------------+\n",
            "|SK_ID_CURR|MIN_DAYS_CREDIT|MAX_DAYS_CREDIT|AVG_DAYS_CREIT|MIN_CREDIT_DAY_OVERDUE|MAX_CREDIT_DAY_OVERDUE|AVG_CREDIT_DAY_OVERDUE|MIN_DAYS_CREDIT_ENDDATE|MAX_DAYS_CREDIT_ENDDATE|AVG_DAYS_CREDIT_ENDDATE|MIN_DAYS_ENDDATE_FACT|MAX_DAYS_ENDDATE_FACT|AVG_DAYS_ENDDATE_FACT|MIN_AMT_CREDIT_MAX_OVERDUE|MAX_AMT_CREDIT_MAX_OVERDUE|AVG_AMT_CREDIT_MAX_OVERDUE|MIN_CNT_CREDIT_PROLONG|MAX_CNT_CREDIT_PROLONG|AVG_CNT_CREDIT_PROLONG|MIN_AMT_CREDIT_SUM|MAX_AMT_CREDIT_SUM|AVG_AMT_CREDIT_SUM|MIN_AMT_CREDIT_SUM_DEBT|MAX_AMT_CREDIT_SUM_DEBT|AVG_AMT_CREDIT_SUM_DEBT|MIN_AMT_CREDIT_SUM_LIMIT|MAX_AMT_CREDIT_SUM_LIMIT|AVG_AMT_CREDIT_SUM_LIMIT|MIN_AMT_CREDIT_SUM_OVERDUE|MAX_AMT_CREDIT_SUM_OVERDUE|AVG_AMT_CREDIT_SUM_OVERDUE|MIN_DAYS_CREDIT_UPDATE|MAX_DAYS_CREDIT_UPDATE|AVG_DAYS_CREDIT_UPDATE|MIN_DAYS_AMT_ANNUITY|MAX_DAYS_AMT_ANNUITY|AVG_AMT_ANNUITY|\n",
            "+----------+---------------+---------------+--------------+----------------------+----------------------+----------------------+-----------------------+-----------------------+-----------------------+---------------------+---------------------+---------------------+--------------------------+--------------------------+--------------------------+----------------------+----------------------+----------------------+------------------+------------------+------------------+-----------------------+-----------------------+-----------------------+------------------------+------------------------+------------------------+--------------------------+--------------------------+--------------------------+----------------------+----------------------+----------------------+--------------------+--------------------+---------------+\n",
            "|    100002|          -1437|           -103|        -874.0|                     0|                     0|                   0.0|                -1072.0|                  780.0|                 -349.0|              -1185.0|                -36.0|               -697.5|                       0.0|                  5043.645|                   1681.03|                     0|                     0|                   0.0|               0.0|          450000.0|         108131.95|                    0.0|               245781.0|                49156.2|                     0.0|               31988.565|                 7997.14|                       0.0|                       0.0|                       0.0|                 -1185|                    -7|               -499.88|                 0.0|                 0.0|            0.0|\n",
            "+----------+---------------+---------------+--------------+----------------------+----------------------+----------------------+-----------------------+-----------------------+-----------------------+---------------------+---------------------+---------------------+--------------------------+--------------------------+--------------------------+----------------------+----------------------+----------------------+------------------+------------------+------------------+-----------------------+-----------------------+-----------------------+------------------------+------------------------+------------------------+--------------------------+--------------------------+--------------------------+----------------------+----------------------+----------------------+--------------------+--------------------+---------------+\n",
            "\n"
          ]
        }
      ]
    },
    {
      "cell_type": "markdown",
      "source": [
        "Indicadores preditivos considerando as regras de negócio."
      ],
      "metadata": {
        "id": "SIc6XeoJY1fJ"
      }
    },
    {
      "cell_type": "code",
      "source": [
        "#Estes indicadores aqui, serão criados em outra tabela, \"df_bureau_02\"\n",
        "\n",
        "df_bureau_02 = spark.sql(\"\"\"\n",
        "                          Select\n",
        "                            SK_ID_CURR,\n",
        "                            round(avg(abs(DAYS_CREDIT)),2) as AVG_DAYS_CREDIT,\n",
        "                            round(avg(case when CREDIT_ACTIVE in ('Active') then abs(DAYS_CREDIT) else 0 end),2) as AVG_CREDIT_ACTV_ACTIVE,\n",
        "                            round(avg(case when CREDIT_ACTIVE in ('Closed') then abs(DAYS_CREDIT) else 0 end),2) as AVG_CREDIT_ACTV_CLOSED,\n",
        "                            round(avg(case when CREDIT_ACTIVE in ('Sold') then abs(DAYS_CREDIT) else 0 end),2) as AVG_CREDIT_ACTV_SOLD,\n",
        "                            round(avg(case when CREDIT_ACTIVE in ('Bad debit') then abs(DAYS_CREDIT) else 0 end),2) as AVG_CREDIT_ACTV_BADDBT,\n",
        "\n",
        "                            round(sum(abs(DAYS_CREDIT)),2) as SUM_DAYS_CREDIT,\n",
        "                            round(sum(case when CREDIT_ACTIVE in ('Active') then abs(DAYS_CREDIT) else 0 end),2) as SUM_CREDIT_ACTV_ACTIVE,\n",
        "                            round(sum(case when CREDIT_ACTIVE in ('Closed') then abs(DAYS_CREDIT) else 0 end),2) as SUM_CREDIT_ACTV_CLOSED,\n",
        "                            round(sum(case when CREDIT_ACTIVE in ('Sold') then abs(DAYS_CREDIT) else 0 end),2) as SUM_CREDIT_ACTV_SOLD,\n",
        "                            round(sum(case when CREDIT_ACTIVE in ('Bad debit') then abs(DAYS_CREDIT) else 0 end),2) as SUM_CREDIT_ACTV_BADDBT,\n",
        "\n",
        "                            round(min(abs(DAYS_CREDIT)),2) as MIN_DAYS_CREDIT,\n",
        "                            round(min(case when CREDIT_ACTIVE in ('Active') then abs(DAYS_CREDIT) else 0 end),2) as MIN_CREDIT_ACTV_ACTIVE,\n",
        "                            round(min(case when CREDIT_ACTIVE in ('Closed') then abs(DAYS_CREDIT) else 0 end),2) as MIN_CREDIT_ACTV_CLOSED,\n",
        "                            round(min(case when CREDIT_ACTIVE in ('Sold') then abs(DAYS_CREDIT) else 0 end),2) as MIN_CREDIT_ACTV_SOLD,\n",
        "                            round(min(case when CREDIT_ACTIVE in ('Bad debit') then abs(DAYS_CREDIT) else 0 end),2) as MIN_CREDIT_ACTV_BADDBT,\n",
        "\n",
        "                            \n",
        "                            round(avg(((AMT_CREDIT_SUM_DEBT/AMT_CREDIT_SUM) * 100)),2) as AVG_AMT_CREDIT_SUM_DEBT_by_AMT_CREDIT_SUM,\n",
        "                            round(avg(case when CREDIT_ACTIVE in ('Active') then ((AMT_CREDIT_SUM_DEBT/AMT_CREDIT_SUM) * 100) else 0 end),1) as AVG_AMT_CREDIT_SUM_DEBT_by_AMT_CREDIT_SUM_ACTIVE,\n",
        "                            round(avg(case when CREDIT_ACTIVE in ('Closed') then ((AMT_CREDIT_SUM_DEBT/AMT_CREDIT_SUM) * 100) else 0 end),1) as AVG_AMT_CREDIT_SUM_DEBT_by_AMT_CREDIT_SUM_CLOSED,\n",
        "                            round(avg(case when CREDIT_ACTIVE in ('Sold') then ((AMT_CREDIT_SUM_DEBT/AMT_CREDIT_SUM) * 100) else 0 end),1) as AVG_AMT_CREDIT_SUM_DEBT_by_AMT_CREDIT_SUM_SOLD,\n",
        "                            round(avg(case when CREDIT_ACTIVE in ('Bad debit') then ((AMT_CREDIT_SUM_DEBT/AMT_CREDIT_SUM) * 100) else 0 end),1) as AVG_AMT_CREDIT_SUM_DEBT_by_AMT_CREDIT_SUM_BADDBT,\n",
        "\n",
        "                            round(min(((AMT_CREDIT_SUM_DEBT/AMT_CREDIT_SUM) * 100)),2) as MIN_AMT_CREDIT_SUM_DEBT_by_AMT_CREDIT_SUM,\n",
        "                            round(min(case when CREDIT_ACTIVE in ('Active') then ((AMT_CREDIT_SUM_DEBT/AMT_CREDIT_SUM) * 100) else 0 end),1) as MIN_AMT_CREDIT_SUM_DEBT_by_AMT_CREDIT_SUM_ACTIVE,\n",
        "                            round(min(case when CREDIT_ACTIVE in ('Closed') then ((AMT_CREDIT_SUM_DEBT/AMT_CREDIT_SUM) * 100) else 0 end),1) as MIN_AMT_CREDIT_SUM_DEBT_by_AMT_CREDIT_SUM_CLOSED,\n",
        "                            round(min(case when CREDIT_ACTIVE in ('Sold') then ((AMT_CREDIT_SUM_DEBT/AMT_CREDIT_SUM) * 100) else 0 end),1) as MIN_AMT_CREDIT_SUM_DEBT_by_AMT_CREDIT_SUM_SOLD,\n",
        "                            round(min(case when CREDIT_ACTIVE in ('Bad debit') then ((AMT_CREDIT_SUM_DEBT/AMT_CREDIT_SUM) * 100) else 0 end),1) as MIN_AMT_CREDIT_SUM_DEBT_by_AMT_CREDIT_SUM_BADDBT,\n",
        "\n",
        "                            round(max(((AMT_CREDIT_SUM_DEBT/AMT_CREDIT_SUM) * 100)),2) as MAX_AMT_CREDIT_SUM_DEBT_by_AMT_CREDIT_SUM,\n",
        "                            round(max(case when CREDIT_ACTIVE in ('Active') then ((AMT_CREDIT_SUM_DEBT/AMT_CREDIT_SUM) * 100) else 0 end),1) as MAX_AMT_CREDIT_SUM_DEBT_by_AMT_CREDIT_SUM_ACTIVE,\n",
        "                            round(max(case when CREDIT_ACTIVE in ('Closed') then ((AMT_CREDIT_SUM_DEBT/AMT_CREDIT_SUM) * 100) else 0 end),1) as MAX_AMT_CREDIT_SUM_DEBT_by_AMT_CREDIT_SUM_CLOSED,\n",
        "                            round(max(case when CREDIT_ACTIVE in ('Sold') then ((AMT_CREDIT_SUM_DEBT/AMT_CREDIT_SUM) * 100) else 0 end),1) as MAX_AMT_CREDIT_SUM_DEBT_by_AMT_CREDIT_SUM_SOLD,\n",
        "                            round(max(case when CREDIT_ACTIVE in ('Bad debit') then ((AMT_CREDIT_SUM_DEBT/AMT_CREDIT_SUM) * 100) else 0 end),1) as MAX_AMT_CREDIT_SUM_DEBT_by_AMT_CREDIT_SUM_BADDBT,\n",
        "\n",
        "                            round(avg(((AMT_CREDIT_SUM_DEBT - AMT_CREDIT_SUM) * 100)),2) as AVG_AMT_CREDIT_SUM_DEBT_minus_AMT_CREDIT_SUM,\n",
        "                            round(avg(case when CREDIT_ACTIVE in ('Active') then ((AMT_CREDIT_SUM_DEBT - AMT_CREDIT_SUM) * 100) else 0 end),1) as AVG_AMT_CREDIT_SUM_DEBT_minus_AMT_CREDIT_SUM_ACTIVE,\n",
        "                            round(avg(case when CREDIT_ACTIVE in ('Closed') then ((AMT_CREDIT_SUM_DEBT - AMT_CREDIT_SUM) * 100) else 0 end),1) as AVG_AMT_CREDIT_SUM_DEBT_minus_AMT_CREDIT_SUM_CLOSED,\n",
        "                            round(avg(case when CREDIT_ACTIVE in ('Sold') then ((AMT_CREDIT_SUM_DEBT - AMT_CREDIT_SUM) * 100) else 0 end),1) as AVG_AMT_CREDIT_SUM_DEBT_minus_AMT_CREDIT_SUM_SOLD,\n",
        "                            round(avg(case when CREDIT_ACTIVE in ('Bad debit') then ((AMT_CREDIT_SUM_DEBT - AMT_CREDIT_SUM) * 100) else 0 end),1) as AVG_AMT_CREDIT_SUM_DEBT_minus_AMT_CREDIT_SUM_BADDBT,\n",
        "\n",
        "                            round(min(((AMT_CREDIT_SUM_DEBT - AMT_CREDIT_SUM) * 100)),2) as MIN_AMT_CREDIT_SUM_DEBT_minus_AMT_CREDIT_SUM,\n",
        "                            round(min(case when CREDIT_ACTIVE in ('Active') then ((AMT_CREDIT_SUM_DEBT - AMT_CREDIT_SUM) * 100) else 0 end),1) as MIN_AMT_CREDIT_SUM_DEBT_minus_AMT_CREDIT_SUM_ACTIVE,\n",
        "                            round(min(case when CREDIT_ACTIVE in ('Closed') then ((AMT_CREDIT_SUM_DEBT - AMT_CREDIT_SUM) * 100) else 0 end),1) as MIN_AMT_CREDIT_SUM_DEBT_minus_AMT_CREDIT_SUM_CLOSED,\n",
        "                            round(min(case when CREDIT_ACTIVE in ('Sold') then ((AMT_CREDIT_SUM_DEBT - AMT_CREDIT_SUM) * 100) else 0 end),1) as MIN_AMT_CREDIT_SUM_DEBT_minus_AMT_CREDIT_SUM_SOLD,\n",
        "                            round(min(case when CREDIT_ACTIVE in ('Bad debit') then ((AMT_CREDIT_SUM_DEBT - AMT_CREDIT_SUM) * 100) else 0 end),1) as MIN_AMT_CREDIT_SUM_DEBT_minus_AMT_CREDIT_SUM_BADDBT,\n",
        "\n",
        "                            round(max(((AMT_CREDIT_SUM_DEBT - AMT_CREDIT_SUM) * 100)),2) as MAX_AMT_CREDIT_SUM_DEBT_minus_AMT_CREDIT_SUM,\n",
        "                            round(max(case when CREDIT_ACTIVE in ('Active') then ((AMT_CREDIT_SUM_DEBT - AMT_CREDIT_SUM) * 100) else 0 end),1) as MAX_AMT_CREDIT_SUM_DEBT_minus_AMT_CREDIT_SUM_ACTIVE,\n",
        "                            round(max(case when CREDIT_ACTIVE in ('Closed') then ((AMT_CREDIT_SUM_DEBT - AMT_CREDIT_SUM) * 100) else 0 end),1) as MAX_AMT_CREDIT_SUM_DEBT_minus_AMT_CREDIT_SUM_CLOSED,\n",
        "                            round(max(case when CREDIT_ACTIVE in ('Sold') then ((AMT_CREDIT_SUM_DEBT - AMT_CREDIT_SUM) * 100) else 0 end),1) as MAX_AMT_CREDIT_SUM_DEBT_minus_AMT_CREDIT_SUM_SOLD,\n",
        "                            round(max(case when CREDIT_ACTIVE in ('Bad debit') then ((AMT_CREDIT_SUM_DEBT - AMT_CREDIT_SUM) * 100) else 0 end),1) as MAX_AMT_CREDIT_SUM_DEBT_minus_AMT_CREDIT_SUM_BADDBT\n",
        "\n",
        "                          from\n",
        "                            bureau\n",
        "                          group by\n",
        "                            SK_ID_CURR\n",
        "\"\"\")\n",
        "\n",
        "df_bureau_02.registerTempTable('df_bureau_02')\n",
        "\n",
        "df_bureau_02.count()"
      ],
      "metadata": {
        "colab": {
          "base_uri": "https://localhost:8080/"
        },
        "id": "jjA0H2YrY83e",
        "outputId": "6b6e78db-82c4-418d-b671-2cc7f940202f"
      },
      "execution_count": 92,
      "outputs": [
        {
          "output_type": "execute_result",
          "data": {
            "text/plain": [
              "305811"
            ]
          },
          "metadata": {},
          "execution_count": 92
        }
      ]
    },
    {
      "cell_type": "markdown",
      "source": [
        "Verificando a volumetria e os dados gerados na tabela \"df_bureau_02\""
      ],
      "metadata": {
        "id": "FW6AEwjge__m"
      }
    },
    {
      "cell_type": "code",
      "source": [
        "df_bureau_02.show()\n",
        "df_bureau_02.count()"
      ],
      "metadata": {
        "colab": {
          "base_uri": "https://localhost:8080/"
        },
        "id": "miSroca8fN3B",
        "outputId": "5c5aad64-4280-4720-b6e1-65592d197a05"
      },
      "execution_count": 93,
      "outputs": [
        {
          "output_type": "stream",
          "name": "stdout",
          "text": [
            "+----------+---------------+----------------------+----------------------+--------------------+----------------------+---------------+----------------------+----------------------+--------------------+----------------------+---------------+----------------------+----------------------+--------------------+----------------------+-----------------------------------------+------------------------------------------------+------------------------------------------------+----------------------------------------------+------------------------------------------------+-----------------------------------------+------------------------------------------------+------------------------------------------------+----------------------------------------------+------------------------------------------------+-----------------------------------------+------------------------------------------------+------------------------------------------------+----------------------------------------------+------------------------------------------------+--------------------------------------------+---------------------------------------------------+---------------------------------------------------+-------------------------------------------------+---------------------------------------------------+--------------------------------------------+---------------------------------------------------+---------------------------------------------------+-------------------------------------------------+---------------------------------------------------+--------------------------------------------+---------------------------------------------------+---------------------------------------------------+-------------------------------------------------+---------------------------------------------------+\n",
            "|SK_ID_CURR|AVG_DAYS_CREDIT|AVG_CREDIT_ACTV_ACTIVE|AVG_CREDIT_ACTV_CLOSED|AVG_CREDIT_ACTV_SOLD|AVG_CREDIT_ACTV_BADDBT|SUM_DAYS_CREDIT|SUM_CREDIT_ACTV_ACTIVE|SUM_CREDIT_ACTV_CLOSED|SUM_CREDIT_ACTV_SOLD|SUM_CREDIT_ACTV_BADDBT|MIN_DAYS_CREDIT|MIN_CREDIT_ACTV_ACTIVE|MIN_CREDIT_ACTV_CLOSED|MIN_CREDIT_ACTV_SOLD|MIN_CREDIT_ACTV_BADDBT|AVG_AMT_CREDIT_SUM_DEBT_by_AMT_CREDIT_SUM|AVG_AMT_CREDIT_SUM_DEBT_by_AMT_CREDIT_SUM_ACTIVE|AVG_AMT_CREDIT_SUM_DEBT_by_AMT_CREDIT_SUM_CLOSED|AVG_AMT_CREDIT_SUM_DEBT_by_AMT_CREDIT_SUM_SOLD|AVG_AMT_CREDIT_SUM_DEBT_by_AMT_CREDIT_SUM_BADDBT|MIN_AMT_CREDIT_SUM_DEBT_by_AMT_CREDIT_SUM|MIN_AMT_CREDIT_SUM_DEBT_by_AMT_CREDIT_SUM_ACTIVE|MIN_AMT_CREDIT_SUM_DEBT_by_AMT_CREDIT_SUM_CLOSED|MIN_AMT_CREDIT_SUM_DEBT_by_AMT_CREDIT_SUM_SOLD|MIN_AMT_CREDIT_SUM_DEBT_by_AMT_CREDIT_SUM_BADDBT|MAX_AMT_CREDIT_SUM_DEBT_by_AMT_CREDIT_SUM|MAX_AMT_CREDIT_SUM_DEBT_by_AMT_CREDIT_SUM_ACTIVE|MAX_AMT_CREDIT_SUM_DEBT_by_AMT_CREDIT_SUM_CLOSED|MAX_AMT_CREDIT_SUM_DEBT_by_AMT_CREDIT_SUM_SOLD|MAX_AMT_CREDIT_SUM_DEBT_by_AMT_CREDIT_SUM_BADDBT|AVG_AMT_CREDIT_SUM_DEBT_minus_AMT_CREDIT_SUM|AVG_AMT_CREDIT_SUM_DEBT_minus_AMT_CREDIT_SUM_ACTIVE|AVG_AMT_CREDIT_SUM_DEBT_minus_AMT_CREDIT_SUM_CLOSED|AVG_AMT_CREDIT_SUM_DEBT_minus_AMT_CREDIT_SUM_SOLD|AVG_AMT_CREDIT_SUM_DEBT_minus_AMT_CREDIT_SUM_BADDBT|MIN_AMT_CREDIT_SUM_DEBT_minus_AMT_CREDIT_SUM|MIN_AMT_CREDIT_SUM_DEBT_minus_AMT_CREDIT_SUM_ACTIVE|MIN_AMT_CREDIT_SUM_DEBT_minus_AMT_CREDIT_SUM_CLOSED|MIN_AMT_CREDIT_SUM_DEBT_minus_AMT_CREDIT_SUM_SOLD|MIN_AMT_CREDIT_SUM_DEBT_minus_AMT_CREDIT_SUM_BADDBT|MAX_AMT_CREDIT_SUM_DEBT_minus_AMT_CREDIT_SUM|MAX_AMT_CREDIT_SUM_DEBT_minus_AMT_CREDIT_SUM_ACTIVE|MAX_AMT_CREDIT_SUM_DEBT_minus_AMT_CREDIT_SUM_CLOSED|MAX_AMT_CREDIT_SUM_DEBT_minus_AMT_CREDIT_SUM_SOLD|MAX_AMT_CREDIT_SUM_DEBT_minus_AMT_CREDIT_SUM_BADDBT|\n",
            "+----------+---------------+----------------------+----------------------+--------------------+----------------------+---------------+----------------------+----------------------+--------------------+----------------------+---------------+----------------------+----------------------+--------------------+----------------------+-----------------------------------------+------------------------------------------------+------------------------------------------------+----------------------------------------------+------------------------------------------------+-----------------------------------------+------------------------------------------------+------------------------------------------------+----------------------------------------------+------------------------------------------------+-----------------------------------------+------------------------------------------------+------------------------------------------------+----------------------------------------------+------------------------------------------------+--------------------------------------------+---------------------------------------------------+---------------------------------------------------+-------------------------------------------------+---------------------------------------------------+--------------------------------------------+---------------------------------------------------+---------------------------------------------------+-------------------------------------------------+---------------------------------------------------+--------------------------------------------+---------------------------------------------------+---------------------------------------------------+-------------------------------------------------+---------------------------------------------------+\n",
            "|    341504|          283.5|                 283.5|                   0.0|                 0.0|                   0.0|            567|                   567|                     0|                   0|                     0|            282|                   282|                     0|                   0|                     0|                                    77.18|                                            77.2|                                             0.0|                                           0.0|                                             0.0|                                    26.45|                                            26.4|                                             0.0|                                           0.0|                                             0.0|                                   127.91|                                           127.9|                                             0.0|                                           0.0|                                             0.0|                                  -2452338.0|                                         -2452338.0|                                                0.0|                                              0.0|                                                0.0|                                -1.2440826E7|                                       -1.2440826E7|                                                0.0|                                              0.0|                                                0.0|                                   7536150.0|                                          7536150.0|                                                0.0|                                              0.0|                                                0.0|\n",
            "|    197603|        1916.43|                   0.0|               1916.43|                 0.0|                   0.0|          13415|                     0|                 13415|                   0|                     0|            594|                     0|                   594|                   0|                     0|                                      0.0|                                             0.0|                                             0.0|                                           0.0|                                             0.0|                                      0.0|                                             0.0|                                             0.0|                                           0.0|                                             0.0|                                      0.0|                                             0.0|                                             0.0|                                           0.0|                                             0.0|                                 -1.619631E7|                                                0.0|                                        -1.619631E7|                                              0.0|                                                0.0|                                 -2.449665E7|                                                0.0|                                        -2.449665E7|                                              0.0|                                                0.0|                                  -5535000.0|                                                0.0|                                         -5535000.0|                                              0.0|                                                0.0|\n",
            "|    330299|         1645.0|                 76.47|               1568.53|                 0.0|                   0.0|          24675|                  1147|                 23528|                   0|                     0|             98|                     0|                     0|                   0|                     0|                                     6.18|                                             5.8|                                             0.0|                                           0.0|                                             0.0|                                      0.0|                                             0.0|                                             0.0|                                           0.0|                                             0.0|                                    86.56|                                            86.6|                                             0.0|                                           0.0|                                             0.0|                              -1.057008214E7|                                         -3247350.0|                                         -7090778.6|                                              0.0|                                                0.0|                                    -3.825E7|                                           -3.825E7|                                        -1.984005E7|                                              0.0|                                                0.0|                                  -1350000.0|                                                0.0|                                                0.0|                                              0.0|                                                0.0|\n",
            "|    355377|         1540.0|                111.89|               1428.11|                 0.0|                   0.0|          13860|                  1007|                 12853|                   0|                     0|            859|                     0|                     0|                   0|                     0|                                     9.46|                                             6.3|                                             0.0|                                           0.0|                                             0.0|                                      0.0|                                             0.0|                                             0.0|                                           0.0|                                             0.0|                                    56.78|                                            56.8|                                             0.0|                                           0.0|                                             0.0|                              -1.563908657E7|                                         -2550250.0|                                      -1.23601937E7|                                              0.0|                                                0.0|                                      -4.5E7|                                        -2.295225E7|                                             -4.5E7|                                              0.0|                                                0.0|                                         0.0|                                                0.0|                                                0.0|                                              0.0|                                                0.0|\n",
            "|    454739|        1215.86|                235.43|                980.43|                 0.0|                   0.0|           8511|                  1648|                  6863|                   0|                     0|            157|                     0|                     0|                   0|                     0|                                    16.57|                                            16.6|                                             0.0|                                           0.0|                                             0.0|                                      0.0|                                             0.0|                                             0.0|                                           0.0|                                             0.0|                                    99.44|                                            99.4|                                             0.0|                                           0.0|                                             0.0|                              -2.921499525E7|                                           -16800.0|                                      -2.50270245E7|                                              0.0|                                                0.0|                                      -9.0E7|                                          -100800.0|                                             -9.0E7|                                              0.0|                                                0.0|                                   -100800.0|                                                0.0|                                                0.0|                                              0.0|                                                0.0|\n",
            "|    295286|        1264.89|                112.33|               1152.56|                 0.0|                   0.0|          11384|                  1011|                 10373|                   0|                     0|            212|                     0|                     0|                   0|                     0|                                    19.36|                                            10.8|                                             0.0|                                           0.0|                                             0.0|                                      0.0|                                             0.0|                                             0.0|                                           0.0|                                             0.0|                                     96.8|                                            96.8|                                             0.0|                                           0.0|                                             0.0|                                 -2.775591E7|                                         -9619950.0|                                           -1.044E7|                                              0.0|                                                0.0|                                     -6.12E7|                                            -6.12E7|                                            -2.97E7|                                              0.0|                                                0.0|                                  -2879550.0|                                                0.0|                                                0.0|                                              0.0|                                                0.0|\n",
            "|    192082|        1451.21|                 93.54|               1357.67|                 0.0|                   0.0|          34829|                  2245|                 32584|                   0|                     0|            199|                     0|                     0|                   0|                     0|                                     8.69|                                             8.3|                                             0.0|                                           0.0|                                             0.0|                                      0.0|                                             0.0|                                             0.0|                                           0.0|                                             0.0|                                    88.34|                                            88.3|                                             0.0|                                           0.0|                                             0.0|                              -2.182817974E7|                                         -4170393.8|                                      -1.74764645E7|                                              0.0|                                                0.0|                                     -1.35E8|                                         -6.15285E7|                                            -1.35E8|                                              0.0|                                                0.0|                                  -2067300.0|                                                0.0|                                                0.0|                                              0.0|                                                0.0|\n",
            "|    109608|         504.33|                 73.33|                 431.0|                 0.0|                   0.0|           1513|                   220|                  1293|                   0|                     0|             40|                     0|                     0|                   0|                     0|                                      0.0|                                             0.0|                                             0.0|                                           0.0|                                             0.0|                                      0.0|                                             0.0|                                             0.0|                                           0.0|                                             0.0|                                      0.0|                                             0.0|                                             0.0|                                           0.0|                                             0.0|                                  -7650000.0|                                                0.0|                                         -2550000.0|                                              0.0|                                                0.0|                                  -7650000.0|                                                0.0|                                         -7650000.0|                                              0.0|                                                0.0|                                  -7650000.0|                                                0.0|                                                0.0|                                              0.0|                                                0.0|\n",
            "|    375705|         896.75|                155.75|                 741.0|                 0.0|                   0.0|           3587|                   623|                  2964|                   0|                     0|            623|                     0|                     0|                   0|                     0|                                      0.0|                                             0.0|                                             0.0|                                           0.0|                                             0.0|                                      0.0|                                             0.0|                                             0.0|                                           0.0|                                             0.0|                                      0.0|                                             0.0|                                             0.0|                                           0.0|                                             0.0|                                   -2.4531E7|                                         -8212500.0|                                          -1.3581E7|                                              0.0|                                                0.0|                                    -3.285E7|                                           -3.285E7|                                            -3.24E7|                                              0.0|                                                0.0|                                  -8343000.0|                                                0.0|                                                0.0|                                              0.0|                                                0.0|\n",
            "|    380065|         638.67|                136.33|                502.33|                 0.0|                   0.0|           1916|                   409|                  1507|                   0|                     0|            409|                     0|                     0|                   0|                     0|                                      0.0|                                             0.0|                                             0.0|                                           0.0|                                             0.0|                                      0.0|                                             0.0|                                             0.0|                                           0.0|                                             0.0|                                      0.0|                                             0.0|                                             0.0|                                           0.0|                                             0.0|                                 -2.346525E7|                                                0.0|                                         -1.56435E7|                                              0.0|                                                0.0|                                  -2.44305E7|                                                0.0|                                         -2.44305E7|                                              0.0|                                                0.0|                                     -2.25E7|                                                0.0|                                                0.0|                                              0.0|                                                0.0|\n",
            "|    416191|         1429.0|                   0.0|                1429.0|                 0.0|                   0.0|           4287|                     0|                  4287|                   0|                     0|            640|                     0|                   640|                   0|                     0|                                      0.0|                                             0.0|                                             0.0|                                           0.0|                                             0.0|                                      0.0|                                             0.0|                                             0.0|                                           0.0|                                             0.0|                                      0.0|                                             0.0|                                             0.0|                                           0.0|                                             0.0|                                  -4882275.0|                                                0.0|                                         -4882275.0|                                              0.0|                                                0.0|                                  -5400000.0|                                                0.0|                                         -5400000.0|                                              0.0|                                                0.0|                                  -4364550.0|                                                0.0|                                         -4364550.0|                                              0.0|                                                0.0|\n",
            "|    162260|         1507.4|                 307.8|                1199.6|                 0.0|                   0.0|           7537|                  1539|                  5998|                   0|                     0|            185|                     0|                     0|                   0|                     0|                                    19.43|                                            19.4|                                             0.0|                                           0.0|                                             0.0|                                      0.0|                                             0.0|                                             0.0|                                           0.0|                                             0.0|                                    97.13|                                            97.1|                                             0.0|                                           0.0|                                             0.0|                                -1.1560986E8|                                        -1.750986E7|                                            -9.81E7|                                              0.0|                                                0.0|                                      -3.6E8|                                            -5.67E7|                                             -3.6E8|                                              0.0|                                                0.0|                                      -1.8E7|                                                0.0|                                                0.0|                                              0.0|                                                0.0|\n",
            "|    166160|          856.0|                 856.0|                   0.0|                 0.0|                   0.0|           1712|                  1712|                     0|                   0|                     0|            822|                   822|                     0|                   0|                     0|                                    75.12|                                            75.1|                                             0.0|                                           0.0|                                             0.0|                                     55.8|                                            55.8|                                             0.0|                                           0.0|                                             0.0|                                    94.44|                                            94.4|                                             0.0|                                           0.0|                                             0.0|                                 -1.028745E7|                                        -1.028745E7|                                                0.0|                                              0.0|                                                0.0|                                   -1.0629E7|                                          -1.0629E7|                                                0.0|                                              0.0|                                                0.0|                                  -9945900.0|                                         -9945900.0|                                                0.0|                                              0.0|                                                0.0|\n",
            "|    191350|          151.0|                 151.0|                   0.0|                 0.0|                   0.0|            151|                   151|                     0|                   0|                     0|            151|                   151|                     0|                   0|                     0|                                   142.72|                                           142.7|                                             0.0|                                           0.0|                                             0.0|                                   142.72|                                           142.7|                                             0.0|                                           0.0|                                             0.0|                                   142.72|                                           142.7|                                             0.0|                                           0.0|                                             0.0|                                 1.2386115E8|                                        1.2386115E8|                                                0.0|                                              0.0|                                                0.0|                                 1.2386115E8|                                        1.2386115E8|                                                0.0|                                              0.0|                                                0.0|                                 1.2386115E8|                                        1.2386115E8|                                                0.0|                                              0.0|                                                0.0|\n",
            "|    258865|          979.5|                 979.5|                   0.0|                 0.0|                   0.0|           1959|                  1959|                     0|                   0|                     0|            198|                   198|                     0|                   0|                     0|                                     null|                                            null|                                             0.0|                                           0.0|                                             0.0|                                     null|                                            null|                                             0.0|                                           0.0|                                             0.0|                                     null|                                            null|                                             0.0|                                           0.0|                                             0.0|                                        null|                                               null|                                                0.0|                                              0.0|                                                0.0|                                        null|                                               null|                                                0.0|                                              0.0|                                                0.0|                                        null|                                               null|                                                0.0|                                              0.0|                                                0.0|\n",
            "|    439807|          795.2|                  37.8|                 757.4|                 0.0|                   0.0|           3976|                   189|                  3787|                   0|                     0|            189|                     0|                     0|                   0|                     0|                                     1.06|                                             1.1|                                             0.0|                                           0.0|                                             0.0|                                      0.0|                                             0.0|                                             0.0|                                           0.0|                                             0.0|                                     5.29|                                             5.3|                                             0.0|                                           0.0|                                             0.0|                                  -7575390.0|                                         -2983320.0|                                         -4592070.0|                                              0.0|                                                0.0|                                  -1.49166E7|                                         -1.49166E7|                                         -6799050.0|                                              0.0|                                                0.0|                                  -3595500.0|                                                0.0|                                                0.0|                                              0.0|                                                0.0|\n",
            "|    258129|         434.75|                 124.5|                310.25|                 0.0|                   0.0|           1739|                   498|                  1241|                   0|                     0|            212|                     0|                     0|                   0|                     0|                                    40.74|                                            40.7|                                             0.0|                                           0.0|                                             0.0|                                      0.0|                                             0.0|                                             0.0|                                           0.0|                                             0.0|                                    83.89|                                            83.9|                                             0.0|                                           0.0|                                             0.0|                                 -5891842.13|                                         -1831079.2|                                         -4060762.9|                                              0.0|                                                0.0|                               -1.29229515E7|                                         -5166117.0|                                      -1.29229515E7|                                              0.0|                                                0.0|                                  -2158200.0|                                                0.0|                                                0.0|                                              0.0|                                                0.0|\n",
            "|    133018|        1261.64|                 55.36|               1206.27|                 0.0|                   0.0|          13878|                   609|                 13269|                   0|                     0|            213|                     0|                     0|                   0|                     0|                                     36.2|                                            15.9|                                            11.2|                                           0.0|                                             0.0|                                      0.0|                                             0.0|                                             0.0|                                           0.0|                                             0.0|                                    95.55|                                            95.6|                                            78.6|                                           0.0|                                             0.0|                               -1.56943125E7|                                          -597395.5|                                      -1.48728938E7|                                              0.0|                                                0.0|                                      -5.4E7|                                         -5971050.0|                                             -5.4E7|                                              0.0|                                                0.0|                                         0.0|                                                0.0|                                                0.0|                                              0.0|                                                0.0|\n",
            "|    338173|        1318.24|                205.94|               1112.29|                 0.0|                   0.0|          22410|                  3501|                 18909|                   0|                     0|            301|                     0|                     0|                   0|                     0|                                    18.08|                                            11.7|                                             0.0|                                           0.0|                                             0.0|                                      0.0|                                             0.0|                                             0.0|                                           0.0|                                             0.0|                                    76.67|                                            76.7|                                             0.0|                                           0.0|                                             0.0|                                  -6369606.0|                                         -2515248.0|                                         -2482404.5|                                              0.0|                                                0.0|                                 -2.325465E7|                                        -2.325465E7|                                         -9225000.0|                                              0.0|                                                0.0|                                  -1346166.0|                                                0.0|                                                0.0|                                              0.0|                                                0.0|\n",
            "|    338091|         1022.0|                   0.0|                1022.0|                 0.0|                   0.0|           1022|                     0|                  1022|                   0|                     0|           1022|                     0|                  1022|                   0|                     0|                                      0.0|                                             0.0|                                             0.0|                                           0.0|                                             0.0|                                      0.0|                                             0.0|                                             0.0|                                           0.0|                                             0.0|                                      0.0|                                             0.0|                                             0.0|                                           0.0|                                             0.0|                                  -1.08684E7|                                                0.0|                                         -1.08684E7|                                              0.0|                                                0.0|                                  -1.08684E7|                                                0.0|                                         -1.08684E7|                                              0.0|                                                0.0|                                  -1.08684E7|                                                0.0|                                         -1.08684E7|                                              0.0|                                                0.0|\n",
            "+----------+---------------+----------------------+----------------------+--------------------+----------------------+---------------+----------------------+----------------------+--------------------+----------------------+---------------+----------------------+----------------------+--------------------+----------------------+-----------------------------------------+------------------------------------------------+------------------------------------------------+----------------------------------------------+------------------------------------------------+-----------------------------------------+------------------------------------------------+------------------------------------------------+----------------------------------------------+------------------------------------------------+-----------------------------------------+------------------------------------------------+------------------------------------------------+----------------------------------------------+------------------------------------------------+--------------------------------------------+---------------------------------------------------+---------------------------------------------------+-------------------------------------------------+---------------------------------------------------+--------------------------------------------+---------------------------------------------------+---------------------------------------------------+-------------------------------------------------+---------------------------------------------------+--------------------------------------------+---------------------------------------------------+---------------------------------------------------+-------------------------------------------------+---------------------------------------------------+\n",
            "only showing top 20 rows\n",
            "\n"
          ]
        },
        {
          "output_type": "execute_result",
          "data": {
            "text/plain": [
              "305811"
            ]
          },
          "metadata": {},
          "execution_count": 93
        }
      ]
    },
    {
      "cell_type": "code",
      "source": [
        "#Filtrando o evento 100002\n",
        "spark.sql(\"\"\"\n",
        "            select\n",
        "              *\n",
        "            from\n",
        "              df_bureau_02\n",
        "            where\n",
        "              SK_ID_CURR = 100002\n",
        "\"\"\").show()"
      ],
      "metadata": {
        "colab": {
          "base_uri": "https://localhost:8080/"
        },
        "id": "ceKFruNshvFm",
        "outputId": "65ff3f31-6077-4109-fb4f-a86ddb552fad"
      },
      "execution_count": 94,
      "outputs": [
        {
          "output_type": "stream",
          "name": "stdout",
          "text": [
            "+----------+---------------+----------------------+----------------------+--------------------+----------------------+---------------+----------------------+----------------------+--------------------+----------------------+---------------+----------------------+----------------------+--------------------+----------------------+-----------------------------------------+------------------------------------------------+------------------------------------------------+----------------------------------------------+------------------------------------------------+-----------------------------------------+------------------------------------------------+------------------------------------------------+----------------------------------------------+------------------------------------------------+-----------------------------------------+------------------------------------------------+------------------------------------------------+----------------------------------------------+------------------------------------------------+--------------------------------------------+---------------------------------------------------+---------------------------------------------------+-------------------------------------------------+---------------------------------------------------+--------------------------------------------+---------------------------------------------------+---------------------------------------------------+-------------------------------------------------+---------------------------------------------------+--------------------------------------------+---------------------------------------------------+---------------------------------------------------+-------------------------------------------------+---------------------------------------------------+\n",
            "|SK_ID_CURR|AVG_DAYS_CREDIT|AVG_CREDIT_ACTV_ACTIVE|AVG_CREDIT_ACTV_CLOSED|AVG_CREDIT_ACTV_SOLD|AVG_CREDIT_ACTV_BADDBT|SUM_DAYS_CREDIT|SUM_CREDIT_ACTV_ACTIVE|SUM_CREDIT_ACTV_CLOSED|SUM_CREDIT_ACTV_SOLD|SUM_CREDIT_ACTV_BADDBT|MIN_DAYS_CREDIT|MIN_CREDIT_ACTV_ACTIVE|MIN_CREDIT_ACTV_CLOSED|MIN_CREDIT_ACTV_SOLD|MIN_CREDIT_ACTV_BADDBT|AVG_AMT_CREDIT_SUM_DEBT_by_AMT_CREDIT_SUM|AVG_AMT_CREDIT_SUM_DEBT_by_AMT_CREDIT_SUM_ACTIVE|AVG_AMT_CREDIT_SUM_DEBT_by_AMT_CREDIT_SUM_CLOSED|AVG_AMT_CREDIT_SUM_DEBT_by_AMT_CREDIT_SUM_SOLD|AVG_AMT_CREDIT_SUM_DEBT_by_AMT_CREDIT_SUM_BADDBT|MIN_AMT_CREDIT_SUM_DEBT_by_AMT_CREDIT_SUM|MIN_AMT_CREDIT_SUM_DEBT_by_AMT_CREDIT_SUM_ACTIVE|MIN_AMT_CREDIT_SUM_DEBT_by_AMT_CREDIT_SUM_CLOSED|MIN_AMT_CREDIT_SUM_DEBT_by_AMT_CREDIT_SUM_SOLD|MIN_AMT_CREDIT_SUM_DEBT_by_AMT_CREDIT_SUM_BADDBT|MAX_AMT_CREDIT_SUM_DEBT_by_AMT_CREDIT_SUM|MAX_AMT_CREDIT_SUM_DEBT_by_AMT_CREDIT_SUM_ACTIVE|MAX_AMT_CREDIT_SUM_DEBT_by_AMT_CREDIT_SUM_CLOSED|MAX_AMT_CREDIT_SUM_DEBT_by_AMT_CREDIT_SUM_SOLD|MAX_AMT_CREDIT_SUM_DEBT_by_AMT_CREDIT_SUM_BADDBT|AVG_AMT_CREDIT_SUM_DEBT_minus_AMT_CREDIT_SUM|AVG_AMT_CREDIT_SUM_DEBT_minus_AMT_CREDIT_SUM_ACTIVE|AVG_AMT_CREDIT_SUM_DEBT_minus_AMT_CREDIT_SUM_CLOSED|AVG_AMT_CREDIT_SUM_DEBT_minus_AMT_CREDIT_SUM_SOLD|AVG_AMT_CREDIT_SUM_DEBT_minus_AMT_CREDIT_SUM_BADDBT|MIN_AMT_CREDIT_SUM_DEBT_minus_AMT_CREDIT_SUM|MIN_AMT_CREDIT_SUM_DEBT_minus_AMT_CREDIT_SUM_ACTIVE|MIN_AMT_CREDIT_SUM_DEBT_minus_AMT_CREDIT_SUM_CLOSED|MIN_AMT_CREDIT_SUM_DEBT_minus_AMT_CREDIT_SUM_SOLD|MIN_AMT_CREDIT_SUM_DEBT_minus_AMT_CREDIT_SUM_BADDBT|MAX_AMT_CREDIT_SUM_DEBT_minus_AMT_CREDIT_SUM|MAX_AMT_CREDIT_SUM_DEBT_minus_AMT_CREDIT_SUM_ACTIVE|MAX_AMT_CREDIT_SUM_DEBT_minus_AMT_CREDIT_SUM_CLOSED|MAX_AMT_CREDIT_SUM_DEBT_minus_AMT_CREDIT_SUM_SOLD|MAX_AMT_CREDIT_SUM_DEBT_minus_AMT_CREDIT_SUM_BADDBT|\n",
            "+----------+---------------+----------------------+----------------------+--------------------+----------------------+---------------+----------------------+----------------------+--------------------+----------------------+---------------+----------------------+----------------------+--------------------+----------------------+-----------------------------------------+------------------------------------------------+------------------------------------------------+----------------------------------------------+------------------------------------------------+-----------------------------------------+------------------------------------------------+------------------------------------------------+----------------------------------------------+------------------------------------------------+-----------------------------------------+------------------------------------------------+------------------------------------------------+----------------------------------------------+------------------------------------------------+--------------------------------------------+---------------------------------------------------+---------------------------------------------------+-------------------------------------------------+---------------------------------------------------+--------------------------------------------+---------------------------------------------------+---------------------------------------------------+-------------------------------------------------+---------------------------------------------------+--------------------------------------------+---------------------------------------------------+---------------------------------------------------+-------------------------------------------------+---------------------------------------------------+\n",
            "|    100002|          874.0|                143.13|                730.88|                 0.0|                   0.0|           6992|                  1145|                  5847|                   0|                     0|            103|                     0|                     0|                   0|                     0|                                    13.65|                                             6.8|                                             0.0|                                           0.0|                                             0.0|                                      0.0|                                             0.0|                                             0.0|                                           0.0|                                             0.0|                                    54.62|                                            54.6|                                             0.0|                                           0.0|                                             0.0|                                  -9838851.3|                                         -2952594.6|                                         -5114700.0|                                              0.0|                                                0.0|                                  -2.04219E7|                                         -2.04219E7|                                            -1.35E7|                                              0.0|                                                0.0|                                         0.0|                                                0.0|                                                0.0|                                              0.0|                                                0.0|\n",
            "+----------+---------------+----------------------+----------------------+--------------------+----------------------+---------------+----------------------+----------------------+--------------------+----------------------+---------------+----------------------+----------------------+--------------------+----------------------+-----------------------------------------+------------------------------------------------+------------------------------------------------+----------------------------------------------+------------------------------------------------+-----------------------------------------+------------------------------------------------+------------------------------------------------+----------------------------------------------+------------------------------------------------+-----------------------------------------+------------------------------------------------+------------------------------------------------+----------------------------------------------+------------------------------------------------+--------------------------------------------+---------------------------------------------------+---------------------------------------------------+-------------------------------------------------+---------------------------------------------------+--------------------------------------------+---------------------------------------------------+---------------------------------------------------+-------------------------------------------------+---------------------------------------------------+--------------------------------------------+---------------------------------------------------+---------------------------------------------------+-------------------------------------------------+---------------------------------------------------+\n",
            "\n"
          ]
        }
      ]
    },
    {
      "cell_type": "code",
      "source": [
        "#Inscript para auxiliar na geração de códigos SQL\n",
        "features_expl_list = df_bureau_02.columns\n",
        "for feat in features_expl_list:\n",
        "  var = 'b.' + feat + ','\n",
        "  print(var)"
      ],
      "metadata": {
        "id": "yE-nGr9lZiz4",
        "colab": {
          "base_uri": "https://localhost:8080/"
        },
        "outputId": "fcb0bb06-d770-442f-af84-a063d0ea00b6"
      },
      "execution_count": 95,
      "outputs": [
        {
          "output_type": "stream",
          "name": "stdout",
          "text": [
            "b.SK_ID_CURR,\n",
            "b.AVG_DAYS_CREDIT,\n",
            "b.AVG_CREDIT_ACTV_ACTIVE,\n",
            "b.AVG_CREDIT_ACTV_CLOSED,\n",
            "b.AVG_CREDIT_ACTV_SOLD,\n",
            "b.AVG_CREDIT_ACTV_BADDBT,\n",
            "b.SUM_DAYS_CREDIT,\n",
            "b.SUM_CREDIT_ACTV_ACTIVE,\n",
            "b.SUM_CREDIT_ACTV_CLOSED,\n",
            "b.SUM_CREDIT_ACTV_SOLD,\n",
            "b.SUM_CREDIT_ACTV_BADDBT,\n",
            "b.MIN_DAYS_CREDIT,\n",
            "b.MIN_CREDIT_ACTV_ACTIVE,\n",
            "b.MIN_CREDIT_ACTV_CLOSED,\n",
            "b.MIN_CREDIT_ACTV_SOLD,\n",
            "b.MIN_CREDIT_ACTV_BADDBT,\n",
            "b.AVG_AMT_CREDIT_SUM_DEBT_by_AMT_CREDIT_SUM,\n",
            "b.AVG_AMT_CREDIT_SUM_DEBT_by_AMT_CREDIT_SUM_ACTIVE,\n",
            "b.AVG_AMT_CREDIT_SUM_DEBT_by_AMT_CREDIT_SUM_CLOSED,\n",
            "b.AVG_AMT_CREDIT_SUM_DEBT_by_AMT_CREDIT_SUM_SOLD,\n",
            "b.AVG_AMT_CREDIT_SUM_DEBT_by_AMT_CREDIT_SUM_BADDBT,\n",
            "b.MIN_AMT_CREDIT_SUM_DEBT_by_AMT_CREDIT_SUM,\n",
            "b.MIN_AMT_CREDIT_SUM_DEBT_by_AMT_CREDIT_SUM_ACTIVE,\n",
            "b.MIN_AMT_CREDIT_SUM_DEBT_by_AMT_CREDIT_SUM_CLOSED,\n",
            "b.MIN_AMT_CREDIT_SUM_DEBT_by_AMT_CREDIT_SUM_SOLD,\n",
            "b.MIN_AMT_CREDIT_SUM_DEBT_by_AMT_CREDIT_SUM_BADDBT,\n",
            "b.MAX_AMT_CREDIT_SUM_DEBT_by_AMT_CREDIT_SUM,\n",
            "b.MAX_AMT_CREDIT_SUM_DEBT_by_AMT_CREDIT_SUM_ACTIVE,\n",
            "b.MAX_AMT_CREDIT_SUM_DEBT_by_AMT_CREDIT_SUM_CLOSED,\n",
            "b.MAX_AMT_CREDIT_SUM_DEBT_by_AMT_CREDIT_SUM_SOLD,\n",
            "b.MAX_AMT_CREDIT_SUM_DEBT_by_AMT_CREDIT_SUM_BADDBT,\n",
            "b.AVG_AMT_CREDIT_SUM_DEBT_minus_AMT_CREDIT_SUM,\n",
            "b.AVG_AMT_CREDIT_SUM_DEBT_minus_AMT_CREDIT_SUM_ACTIVE,\n",
            "b.AVG_AMT_CREDIT_SUM_DEBT_minus_AMT_CREDIT_SUM_CLOSED,\n",
            "b.AVG_AMT_CREDIT_SUM_DEBT_minus_AMT_CREDIT_SUM_SOLD,\n",
            "b.AVG_AMT_CREDIT_SUM_DEBT_minus_AMT_CREDIT_SUM_BADDBT,\n",
            "b.MIN_AMT_CREDIT_SUM_DEBT_minus_AMT_CREDIT_SUM,\n",
            "b.MIN_AMT_CREDIT_SUM_DEBT_minus_AMT_CREDIT_SUM_ACTIVE,\n",
            "b.MIN_AMT_CREDIT_SUM_DEBT_minus_AMT_CREDIT_SUM_CLOSED,\n",
            "b.MIN_AMT_CREDIT_SUM_DEBT_minus_AMT_CREDIT_SUM_SOLD,\n",
            "b.MIN_AMT_CREDIT_SUM_DEBT_minus_AMT_CREDIT_SUM_BADDBT,\n",
            "b.MAX_AMT_CREDIT_SUM_DEBT_minus_AMT_CREDIT_SUM,\n",
            "b.MAX_AMT_CREDIT_SUM_DEBT_minus_AMT_CREDIT_SUM_ACTIVE,\n",
            "b.MAX_AMT_CREDIT_SUM_DEBT_minus_AMT_CREDIT_SUM_CLOSED,\n",
            "b.MAX_AMT_CREDIT_SUM_DEBT_minus_AMT_CREDIT_SUM_SOLD,\n",
            "b.MAX_AMT_CREDIT_SUM_DEBT_minus_AMT_CREDIT_SUM_BADDBT,\n"
          ]
        }
      ]
    },
    {
      "cell_type": "code",
      "source": [
        "#LEFT JOIN entre as trabelas princial e variáveis preditivas do bureau\n",
        "abt_bureau = spark.sql(\"\"\"\n",
        "                        Select\n",
        "\n",
        "                          a.*,\n",
        "                          b.AVG_DAYS_CREDIT,\n",
        "                          b.AVG_CREDIT_ACTV_ACTIVE,\n",
        "                          b.AVG_CREDIT_ACTV_CLOSED,\n",
        "                          b.AVG_CREDIT_ACTV_SOLD,\n",
        "                          b.AVG_CREDIT_ACTV_BADDBT,\n",
        "                          b.SUM_DAYS_CREDIT,\n",
        "                          b.SUM_CREDIT_ACTV_ACTIVE,\n",
        "                          b.SUM_CREDIT_ACTV_CLOSED,\n",
        "                          b.SUM_CREDIT_ACTV_SOLD,\n",
        "                          b.SUM_CREDIT_ACTV_BADDBT,\n",
        "                          b.MIN_DAYS_CREDIT,\n",
        "                          b.MIN_CREDIT_ACTV_ACTIVE,\n",
        "                          b.MIN_CREDIT_ACTV_CLOSED,\n",
        "                          b.MIN_CREDIT_ACTV_SOLD,\n",
        "                          b.MIN_CREDIT_ACTV_BADDBT,\n",
        "                          b.AVG_AMT_CREDIT_SUM_DEBT_by_AMT_CREDIT_SUM,\n",
        "                          b.AVG_AMT_CREDIT_SUM_DEBT_by_AMT_CREDIT_SUM_ACTIVE,\n",
        "                          b.AVG_AMT_CREDIT_SUM_DEBT_by_AMT_CREDIT_SUM_CLOSED,\n",
        "                          b.AVG_AMT_CREDIT_SUM_DEBT_by_AMT_CREDIT_SUM_SOLD,\n",
        "                          b.AVG_AMT_CREDIT_SUM_DEBT_by_AMT_CREDIT_SUM_BADDBT,\n",
        "                          b.MIN_AMT_CREDIT_SUM_DEBT_by_AMT_CREDIT_SUM,\n",
        "                          b.MIN_AMT_CREDIT_SUM_DEBT_by_AMT_CREDIT_SUM_ACTIVE,\n",
        "                          b.MIN_AMT_CREDIT_SUM_DEBT_by_AMT_CREDIT_SUM_CLOSED,\n",
        "                          b.MIN_AMT_CREDIT_SUM_DEBT_by_AMT_CREDIT_SUM_SOLD,\n",
        "                          b.MIN_AMT_CREDIT_SUM_DEBT_by_AMT_CREDIT_SUM_BADDBT,\n",
        "                          b.MAX_AMT_CREDIT_SUM_DEBT_by_AMT_CREDIT_SUM,\n",
        "                          b.MAX_AMT_CREDIT_SUM_DEBT_by_AMT_CREDIT_SUM_ACTIVE,\n",
        "                          b.MAX_AMT_CREDIT_SUM_DEBT_by_AMT_CREDIT_SUM_CLOSED,\n",
        "                          b.MAX_AMT_CREDIT_SUM_DEBT_by_AMT_CREDIT_SUM_SOLD,\n",
        "                          b.MAX_AMT_CREDIT_SUM_DEBT_by_AMT_CREDIT_SUM_BADDBT,\n",
        "                          b.AVG_AMT_CREDIT_SUM_DEBT_minus_AMT_CREDIT_SUM,\n",
        "                          b.AVG_AMT_CREDIT_SUM_DEBT_minus_AMT_CREDIT_SUM_ACTIVE,\n",
        "                          b.AVG_AMT_CREDIT_SUM_DEBT_minus_AMT_CREDIT_SUM_CLOSED,\n",
        "                          b.AVG_AMT_CREDIT_SUM_DEBT_minus_AMT_CREDIT_SUM_SOLD,\n",
        "                          b.AVG_AMT_CREDIT_SUM_DEBT_minus_AMT_CREDIT_SUM_BADDBT,\n",
        "                          b.MIN_AMT_CREDIT_SUM_DEBT_minus_AMT_CREDIT_SUM,\n",
        "                          b.MIN_AMT_CREDIT_SUM_DEBT_minus_AMT_CREDIT_SUM_ACTIVE,\n",
        "                          b.MIN_AMT_CREDIT_SUM_DEBT_minus_AMT_CREDIT_SUM_CLOSED,\n",
        "                          b.MIN_AMT_CREDIT_SUM_DEBT_minus_AMT_CREDIT_SUM_SOLD,\n",
        "                          b.MIN_AMT_CREDIT_SUM_DEBT_minus_AMT_CREDIT_SUM_BADDBT,\n",
        "                          b.MAX_AMT_CREDIT_SUM_DEBT_minus_AMT_CREDIT_SUM,\n",
        "                          b.MAX_AMT_CREDIT_SUM_DEBT_minus_AMT_CREDIT_SUM_ACTIVE,\n",
        "                          b.MAX_AMT_CREDIT_SUM_DEBT_minus_AMT_CREDIT_SUM_CLOSED,\n",
        "                          b.MAX_AMT_CREDIT_SUM_DEBT_minus_AMT_CREDIT_SUM_SOLD,\n",
        "                          b.MAX_AMT_CREDIT_SUM_DEBT_minus_AMT_CREDIT_SUM_BADDBT\n",
        "\n",
        "                        from\n",
        "                          app_train as a\n",
        "                        left join\n",
        "                          df_bureau_02 as b\n",
        "                        on\n",
        "                          a.SK_ID_CURR = b.SK_ID_CURR\n",
        "\n",
        "\"\"\")\n",
        "\n",
        "abt_bureau.registerTempTable('abt_bureau')\n",
        "\n",
        "abt_bureau.show()\n",
        "\n",
        "abt_bureau.count()"
      ],
      "metadata": {
        "colab": {
          "base_uri": "https://localhost:8080/"
        },
        "id": "LWK2AL84jkID",
        "outputId": "97095393-7592-4e6e-ba65-6d81697946fc"
      },
      "execution_count": 104,
      "outputs": [
        {
          "output_type": "stream",
          "name": "stdout",
          "text": [
            "+----------+------+------------------+-----------+------------+---------------+------------+----------------+----------+-----------+---------------+---------------+--------------------+--------------------+--------------------+-----------------+--------------------------+----------+-------------+-----------------+---------------+-----------+----------+--------------+---------------+----------------+----------+----------+--------------------+---------------+--------------------+---------------------------+--------------------------+-----------------------+--------------------------+--------------------------+---------------------------+----------------------+----------------------+-----------------------+--------------------+------------------+-------------------+-------------------+--------------+----------------+---------------------------+---------------+--------------+-------------+-------------+-------------+-------------+------------+--------------------+--------------+-----------------------+-----------------+---------------+-------------------+----------------------------+----------------+---------------+--------------+--------------+--------------+--------------+-------------+---------------------+---------------+------------------------+------------------+--------------------+-----------------+----------------------------+----------------+---------------+--------------+--------------+--------------+--------------+-------------+---------------------+---------------+------------------------+------------------+------------------+--------------+--------------+------------------+-------------------+------------------------+------------------------+------------------------+------------------------+----------------------+---------------+---------------+---------------+---------------+---------------+---------------+---------------+---------------+----------------+----------------+----------------+----------------+----------------+----------------+----------------+----------------+----------------+----------------+----------------+----------------+--------------------------+-------------------------+--------------------------+-------------------------+-------------------------+--------------------------+---------------+----------------------+----------------------+--------------------+----------------------+---------------+----------------------+----------------------+--------------------+----------------------+---------------+----------------------+----------------------+--------------------+----------------------+-----------------------------------------+------------------------------------------------+------------------------------------------------+----------------------------------------------+------------------------------------------------+-----------------------------------------+------------------------------------------------+------------------------------------------------+----------------------------------------------+------------------------------------------------+-----------------------------------------+------------------------------------------------+------------------------------------------------+----------------------------------------------+------------------------------------------------+--------------------------------------------+---------------------------------------------------+---------------------------------------------------+-------------------------------------------------+---------------------------------------------------+--------------------------------------------+---------------------------------------------------+---------------------------------------------------+-------------------------------------------------+---------------------------------------------------+--------------------------------------------+---------------------------------------------------+---------------------------------------------------+-------------------------------------------------+---------------------------------------------------+\n",
            "|SK_ID_CURR|TARGET|NAME_CONTRACT_TYPE|CODE_GENDER|FLAG_OWN_CAR|FLAG_OWN_REALTY|CNT_CHILDREN|AMT_INCOME_TOTAL|AMT_CREDIT|AMT_ANNUITY|AMT_GOODS_PRICE|NAME_TYPE_SUITE|    NAME_INCOME_TYPE| NAME_EDUCATION_TYPE|  NAME_FAMILY_STATUS|NAME_HOUSING_TYPE|REGION_POPULATION_RELATIVE|DAYS_BIRTH|DAYS_EMPLOYED|DAYS_REGISTRATION|DAYS_ID_PUBLISH|OWN_CAR_AGE|FLAG_MOBIL|FLAG_EMP_PHONE|FLAG_WORK_PHONE|FLAG_CONT_MOBILE|FLAG_PHONE|FLAG_EMAIL|     OCCUPATION_TYPE|CNT_FAM_MEMBERS|REGION_RATING_CLIENT|REGION_RATING_CLIENT_W_CITY|WEEKDAY_APPR_PROCESS_START|HOUR_APPR_PROCESS_START|REG_REGION_NOT_LIVE_REGION|REG_REGION_NOT_WORK_REGION|LIVE_REGION_NOT_WORK_REGION|REG_CITY_NOT_LIVE_CITY|REG_CITY_NOT_WORK_CITY|LIVE_CITY_NOT_WORK_CITY|   ORGANIZATION_TYPE|      EXT_SOURCE_1|       EXT_SOURCE_2|       EXT_SOURCE_3|APARTMENTS_AVG|BASEMENTAREA_AVG|YEARS_BEGINEXPLUATATION_AVG|YEARS_BUILD_AVG|COMMONAREA_AVG|ELEVATORS_AVG|ENTRANCES_AVG|FLOORSMAX_AVG|FLOORSMIN_AVG|LANDAREA_AVG|LIVINGAPARTMENTS_AVG|LIVINGAREA_AVG|NONLIVINGAPARTMENTS_AVG|NONLIVINGAREA_AVG|APARTMENTS_MODE|  BASEMENTAREA_MODE|YEARS_BEGINEXPLUATATION_MODE|YEARS_BUILD_MODE|COMMONAREA_MODE|ELEVATORS_MODE|ENTRANCES_MODE|FLOORSMAX_MODE|FLOORSMIN_MODE|LANDAREA_MODE|LIVINGAPARTMENTS_MODE|LIVINGAREA_MODE|NONLIVINGAPARTMENTS_MODE|NONLIVINGAREA_MODE|     APARTMENTS_MEDI|BASEMENTAREA_MEDI|YEARS_BEGINEXPLUATATION_MEDI|YEARS_BUILD_MEDI|COMMONAREA_MEDI|ELEVATORS_MEDI|ENTRANCES_MEDI|FLOORSMAX_MEDI|FLOORSMIN_MEDI|LANDAREA_MEDI|LIVINGAPARTMENTS_MEDI|LIVINGAREA_MEDI|NONLIVINGAPARTMENTS_MEDI|NONLIVINGAREA_MEDI|FONDKAPREMONT_MODE|HOUSETYPE_MODE|TOTALAREA_MODE|WALLSMATERIAL_MODE|EMERGENCYSTATE_MODE|OBS_30_CNT_SOCIAL_CIRCLE|DEF_30_CNT_SOCIAL_CIRCLE|OBS_60_CNT_SOCIAL_CIRCLE|DEF_60_CNT_SOCIAL_CIRCLE|DAYS_LAST_PHONE_CHANGE|FLAG_DOCUMENT_2|FLAG_DOCUMENT_3|FLAG_DOCUMENT_4|FLAG_DOCUMENT_5|FLAG_DOCUMENT_6|FLAG_DOCUMENT_7|FLAG_DOCUMENT_8|FLAG_DOCUMENT_9|FLAG_DOCUMENT_10|FLAG_DOCUMENT_11|FLAG_DOCUMENT_12|FLAG_DOCUMENT_13|FLAG_DOCUMENT_14|FLAG_DOCUMENT_15|FLAG_DOCUMENT_16|FLAG_DOCUMENT_17|FLAG_DOCUMENT_18|FLAG_DOCUMENT_19|FLAG_DOCUMENT_20|FLAG_DOCUMENT_21|AMT_REQ_CREDIT_BUREAU_HOUR|AMT_REQ_CREDIT_BUREAU_DAY|AMT_REQ_CREDIT_BUREAU_WEEK|AMT_REQ_CREDIT_BUREAU_MON|AMT_REQ_CREDIT_BUREAU_QRT|AMT_REQ_CREDIT_BUREAU_YEAR|AVG_DAYS_CREDIT|AVG_CREDIT_ACTV_ACTIVE|AVG_CREDIT_ACTV_CLOSED|AVG_CREDIT_ACTV_SOLD|AVG_CREDIT_ACTV_BADDBT|SUM_DAYS_CREDIT|SUM_CREDIT_ACTV_ACTIVE|SUM_CREDIT_ACTV_CLOSED|SUM_CREDIT_ACTV_SOLD|SUM_CREDIT_ACTV_BADDBT|MIN_DAYS_CREDIT|MIN_CREDIT_ACTV_ACTIVE|MIN_CREDIT_ACTV_CLOSED|MIN_CREDIT_ACTV_SOLD|MIN_CREDIT_ACTV_BADDBT|AVG_AMT_CREDIT_SUM_DEBT_by_AMT_CREDIT_SUM|AVG_AMT_CREDIT_SUM_DEBT_by_AMT_CREDIT_SUM_ACTIVE|AVG_AMT_CREDIT_SUM_DEBT_by_AMT_CREDIT_SUM_CLOSED|AVG_AMT_CREDIT_SUM_DEBT_by_AMT_CREDIT_SUM_SOLD|AVG_AMT_CREDIT_SUM_DEBT_by_AMT_CREDIT_SUM_BADDBT|MIN_AMT_CREDIT_SUM_DEBT_by_AMT_CREDIT_SUM|MIN_AMT_CREDIT_SUM_DEBT_by_AMT_CREDIT_SUM_ACTIVE|MIN_AMT_CREDIT_SUM_DEBT_by_AMT_CREDIT_SUM_CLOSED|MIN_AMT_CREDIT_SUM_DEBT_by_AMT_CREDIT_SUM_SOLD|MIN_AMT_CREDIT_SUM_DEBT_by_AMT_CREDIT_SUM_BADDBT|MAX_AMT_CREDIT_SUM_DEBT_by_AMT_CREDIT_SUM|MAX_AMT_CREDIT_SUM_DEBT_by_AMT_CREDIT_SUM_ACTIVE|MAX_AMT_CREDIT_SUM_DEBT_by_AMT_CREDIT_SUM_CLOSED|MAX_AMT_CREDIT_SUM_DEBT_by_AMT_CREDIT_SUM_SOLD|MAX_AMT_CREDIT_SUM_DEBT_by_AMT_CREDIT_SUM_BADDBT|AVG_AMT_CREDIT_SUM_DEBT_minus_AMT_CREDIT_SUM|AVG_AMT_CREDIT_SUM_DEBT_minus_AMT_CREDIT_SUM_ACTIVE|AVG_AMT_CREDIT_SUM_DEBT_minus_AMT_CREDIT_SUM_CLOSED|AVG_AMT_CREDIT_SUM_DEBT_minus_AMT_CREDIT_SUM_SOLD|AVG_AMT_CREDIT_SUM_DEBT_minus_AMT_CREDIT_SUM_BADDBT|MIN_AMT_CREDIT_SUM_DEBT_minus_AMT_CREDIT_SUM|MIN_AMT_CREDIT_SUM_DEBT_minus_AMT_CREDIT_SUM_ACTIVE|MIN_AMT_CREDIT_SUM_DEBT_minus_AMT_CREDIT_SUM_CLOSED|MIN_AMT_CREDIT_SUM_DEBT_minus_AMT_CREDIT_SUM_SOLD|MIN_AMT_CREDIT_SUM_DEBT_minus_AMT_CREDIT_SUM_BADDBT|MAX_AMT_CREDIT_SUM_DEBT_minus_AMT_CREDIT_SUM|MAX_AMT_CREDIT_SUM_DEBT_minus_AMT_CREDIT_SUM_ACTIVE|MAX_AMT_CREDIT_SUM_DEBT_minus_AMT_CREDIT_SUM_CLOSED|MAX_AMT_CREDIT_SUM_DEBT_minus_AMT_CREDIT_SUM_SOLD|MAX_AMT_CREDIT_SUM_DEBT_minus_AMT_CREDIT_SUM_BADDBT|\n",
            "+----------+------+------------------+-----------+------------+---------------+------------+----------------+----------+-----------+---------------+---------------+--------------------+--------------------+--------------------+-----------------+--------------------------+----------+-------------+-----------------+---------------+-----------+----------+--------------+---------------+----------------+----------+----------+--------------------+---------------+--------------------+---------------------------+--------------------------+-----------------------+--------------------------+--------------------------+---------------------------+----------------------+----------------------+-----------------------+--------------------+------------------+-------------------+-------------------+--------------+----------------+---------------------------+---------------+--------------+-------------+-------------+-------------+-------------+------------+--------------------+--------------+-----------------------+-----------------+---------------+-------------------+----------------------------+----------------+---------------+--------------+--------------+--------------+--------------+-------------+---------------------+---------------+------------------------+------------------+--------------------+-----------------+----------------------------+----------------+---------------+--------------+--------------+--------------+--------------+-------------+---------------------+---------------+------------------------+------------------+------------------+--------------+--------------+------------------+-------------------+------------------------+------------------------+------------------------+------------------------+----------------------+---------------+---------------+---------------+---------------+---------------+---------------+---------------+---------------+----------------+----------------+----------------+----------------+----------------+----------------+----------------+----------------+----------------+----------------+----------------+----------------+--------------------------+-------------------------+--------------------------+-------------------------+-------------------------+--------------------------+---------------+----------------------+----------------------+--------------------+----------------------+---------------+----------------------+----------------------+--------------------+----------------------+---------------+----------------------+----------------------+--------------------+----------------------+-----------------------------------------+------------------------------------------------+------------------------------------------------+----------------------------------------------+------------------------------------------------+-----------------------------------------+------------------------------------------------+------------------------------------------------+----------------------------------------------+------------------------------------------------+-----------------------------------------+------------------------------------------------+------------------------------------------------+----------------------------------------------+------------------------------------------------+--------------------------------------------+---------------------------------------------------+---------------------------------------------------+-------------------------------------------------+---------------------------------------------------+--------------------------------------------+---------------------------------------------------+---------------------------------------------------+-------------------------------------------------+---------------------------------------------------+--------------------------------------------+---------------------------------------------------+---------------------------------------------------+-------------------------------------------------+---------------------------------------------------+\n",
            "|    100274|     0|        Cash loans|          M|           Y|              Y|           0|        308250.0| 1305000.0|    38281.5|      1305000.0|         Family|             Working|Secondary / secon...|      Civil marriage|House / apartment|      0.026392000000000002|    -15612|        -1106|          -8060.0|          -4018|        6.0|         1|             1|              1|               1|         1|         0|             Drivers|            2.0|                   2|                          2|                    MONDAY|                     14|                         0|                         0|                          0|                     0|                     0|                      0|       Self-employed|0.6529430442014209| 0.6984528683753916| 0.8004513396487078|        0.1979|          0.1629|                     0.9851|           null|          null|         0.24|       0.2069|       0.3333|         null|        null|                null|        0.2063|                   null|           0.1504|         0.2017|0.16899999999999998|                      0.9851|            null|           null|        0.2417|        0.2069|        0.3333|          null|         null|                 null|         0.2149|                    null|            0.1592|              0.1999|           0.1629|                      0.9851|            null|           null|          0.24|        0.2069|        0.3333|          null|         null|                 null|           0.21|                    null|            0.1535|              null|block of flats|        0.1949|             Panel|                 No|                     1.0|                     0.0|                     1.0|                     0.0|               -2263.0|              0|              0|              0|              0|              0|              0|              1|              0|               0|               0|               0|               0|               0|               0|               0|               0|               0|               0|               0|               0|                       0.0|                      0.0|                       0.0|                      0.0|                      0.0|                       3.0|          805.0|                 805.0|                   0.0|                 0.0|                   0.0|            805|                   805|                     0|                   0|                     0|            805|                   805|                     0|                   0|                     0|                                     null|                                            null|                                             0.0|                                           0.0|                                             0.0|                                     null|                                            null|                                             0.0|                                           0.0|                                             0.0|                                     null|                                            null|                                             0.0|                                           0.0|                                             0.0|                                        null|                                               null|                                                0.0|                                              0.0|                                                0.0|                                        null|                                               null|                                                0.0|                                              0.0|                                                0.0|                                        null|                                               null|                                                0.0|                                              0.0|                                                0.0|\n",
            "|    100800|     0|        Cash loans|          F|           N|              Y|           0|        126000.0|  698517.0|    23215.5|       603000.0|  Unaccompanied|           Pensioner|     Lower secondary|               Widow|House / apartment|                  0.018634|    -21314|       365243|          -2486.0|          -4613|       null|         1|             0|              0|               1|         0|         0|                null|            1.0|                   2|                          2|                    FRIDAY|                     10|                         0|                         0|                          0|                     0|                     0|                      0|                 XNA|              null| 0.2997892593212273| 0.6894791426446275|        0.0619|          0.0791|                     0.9871|           null|          null|          0.0|       0.1379|       0.1667|         null|      0.0211|                null|        0.0541|                   null|           0.0316|          0.063|             0.0821|                      0.9871|            null|           null|           0.0|        0.1379|        0.1667|          null|       0.0215|                 null|         0.0563|                    null|            0.0335|              0.0625|           0.0791|                      0.9871|            null|           null|           0.0|        0.1379|        0.1667|          null|       0.0214|                 null|          0.055|                    null|            0.0323|              null|block of flats|        0.0494|      Stone, brick|                 No|                     2.0|                     0.0|                     2.0|                     0.0|                -807.0|              0|              0|              0|              0|              1|              0|              0|              0|               0|               0|               0|               0|               0|               0|               0|               0|               0|               0|               0|               0|                       0.0|                      0.0|                       0.0|                      0.0|                      1.0|                       2.0|          973.0|                 973.0|                   0.0|                 0.0|                   0.0|            973|                   973|                     0|                   0|                     0|            973|                   973|                     0|                   0|                     0|                                    63.17|                                            63.2|                                             0.0|                                           0.0|                                             0.0|                                    63.17|                                            63.2|                                             0.0|                                           0.0|                                             0.0|                                    63.17|                                            63.2|                                             0.0|                                           0.0|                                             0.0|                                   -1.8063E7|                                          -1.8063E7|                                                0.0|                                              0.0|                                                0.0|                                   -1.8063E7|                                          -1.8063E7|                                                0.0|                                              0.0|                                                0.0|                                   -1.8063E7|                                          -1.8063E7|                                                0.0|                                              0.0|                                                0.0|\n",
            "|    100884|     0|        Cash loans|          F|           N|              Y|           0|        157500.0|  327024.0|    21420.0|       270000.0|  Unaccompanied|             Working|Secondary / secon...|           Separated|House / apartment|                  0.018029|    -10960|        -1091|          -5206.0|          -1049|       null|         1|             1|              0|               1|         0|         0|High skill tech s...|            1.0|                   3|                          3|                 WEDNESDAY|                     12|                         0|                         0|                          0|                     0|                     0|                      0|            Medicine|0.1147882274758708| 0.5763092744000353|0.16146308000577247|          null|            null|                       null|           null|          null|         null|         null|         null|         null|        null|                null|          null|                   null|             null|           null|               null|                        null|            null|           null|          null|          null|          null|          null|         null|                 null|           null|                    null|              null|                null|             null|                        null|            null|           null|          null|          null|          null|          null|         null|                 null|           null|                    null|              null|              null|          null|          null|              null|               null|                     7.0|                     1.0|                     7.0|                     1.0|                -387.0|              0|              1|              0|              0|              0|              0|              0|              0|               0|               0|               0|               0|               0|               0|               0|               0|               0|               0|               0|               0|                       0.0|                      0.0|                       0.0|                      0.0|                      2.0|                       0.0|           49.5|                   7.5|                  42.0|                 0.0|                   0.0|             99|                    15|                    84|                   0|                     0|             15|                     0|                     0|                   0|                     0|                                      2.7|                                             2.7|                                             0.0|                                           0.0|                                             0.0|                                      0.0|                                             0.0|                                             0.0|                                           0.0|                                             0.0|                                      5.4|                                             5.4|                                             0.0|                                           0.0|                                             0.0|                                -1.2442725E7|                                       -1.0642725E7|                                         -1800000.0|                                              0.0|                                                0.0|                                 -2.128545E7|                                        -2.128545E7|                                         -3600000.0|                                              0.0|                                                0.0|                                  -3600000.0|                                                0.0|                                                0.0|                                              0.0|                                                0.0|\n",
            "|    100986|     0|        Cash loans|          M|           Y|              Y|           0|        180000.0|  640080.0|    29970.0|       450000.0|         Family|             Working|Secondary / secon...|             Married|House / apartment|                  0.010147|    -17231|        -3683|          -2153.0|           -776|        1.0|         1|             1|              0|               1|         1|         0|             Drivers|            2.0|                   2|                          2|                    MONDAY|                     14|                         0|                         0|                          0|                     0|                     1|                      1|       Self-employed|              null| 0.5110650733366345|               null|          null|            null|                       null|           null|          null|         null|         null|         null|         null|        null|                null|          null|                   null|             null|           null|               null|                        null|            null|           null|          null|          null|          null|          null|         null|                 null|           null|                    null|              null|                null|             null|                        null|            null|           null|          null|          null|          null|          null|         null|                 null|           null|                    null|              null|              null|          null|          null|              null|               null|                     0.0|                     0.0|                     0.0|                     0.0|                   0.0|              0|              0|              0|              0|              0|              0|              1|              0|               0|               0|               0|               0|               0|               0|               0|               0|               0|               0|               0|               0|                       0.0|                      0.0|                       0.0|                      0.0|                      0.0|                       0.0|          212.0|                 212.0|                   0.0|                 0.0|                   0.0|            212|                   212|                     0|                   0|                     0|            212|                   212|                     0|                   0|                     0|                                    97.16|                                            97.2|                                             0.0|                                           0.0|                                             0.0|                                    97.16|                                            97.2|                                             0.0|                                           0.0|                                             0.0|                                    97.16|                                            97.2|                                             0.0|                                           0.0|                                             0.0|                                  -7842150.0|                                         -7842150.0|                                                0.0|                                              0.0|                                                0.0|                                  -7842150.0|                                         -7842150.0|                                                0.0|                                              0.0|                                                0.0|                                  -7842150.0|                                         -7842150.0|                                                0.0|                                              0.0|                                                0.0|\n",
            "|    101094|     0|        Cash loans|          F|           N|              Y|           0|        112500.0|  819432.0|    23958.0|       684000.0|        Other_B|             Working|Secondary / secon...|               Widow|House / apartment|                  0.028663|    -23643|        -3326|          -1668.0|          -4414|       null|         1|             1|              1|               1|         0|         0|         Sales staff|            1.0|                   2|                          2|                  SATURDAY|                      9|                         0|                         0|                          0|                     0|                     0|                      0|Business Entity T...|              null| 0.5924959277437121|               null|        0.0825|          0.0607|                     0.9781|         0.7008|           0.0|          0.0|       0.1379|       0.1667|       0.2083|      0.0634|              0.0672|         0.056|                    0.0|           0.0194|          0.084|              0.063|                      0.9782|          0.7125|            0.0|           0.0|        0.1379|        0.1667|        0.2083|       0.0649|               0.0735|         0.0583|                     0.0|            0.0206|              0.0833|           0.0607|                      0.9781|          0.7048|            0.0|           0.0|        0.1379|        0.1667|        0.2083|       0.0645|               0.0684|          0.057|                     0.0|            0.0198|  reg oper account|block of flats|        0.0483|      Stone, brick|                 No|                     0.0|                     0.0|                     0.0|                     0.0|               -2119.0|              0|              1|              0|              0|              0|              0|              0|              0|               0|               0|               0|               0|               0|               0|               0|               0|               0|               0|               0|               0|                      null|                     null|                      null|                     null|                     null|                      null|           null|                  null|                  null|                null|                  null|           null|                  null|                  null|                null|                  null|           null|                  null|                  null|                null|                  null|                                     null|                                            null|                                            null|                                          null|                                            null|                                     null|                                            null|                                            null|                                          null|                                            null|                                     null|                                            null|                                            null|                                          null|                                            null|                                        null|                                               null|                                               null|                                             null|                                               null|                                        null|                                               null|                                               null|                                             null|                                               null|                                        null|                                               null|                                               null|                                             null|                                               null|\n",
            "|    101475|     0|        Cash loans|          F|           N|              N|           0|         67500.0|   95940.0|     9472.5|        90000.0|  Unaccompanied|           Pensioner|Secondary / secon...|               Widow|House / apartment|      0.035792000000000004|    -21991|       365243|          -7720.0|          -4780|       null|         1|             0|              0|               1|         1|         0|                null|            1.0|                   2|                          2|                   TUESDAY|                      9|                         0|                         0|                          0|                     0|                     0|                      0|                 XNA|              null| 0.5697445889788223| 0.6023863442690867|          null|            null|                       null|           null|          null|         null|         null|         null|         null|        null|                null|          null|                   null|             null|           null|               null|                        null|            null|           null|          null|          null|          null|          null|         null|                 null|           null|                    null|              null|                null|             null|                        null|            null|           null|          null|          null|          null|          null|         null|                 null|           null|                    null|              null|              null|          null|          null|              null|               null|                     0.0|                     0.0|                     0.0|                     0.0|               -1833.0|              0|              0|              0|              0|              1|              0|              0|              0|               0|               0|               0|               0|               0|               0|               0|               0|               0|               0|               0|               0|                       0.0|                      0.0|                       0.0|                      0.0|                      0.0|                       2.0|          786.0|                 404.5|                 381.5|                 0.0|                   0.0|           1572|                   809|                   763|                   0|                     0|            763|                     0|                     0|                   0|                     0|                                     9.38|                                             9.4|                                             0.0|                                           0.0|                                             0.0|                                      0.0|                                             0.0|                                             0.0|                                           0.0|                                             0.0|                                    18.75|                                            18.8|                                             0.0|                                           0.0|                                             0.0|                                -1.5890625E7|                                         -9140625.0|                                         -6750000.0|                                              0.0|                                                0.0|                                 -1.828125E7|                                        -1.828125E7|                                            -1.35E7|                                              0.0|                                                0.0|                                     -1.35E7|                                                0.0|                                                0.0|                                              0.0|                                                0.0|\n",
            "|    101627|     0|        Cash loans|          M|           Y|              Y|           0|        135000.0|  808650.0|    26217.0|       675000.0|  Unaccompanied|             Working|Secondary / secon...|             Married|House / apartment|      0.016612000000000002|    -21112|        -2490|          -2246.0|          -2246|       24.0|         1|             1|              1|               1|         1|         0|            Managers|            2.0|                   2|                          2|                 WEDNESDAY|                     10|                         0|                         0|                          0|                     0|                     1|                      1|       Trade: type 7|              null| 0.5913602773458688| 0.5849900404894085|          null|            null|                       null|           null|          null|         null|         null|         null|         null|        null|                null|          null|                   null|             null|           null|               null|                        null|            null|           null|          null|          null|          null|          null|         null|                 null|           null|                    null|              null|                null|             null|                        null|            null|           null|          null|          null|          null|          null|         null|                 null|           null|                    null|              null|              null|          null|          null|              null|               null|                     0.0|                     0.0|                     0.0|                     0.0|               -1748.0|              0|              0|              0|              0|              0|              0|              1|              0|               0|               0|               0|               0|               0|               0|               0|               0|               0|               0|               0|               0|                       0.0|                      0.0|                       0.0|                      0.0|                      0.0|                       1.0|         838.14|                 24.86|                813.29|                 0.0|                   0.0|           5867|                   174|                  5693|                   0|                     0|            174|                     0|                     0|                   0|                     0|                                     13.3|                                             7.6|                                             0.0|                                           0.0|                                             0.0|                                      0.0|                                             0.0|                                             0.0|                                           0.0|                                             0.0|                                    53.18|                                            53.2|                                             0.0|                                           0.0|                                             0.0|                                  -2549700.0|                                          -379221.4|                                         -1886062.5|                                              0.0|                                                0.0|                                  -4650750.0|                                         -2654550.0|                                         -4650750.0|                                              0.0|                                                0.0|                                  -1390500.0|                                                0.0|                                                0.0|                                              0.0|                                                0.0|\n",
            "|    101775|     0|   Revolving loans|          M|           Y|              N|           0|         90000.0|  202500.0|    10125.0|       202500.0|  Unaccompanied|             Working|Secondary / secon...|             Married|House / apartment|                  0.031329|    -17150|         -819|          -8666.0|           -701|       10.0|         1|             1|              0|               1|         0|         0|            Laborers|            2.0|                   2|                          2|                 WEDNESDAY|                     11|                         0|                         0|                          0|                     0|                     0|                      0|    Industry: type 1|              null|0.26886892555881203| 0.5849900404894085|        0.0366|          0.0292|                     0.9771|         0.6872|        0.0046|          0.0|       0.1034|       0.1042|       0.1458|      0.0529|              0.0298|         0.034|                    0.0|              0.0|         0.0126|                0.0|                      0.9667|          0.5622|         0.0019|           0.0|         0.069|        0.0417|        0.0833|       0.0363|                0.011|         0.0115|                     0.0|               0.0|0.037000000000000005|           0.0292|                      0.9771|          0.6914|         0.0046|           0.0|        0.1034|        0.1042|        0.1458|       0.0538|               0.0304|         0.0346|                     0.0|               0.0|  reg oper account|block of flats|        0.0487|             Block|                 No|                     3.0|                     0.0|                     3.0|                     0.0|                -676.0|              0|              0|              0|              0|              0|              0|              0|              0|               0|               0|               0|               0|               0|               0|               0|               0|               0|               0|               0|               0|                       0.0|                      0.0|                       0.0|                      0.0|                      0.0|                       4.0|         1559.9|                 113.4|                1446.5|                 0.0|                   0.0|          15599|                  1134|                 14465|                   0|                     0|            566|                     0|                     0|                   0|                     0|                                    16.33|                                            13.1|                                             0.0|                                           0.0|                                             0.0|                                      0.0|                                             0.0|                                             0.0|                                           0.0|                                             0.0|                                    80.61|                                            80.6|                                             0.0|                                           0.0|                                             0.0|                               -1.21226625E7|                                         -2660490.0|                                         -8797050.0|                                              0.0|                                                0.0|                                 -2.232945E7|                                        -2.232945E7|                                           -1.575E7|                                              0.0|                                                0.0|                                  -4275450.0|                                                0.0|                                                0.0|                                              0.0|                                                0.0|\n",
            "|    102119|     0|        Cash loans|          M|           Y|              Y|           2|        108000.0|  594121.5|    26298.0|       472500.0|         Family|             Working|Secondary / secon...|             Married|House / apartment|                  0.030755|    -13675|        -1903|          -7252.0|          -4314|       19.0|         1|             1|              0|               1|         0|         1|  Low-skill Laborers|            4.0|                   2|                          2|                  THURSDAY|                     17|                         0|                         0|                          0|                     0|                     0|                      0|       Self-employed|              null| 0.5738351685017418|0.29859498978739724|          null|            null|                       null|           null|          null|         null|         null|         null|         null|        null|                null|          null|                   null|             null|           null|               null|                        null|            null|           null|          null|          null|          null|          null|         null|                 null|           null|                    null|              null|                null|             null|                        null|            null|           null|          null|          null|          null|          null|         null|                 null|           null|                    null|              null|              null|          null|          null|              null|               null|                     0.0|                     0.0|                     0.0|                     0.0|                -808.0|              0|              1|              0|              0|              0|              0|              0|              0|               0|               0|               0|               0|               0|               0|               0|               0|               0|               0|               0|               0|                       0.0|                      0.0|                       0.0|                      0.0|                      3.0|                       5.0|         1138.4|                  74.2|                1064.2|                 0.0|                   0.0|           5692|                   371|                  5321|                   0|                     0|            371|                     0|                     0|                   0|                     0|                                    27.45|                                            16.5|                                             0.0|                                           0.0|                                             0.0|                                      0.0|                                             0.0|                                             0.0|                                           0.0|                                             0.0|                                    82.34|                                            82.3|                                             0.0|                                           0.0|                                             0.0|                                  -5720700.0|                                          -397350.0|                                         -5058450.0|                                              0.0|                                                0.0|                                 -1.274985E7|                                         -1986750.0|                                        -1.274985E7|                                              0.0|                                                0.0|                                  -1986750.0|                                                0.0|                                                0.0|                                              0.0|                                                0.0|\n",
            "|    102524|     1|        Cash loans|          F|           N|              Y|           0|         90000.0|  383202.0|    19696.5|       274500.0|  Unaccompanied|             Working|Secondary / secon...|             Married|House / apartment|                  0.020246|    -16017|        -3299|          -2537.0|          -4182|       null|         1|             1|              0|               1|         1|         0|  Low-skill Laborers|            2.0|                   3|                          3|                    FRIDAY|                     11|                         0|                         0|                          0|                     0|                     0|                      0|          Government|0.2287244600934648| 0.5428390608242112| 0.1455428133497032|        0.0619|          0.0591|                     0.9831|         0.7688|         0.011|          0.0|       0.1379|       0.1667|       0.2083|      0.0588|              0.0504|        0.0647|                    0.0|              0.0|          0.063|             0.0614|                      0.9831|          0.7779|         0.0112|           0.0|        0.1379|        0.1667|        0.2083|       0.0602|               0.0551|         0.0674|                     0.0|               0.0|              0.0625|           0.0591|                      0.9831|          0.7719|         0.0111|           0.0|        0.1379|        0.1667|        0.2083|       0.0599|               0.0513|         0.0658|                     0.0|               0.0|  reg oper account|block of flats|        0.0509|             Panel|                 No|                     1.0|                     0.0|                     1.0|                     0.0|                   0.0|              0|              1|              0|              0|              0|              0|              0|              0|               0|               0|               0|               0|               0|               0|               0|               0|               0|               0|               0|               0|                       0.0|                      0.0|                       0.0|                      0.0|                      0.0|                       1.0|         449.38|                144.13|                305.25|                 0.0|                   0.0|           3595|                  1153|                  2442|                   0|                     0|             74|                     0|                     0|                   0|                     0|                                    50.75|                                            50.7|                                             0.0|                                           0.0|                                             0.0|                                      0.0|                                             0.0|                                             0.0|                                           0.0|                                             0.0|                                    98.42|                                            98.4|                                             0.0|                                           0.0|                                             0.0|                                 -4294518.75|                                         -1443150.0|                                         -2851368.8|                                              0.0|                                                0.0|                                   -1.3068E7|                                         -4997700.0|                                          -1.3068E7|                                              0.0|                                                0.0|                                   -475650.0|                                                0.0|                                                0.0|                                              0.0|                                                0.0|\n",
            "|    102594|     0|        Cash loans|          M|           N|              Y|           2|        157500.0|  521280.0|    35392.5|       450000.0|  Unaccompanied|             Working|Secondary / secon...|             Married|House / apartment|                  0.018801|    -18012|        -2728|          -4894.0|          -1567|       null|         1|             1|              0|               1|         0|         0|      Security staff|            4.0|                   2|                          2|                 WEDNESDAY|                     12|                         0|                         0|                          0|                     0|                     0|                      0|            Security|              null| 0.5880110869653271| 0.4596904504249018|          null|            null|                       null|           null|          null|         null|         null|         null|         null|        null|                null|          null|                   null|             null|           null|               null|                        null|            null|           null|          null|          null|          null|          null|         null|                 null|           null|                    null|              null|                null|             null|                        null|            null|           null|          null|          null|          null|          null|         null|                 null|           null|                    null|              null|              null|          null|          null|              null|               null|                     0.0|                     0.0|                     0.0|                     0.0|                   0.0|              0|              1|              0|              0|              0|              0|              0|              0|               0|               0|               0|               0|               0|               0|               0|               0|               0|               0|               0|               0|                       0.0|                      0.0|                       0.0|                      0.0|                      0.0|                       0.0|         1195.0|                 595.0|                 600.0|                 0.0|                   0.0|           7170|                  3570|                  3600|                   0|                     0|            467|                     0|                     0|                   0|                     0|                                      0.0|                                             0.0|                                             0.0|                                           0.0|                                             0.0|                                      0.0|                                             0.0|                                             0.0|                                           0.0|                                             0.0|                                      0.0|                                             0.0|                                             0.0|                                           0.0|                                             0.0|                                -1.5744933E7|                                         -3375000.0|                                         -8246622.0|                                              0.0|                                                0.0|                                      -4.5E7|                                            -1.35E7|                                             -4.5E7|                                              0.0|                                                0.0|                                         0.0|                                                0.0|                                                0.0|                                              0.0|                                                0.0|\n",
            "|    102793|     0|        Cash loans|          M|           Y|              N|           0|        202500.0| 1886850.0|    52015.5|      1575000.0|  Unaccompanied|             Working|Secondary / secon...|             Married|House / apartment|      0.035792000000000004|    -18675|         -158|          -6943.0|          -2200|        6.0|         1|             1|              0|               1|         0|         0|            Laborers|            2.0|                   2|                          2|                  THURSDAY|                     11|                         0|                         0|                          0|                     0|                     0|                      0|             Housing|              null| 0.6921803890186077| 0.8106180215523969|        0.0515|            null|                     0.9836|           null|          null|          0.0|       0.1379|       0.1667|         null|        null|                null|        0.0328|                   null|             null|         0.0525|               null|                      0.9836|            null|           null|           0.0|        0.1379|        0.1667|          null|         null|                 null|         0.0341|                    null|              null|0.052000000000000005|             null|                      0.9836|            null|           null|           0.0|        0.1379|        0.1667|          null|         null|                 null|         0.0334|                    null|              null|              null|block of flats|        0.0422|      Stone, brick|                 No|                     3.0|                     1.0|                     3.0|                     1.0|               -1704.0|              0|              0|              0|              0|              0|              0|              1|              0|               0|               0|               0|               0|               0|               0|               0|               0|               0|               0|               0|               0|                       0.0|                      0.0|                       0.0|                      1.0|                      0.0|                       1.0|         1207.5|                   0.0|                1207.5|                 0.0|                   0.0|           2415|                     0|                  2415|                   0|                     0|            532|                     0|                   532|                   0|                     0|                                     null|                                             0.0|                                            null|                                           0.0|                                             0.0|                                     null|                                             0.0|                                            null|                                           0.0|                                             0.0|                                     null|                                             0.0|                                            null|                                           0.0|                                             0.0|                                        null|                                                0.0|                                               null|                                              0.0|                                                0.0|                                        null|                                                0.0|                                               null|                                              0.0|                                                0.0|                                        null|                                                0.0|                                               null|                                              0.0|                                                0.0|\n",
            "|    102798|     0|        Cash loans|          F|           N|              N|           0|        135000.0|  545040.0|    20547.0|       450000.0|  Unaccompanied|Commercial associate|    Higher education|Single / not married|House / apartment|                  0.006852|    -14816|        -1634|          -2655.0|          -5526|       null|         1|             1|              0|               1|         0|         0|         Sales staff|            1.0|                   3|                          3|                  THURSDAY|                      5|                         0|                         0|                          0|                     1|                     1|                      1|       Self-employed|              null| 0.5199727536163273| 0.7209441499436497|          null|            null|                       null|           null|          null|         null|         null|         null|         null|        null|                null|          null|                   null|             null|           null|               null|                        null|            null|           null|          null|          null|          null|          null|         null|                 null|           null|                    null|              null|                null|             null|                        null|            null|           null|          null|          null|          null|          null|         null|                 null|           null|                    null|              null|              null|          null|          null|              null|               null|                     0.0|                     0.0|                     0.0|                     0.0|               -1048.0|              0|              1|              0|              0|              0|              0|              0|              0|               0|               0|               0|               0|               0|               0|               0|               0|               0|               0|               0|               0|                       1.0|                      0.0|                       0.0|                      0.0|                      0.0|                       4.0|         1007.0|                   0.0|                1007.0|                 0.0|                   0.0|           1007|                     0|                  1007|                   0|                     0|           1007|                     0|                  1007|                   0|                     0|                                      0.0|                                             0.0|                                             0.0|                                           0.0|                                             0.0|                                      0.0|                                             0.0|                                             0.0|                                           0.0|                                             0.0|                                      0.0|                                             0.0|                                             0.0|                                           0.0|                                             0.0|                                  -9900000.0|                                                0.0|                                         -9900000.0|                                              0.0|                                                0.0|                                  -9900000.0|                                                0.0|                                         -9900000.0|                                              0.0|                                                0.0|                                  -9900000.0|                                                0.0|                                         -9900000.0|                                              0.0|                                                0.0|\n",
            "|    102960|     0|   Revolving loans|          F|           N|              Y|           0|        135000.0|  405000.0|    20250.0|       405000.0|  Unaccompanied|           Pensioner|Secondary / secon...|             Married|House / apartment|      0.019688999999999998|    -20786|       365243|           -745.0|          -1421|       null|         1|             0|              0|               1|         0|         0|                null|            2.0|                   2|                          2|                    FRIDAY|                     10|                         0|                         0|                          0|                     0|                     0|                      0|                 XNA|              null| 0.6972078815753742| 0.7407990879702335|        0.0825|          0.0585|                     0.9747|         0.6532|          null|          0.0|       0.1379|       0.1667|       0.0417|      0.0582|                null|        0.0639|                   null|              0.0|          0.084|             0.0607|                      0.9747|          0.6668|           null|           0.0|        0.1379|        0.1667|        0.0417|       0.0595|                 null|         0.0666|                    null|               0.0|              0.0833|           0.0585|                      0.9747|          0.6578|           null|           0.0|        0.1379|        0.1667|        0.0417|       0.0592|                 null|         0.0651|                    null|               0.0|              null|block of flats|        0.0548|             Block|                 No|                     2.0|                     0.0|                     2.0|                     0.0|                -625.0|              0|              0|              0|              0|              0|              0|              0|              0|               0|               0|               0|               0|               0|               0|               0|               0|               0|               0|               0|               0|                       0.0|                      0.0|                       0.0|                      0.0|                      0.0|                       1.0|         1338.0|                 103.5|                1234.5|                 0.0|                   0.0|           2676|                   207|                  2469|                   0|                     0|            207|                     0|                     0|                   0|                     0|                                    39.29|                                            39.3|                                             0.0|                                           0.0|                                             0.0|                                      0.0|                                             0.0|                                             0.0|                                           0.0|                                             0.0|                                    78.58|                                            78.6|                                             0.0|                                           0.0|                                             0.0|                                -1.1271825E7|                                         -2271825.0|                                         -9000000.0|                                              0.0|                                                0.0|                                      -1.8E7|                                         -4543650.0|                                             -1.8E7|                                              0.0|                                                0.0|                                  -4543650.0|                                                0.0|                                                0.0|                                              0.0|                                                0.0|\n",
            "|    103011|     0|        Cash loans|          F|           N|              N|           0|        144000.0| 1506816.0|    47313.0|      1350000.0|  Unaccompanied|       State servant|    Higher education|             Married|House / apartment|                   0.02461|    -20627|       -11435|          -5677.0|          -4055|       null|         1|             1|              1|               1|         1|         0|          Core staff|            2.0|                   2|                          2|                   TUESDAY|                     14|                         0|                         0|                          0|                     0|                     0|                      0|              School|0.5882614195675127| 0.6893309820288157| 0.5726825047161584|          null|            null|                       null|           null|          null|         null|         null|         null|         null|        null|                null|          null|                   null|             null|           null|               null|                        null|            null|           null|          null|          null|          null|          null|         null|                 null|           null|                    null|              null|                null|             null|                        null|            null|           null|          null|          null|          null|          null|         null|                 null|           null|                    null|              null|              null|          null|          null|              null|               null|                     0.0|                     0.0|                     0.0|                     0.0|               -2149.0|              0|              1|              0|              0|              0|              0|              0|              0|               0|               0|               0|               0|               0|               0|               0|               0|               0|               0|               0|               0|                       0.0|                      0.0|                       0.0|                      0.0|                      0.0|                       1.0|         1714.0|                161.83|               1552.17|                 0.0|                   0.0|          10284|                   971|                  9313|                   0|                     0|            608|                     0|                     0|                   0|                     0|                                     2.31|                                             2.3|                                             0.0|                                           0.0|                                             0.0|                                      0.0|                                             0.0|                                             0.0|                                           0.0|                                             0.0|                                    13.89|                                            13.9|                                             0.0|                                           0.0|                                             0.0|                                -2.9644185E7|                                         -3229275.0|                                        -2.641491E7|                                              0.0|                                                0.0|                                  -6.42915E7|                                        -1.937565E7|                                         -6.42915E7|                                              0.0|                                                0.0|                                  -7574310.0|                                                0.0|                                                0.0|                                              0.0|                                                0.0|\n",
            "|    103357|     0|        Cash loans|          F|           Y|              Y|           0|        270000.0| 1030500.0|    30258.0|      1030500.0|  Unaccompanied|Commercial associate|   Incomplete higher|      Civil marriage|House / apartment|                  0.011703|    -15598|        -2105|          -6188.0|          -4183|        0.0|         1|             1|              0|               1|         0|         0|             Drivers|            2.0|                   2|                          2|                   TUESDAY|                     16|                         0|                         0|                          0|                     0|                     0|                      0|       Trade: type 7|              null|  0.666981815439864|               null|        0.0928|          0.0986|                     0.9831|         0.7688|        0.0107|          0.0|       0.2069|       0.1667|       0.0417|       0.141|              0.0756|        0.0844|                    0.0|              0.0|         0.0945|             0.1024|                      0.9831|          0.7779|         0.0108|           0.0|        0.2069|        0.1667|        0.0417|       0.1442|               0.0826|         0.0879|                     0.0|               0.0|              0.0937|           0.0986|                      0.9831|          0.7719|         0.0108|           0.0|        0.2069|        0.1667|        0.0417|       0.1435|                0.077|         0.0859|                     0.0|               0.0|  reg oper account|block of flats|        0.0723|             Panel|                 No|                     0.0|                     0.0|                     0.0|                     0.0|                -940.0|              0|              1|              0|              0|              0|              0|              0|              0|               0|               0|               0|               0|               0|               0|               0|               0|               0|               0|               0|               0|                      null|                     null|                      null|                     null|                     null|                      null|           null|                  null|                  null|                null|                  null|           null|                  null|                  null|                null|                  null|           null|                  null|                  null|                null|                  null|                                     null|                                            null|                                            null|                                          null|                                            null|                                     null|                                            null|                                            null|                                          null|                                            null|                                     null|                                            null|                                            null|                                          null|                                            null|                                        null|                                               null|                                               null|                                             null|                                               null|                                        null|                                               null|                                               null|                                             null|                                               null|                                        null|                                               null|                                               null|                                             null|                                               null|\n",
            "|    103747|     0|        Cash loans|          F|           Y|              Y|           0|        810000.0|  900000.0|    94509.0|       900000.0|Spouse, partner|             Working|    Higher education|             Married|House / apartment|                   0.04622|    -17420|        -4215|          -2907.0|           -969|        1.0|         1|             1|              1|               1|         1|         1|         Sales staff|            2.0|                   1|                          1|                  SATURDAY|                     15|                         0|                         0|                          0|                     0|                     0|                      0|       Self-employed|0.6949301036620595| 0.6183675566189617| 0.7503751495159068|        0.1485|          0.0876|                     0.9821|         0.7552|           0.0|         0.16|       0.1379|       0.3333|        0.375|      0.0868|               0.121|        0.0938|                    0.0|              0.0|         0.1513|             0.0909|                      0.9821|          0.7648|            0.0|        0.1611|        0.1379|        0.3333|         0.375|       0.0887|               0.1322|         0.0977|                     0.0|               0.0|              0.1499|           0.0876|                      0.9821|          0.7585|            0.0|          0.16|        0.1379|        0.3333|         0.375|       0.0883|               0.1231|         0.0955|                     0.0|               0.0|  org spec account|block of flats|        0.1207|      Stone, brick|                 No|                     2.0|                     0.0|                     2.0|                     0.0|                -246.0|              0|              1|              0|              0|              0|              0|              0|              0|               0|               0|               0|               0|               0|               0|               0|               0|               0|               0|               0|               0|                       0.0|                      0.0|                       0.0|                      0.0|                      0.0|                       3.0|         1147.0|                 348.0|                 799.0|                 0.0|                   0.0|           6882|                  2088|                  4794|                   0|                     0|            333|                     0|                     0|                   0|                     0|                                      0.0|                                             0.0|                                             0.0|                                           0.0|                                             0.0|                                      0.0|                                             0.0|                                             0.0|                                           0.0|                                             0.0|                                      0.0|                                             0.0|                                             0.0|                                           0.0|                                             0.0|                                 -2.981295E7|                                                0.0|                                       -1.4906475E7|                                              0.0|                                                0.0|                                  -5.96259E7|                                                0.0|                                         -5.96259E7|                                              0.0|                                                0.0|                                         0.0|                                                0.0|                                                0.0|                                              0.0|                                                0.0|\n",
            "|    103902|     0|        Cash loans|          F|           Y|              Y|           1|        135000.0|  900000.0|    46084.5|       900000.0|  Unaccompanied|             Working|Secondary / secon...|             Married|House / apartment|      0.026392000000000002|    -10490|         -597|            -32.0|          -3053|        1.0|         1|             1|              0|               1|         0|         1|                null|            3.0|                   2|                          2|                  SATURDAY|                     12|                         0|                         0|                          0|                     0|                     0|                      0|               Other|              null| 0.5281157718065357|0.38079968264891495|         0.134|            null|                     0.9831|           null|          null|         0.08|       0.0345|       0.3333|         null|        null|                null|         0.135|                   null|              0.0|         0.1366|               null|                      0.9831|            null|           null|        0.0806|        0.0345|        0.3333|          null|         null|                 null|         0.1407|                    null|               0.0|              0.1353|             null|                      0.9831|            null|           null|          0.08|        0.0345|        0.3333|          null|         null|                 null|         0.1374|                    null|               0.0|              null|block of flats|        0.1299|      Stone, brick|                 No|                     4.0|                     2.0|                     4.0|                     1.0|                   0.0|              0|              1|              0|              0|              0|              0|              0|              0|               0|               0|               0|               0|               0|               0|               0|               0|               0|               0|               0|               0|                       0.0|                      0.0|                       1.0|                      0.0|                      0.0|                       0.0|         1148.5|                 691.5|                 457.0|                 0.0|                   0.0|           4594|                  2766|                  1828|                   0|                     0|            142|                     0|                     0|                   0|                     0|                                    23.52|                                            23.5|                                             0.0|                                           0.0|                                             0.0|                                      0.0|                                             0.0|                                             0.0|                                           0.0|                                             0.0|                                    94.08|                                            94.1|                                             0.0|                                           0.0|                                             0.0|                              -1.651175888E7|                                         -3563506.1|                                      -1.29482528E7|                                              0.0|                                                0.0|                                    -4.743E7|                                         -9112500.0|                                           -4.743E7|                                              0.0|                                                0.0|                                  -4363011.0|                                                0.0|                                                0.0|                                              0.0|                                                0.0|\n",
            "|    104053|     1|        Cash loans|          F|           N|              Y|           0|        225000.0|  675000.0|    34596.0|       675000.0|  Unaccompanied|             Working|Secondary / secon...|             Married|House / apartment|      0.014519999999999996|    -12748|        -1052|           -476.0|          -4351|       null|         1|             1|              0|               1|         0|         0|         Sales staff|            2.0|                   2|                          2|                   TUESDAY|                      8|                         0|                         0|                          0|                     0|                     1|                      1|       Trade: type 3|              null| 0.4489987999532711| 0.2793353208976285|          null|            null|                       null|           null|          null|         null|         null|         null|         null|        null|                null|          null|                   null|             null|           null|               null|                        null|            null|           null|          null|          null|          null|          null|         null|                 null|           null|                    null|              null|                null|             null|                        null|            null|           null|          null|          null|          null|          null|         null|                 null|           null|                    null|              null|              null|          null|          null|              null|               null|                     0.0|                     0.0|                     0.0|                     0.0|                -843.0|              0|              1|              0|              0|              0|              0|              0|              0|               0|               0|               0|               0|               0|               0|               0|               0|               0|               0|               0|               0|                       0.0|                      0.0|                       0.0|                      0.0|                      0.0|                       0.0|         919.92|                338.31|                581.62|                 0.0|                   0.0|          11959|                  4398|                  7561|                   0|                     0|             40|                     0|                     0|                   0|                     0|                                     32.6|                                            32.6|                                             0.0|                                           0.0|                                             0.0|                                      0.0|                                             0.0|                                             0.0|                                           0.0|                                             0.0|                                   100.24|                                           100.2|                                             0.0|                                           0.0|                                             0.0|                              -1.259224615E7|                                         -7007261.5|                                         -5584984.6|                                              0.0|                                                0.0|                                  -6.75612E7|                                         -6.75612E7|                                            -2.52E7|                                              0.0|                                                0.0|                                     64350.0|                                            64350.0|                                                0.0|                                              0.0|                                                0.0|\n",
            "|    104064|     0|        Cash loans|          F|           N|              N|           0|        202500.0| 1002726.0|    26581.5|       837000.0|  Unaccompanied|             Working|    Higher education|             Married|House / apartment|                  0.010966|    -16844|         -520|          -4727.0|           -379|       null|         1|             1|              1|               1|         1|         0|         Accountants|            2.0|                   2|                          2|                    MONDAY|                     16|                         0|                         0|                          0|                     0|                     0|                      0|Business Entity T...|              null| 0.3131973221748096| 0.3606125659189888|        0.0845|          0.0091|                     0.9732|         0.6192|        0.0096|          0.0|       0.1379|       0.1667|       0.2083|      0.0289|              0.0605|        0.0575|                 0.0386|           0.0443|         0.0861|             0.0094|                      0.9732|          0.6341|         0.0096|           0.0|        0.1379|        0.1667|        0.2083|       0.0295|               0.0661|         0.0599|                  0.0389|            0.0469|              0.0854|           0.0091|                      0.9732|          0.6243|         0.0096|           0.0|        0.1379|        0.1667|        0.2083|       0.0294|               0.0616|         0.0585|                  0.0388|            0.0453|  reg oper account|block of flats|        0.0601|      Stone, brick|                 No|                     2.0|                     0.0|                     2.0|                     0.0|               -1499.0|              0|              1|              0|              0|              0|              0|              0|              0|               0|               0|               0|               0|               1|               0|               0|               0|               0|               0|               0|               0|                       0.0|                      0.0|                       0.0|                      0.0|                      0.0|                       3.0|         826.67|                151.22|                675.44|                 0.0|                   0.0|           7440|                  1361|                  6079|                   0|                     0|            141|                     0|                     0|                   0|                     0|                                    39.83|                                            35.4|                                             0.0|                                           0.0|                                             0.0|                                      0.0|                                             0.0|                                             0.0|                                           0.0|                                             0.0|                                    98.58|                                            98.6|                                             0.0|                                           0.0|                                             0.0|                               -1.16451315E7|                                          -697428.0|                                       -1.0860525E7|                                              0.0|                                                0.0|                                    -4.545E7|                                         -2703600.0|                                           -4.545E7|                                              0.0|                                                0.0|                                   -830250.0|                                                0.0|                                                0.0|                                              0.0|                                                0.0|\n",
            "+----------+------+------------------+-----------+------------+---------------+------------+----------------+----------+-----------+---------------+---------------+--------------------+--------------------+--------------------+-----------------+--------------------------+----------+-------------+-----------------+---------------+-----------+----------+--------------+---------------+----------------+----------+----------+--------------------+---------------+--------------------+---------------------------+--------------------------+-----------------------+--------------------------+--------------------------+---------------------------+----------------------+----------------------+-----------------------+--------------------+------------------+-------------------+-------------------+--------------+----------------+---------------------------+---------------+--------------+-------------+-------------+-------------+-------------+------------+--------------------+--------------+-----------------------+-----------------+---------------+-------------------+----------------------------+----------------+---------------+--------------+--------------+--------------+--------------+-------------+---------------------+---------------+------------------------+------------------+--------------------+-----------------+----------------------------+----------------+---------------+--------------+--------------+--------------+--------------+-------------+---------------------+---------------+------------------------+------------------+------------------+--------------+--------------+------------------+-------------------+------------------------+------------------------+------------------------+------------------------+----------------------+---------------+---------------+---------------+---------------+---------------+---------------+---------------+---------------+----------------+----------------+----------------+----------------+----------------+----------------+----------------+----------------+----------------+----------------+----------------+----------------+--------------------------+-------------------------+--------------------------+-------------------------+-------------------------+--------------------------+---------------+----------------------+----------------------+--------------------+----------------------+---------------+----------------------+----------------------+--------------------+----------------------+---------------+----------------------+----------------------+--------------------+----------------------+-----------------------------------------+------------------------------------------------+------------------------------------------------+----------------------------------------------+------------------------------------------------+-----------------------------------------+------------------------------------------------+------------------------------------------------+----------------------------------------------+------------------------------------------------+-----------------------------------------+------------------------------------------------+------------------------------------------------+----------------------------------------------+------------------------------------------------+--------------------------------------------+---------------------------------------------------+---------------------------------------------------+-------------------------------------------------+---------------------------------------------------+--------------------------------------------+---------------------------------------------------+---------------------------------------------------+-------------------------------------------------+---------------------------------------------------+--------------------------------------------+---------------------------------------------------+---------------------------------------------------+-------------------------------------------------+---------------------------------------------------+\n",
            "only showing top 20 rows\n",
            "\n"
          ]
        },
        {
          "output_type": "execute_result",
          "data": {
            "text/plain": [
              "307511"
            ]
          },
          "metadata": {},
          "execution_count": 104
        }
      ]
    },
    {
      "cell_type": "code",
      "source": [
        "# Salvando o tabela gerada no diretório das ABTs\n",
        "\n",
        "abt_bureau.write.mode('overwrite').parquet(\"/content/drive/MyDrive/SQLMMs/ABT/VARS_BUREAU\")\n"
      ],
      "metadata": {
        "id": "Fki0DsmXpOZM"
      },
      "execution_count": 105,
      "outputs": []
    },
    {
      "cell_type": "code",
      "source": [
        "#Leitura dos arquivos salvos, verificação.\n",
        "\n",
        "read_abt_bureau = spark.read.format(\"parquet\").load(\"/content/drive/MyDrive/SQLMMs/ABT/VARS_BUREAU\")\n",
        "\n",
        "read_abt_bureau.show()\n",
        "\n",
        "read_abt_bureau.count()"
      ],
      "metadata": {
        "colab": {
          "base_uri": "https://localhost:8080/"
        },
        "id": "fB9BEefmzHmx",
        "outputId": "2e0d9ca0-833c-4777-d5d3-42181e3d9119"
      },
      "execution_count": 106,
      "outputs": [
        {
          "output_type": "stream",
          "name": "stdout",
          "text": [
            "+----------+------+------------------+-----------+------------+---------------+------------+----------------+----------+-----------+---------------+---------------+--------------------+--------------------+--------------------+-------------------+--------------------------+----------+-------------+-----------------+---------------+-----------+----------+--------------+---------------+----------------+----------+----------+--------------------+---------------+--------------------+---------------------------+--------------------------+-----------------------+--------------------------+--------------------------+---------------------------+----------------------+----------------------+-----------------------+--------------------+-------------------+------------------+-------------------+--------------+----------------+---------------------------+---------------+--------------+-------------+-------------+-------------+-------------+------------+--------------------+--------------+-----------------------+-----------------+---------------+-----------------+----------------------------+----------------+---------------+--------------+--------------+--------------+--------------+--------------------+---------------------+---------------+------------------------+------------------+---------------+-----------------+----------------------------+----------------+---------------+--------------+--------------+--------------+--------------+-------------+---------------------+---------------+------------------------+------------------+------------------+--------------+--------------------+------------------+-------------------+------------------------+------------------------+------------------------+------------------------+----------------------+---------------+---------------+---------------+---------------+---------------+---------------+---------------+---------------+----------------+----------------+----------------+----------------+----------------+----------------+----------------+----------------+----------------+----------------+----------------+----------------+--------------------------+-------------------------+--------------------------+-------------------------+-------------------------+--------------------------+---------------+----------------------+----------------------+--------------------+----------------------+---------------+----------------------+----------------------+--------------------+----------------------+---------------+----------------------+----------------------+--------------------+----------------------+-----------------------------------------+------------------------------------------------+------------------------------------------------+----------------------------------------------+------------------------------------------------+-----------------------------------------+------------------------------------------------+------------------------------------------------+----------------------------------------------+------------------------------------------------+-----------------------------------------+------------------------------------------------+------------------------------------------------+----------------------------------------------+------------------------------------------------+--------------------------------------------+---------------------------------------------------+---------------------------------------------------+-------------------------------------------------+---------------------------------------------------+--------------------------------------------+---------------------------------------------------+---------------------------------------------------+-------------------------------------------------+---------------------------------------------------+--------------------------------------------+---------------------------------------------------+---------------------------------------------------+-------------------------------------------------+---------------------------------------------------+\n",
            "|SK_ID_CURR|TARGET|NAME_CONTRACT_TYPE|CODE_GENDER|FLAG_OWN_CAR|FLAG_OWN_REALTY|CNT_CHILDREN|AMT_INCOME_TOTAL|AMT_CREDIT|AMT_ANNUITY|AMT_GOODS_PRICE|NAME_TYPE_SUITE|    NAME_INCOME_TYPE| NAME_EDUCATION_TYPE|  NAME_FAMILY_STATUS|  NAME_HOUSING_TYPE|REGION_POPULATION_RELATIVE|DAYS_BIRTH|DAYS_EMPLOYED|DAYS_REGISTRATION|DAYS_ID_PUBLISH|OWN_CAR_AGE|FLAG_MOBIL|FLAG_EMP_PHONE|FLAG_WORK_PHONE|FLAG_CONT_MOBILE|FLAG_PHONE|FLAG_EMAIL|     OCCUPATION_TYPE|CNT_FAM_MEMBERS|REGION_RATING_CLIENT|REGION_RATING_CLIENT_W_CITY|WEEKDAY_APPR_PROCESS_START|HOUR_APPR_PROCESS_START|REG_REGION_NOT_LIVE_REGION|REG_REGION_NOT_WORK_REGION|LIVE_REGION_NOT_WORK_REGION|REG_CITY_NOT_LIVE_CITY|REG_CITY_NOT_WORK_CITY|LIVE_CITY_NOT_WORK_CITY|   ORGANIZATION_TYPE|       EXT_SOURCE_1|      EXT_SOURCE_2|       EXT_SOURCE_3|APARTMENTS_AVG|BASEMENTAREA_AVG|YEARS_BEGINEXPLUATATION_AVG|YEARS_BUILD_AVG|COMMONAREA_AVG|ELEVATORS_AVG|ENTRANCES_AVG|FLOORSMAX_AVG|FLOORSMIN_AVG|LANDAREA_AVG|LIVINGAPARTMENTS_AVG|LIVINGAREA_AVG|NONLIVINGAPARTMENTS_AVG|NONLIVINGAREA_AVG|APARTMENTS_MODE|BASEMENTAREA_MODE|YEARS_BEGINEXPLUATATION_MODE|YEARS_BUILD_MODE|COMMONAREA_MODE|ELEVATORS_MODE|ENTRANCES_MODE|FLOORSMAX_MODE|FLOORSMIN_MODE|       LANDAREA_MODE|LIVINGAPARTMENTS_MODE|LIVINGAREA_MODE|NONLIVINGAPARTMENTS_MODE|NONLIVINGAREA_MODE|APARTMENTS_MEDI|BASEMENTAREA_MEDI|YEARS_BEGINEXPLUATATION_MEDI|YEARS_BUILD_MEDI|COMMONAREA_MEDI|ELEVATORS_MEDI|ENTRANCES_MEDI|FLOORSMAX_MEDI|FLOORSMIN_MEDI|LANDAREA_MEDI|LIVINGAPARTMENTS_MEDI|LIVINGAREA_MEDI|NONLIVINGAPARTMENTS_MEDI|NONLIVINGAREA_MEDI|FONDKAPREMONT_MODE|HOUSETYPE_MODE|      TOTALAREA_MODE|WALLSMATERIAL_MODE|EMERGENCYSTATE_MODE|OBS_30_CNT_SOCIAL_CIRCLE|DEF_30_CNT_SOCIAL_CIRCLE|OBS_60_CNT_SOCIAL_CIRCLE|DEF_60_CNT_SOCIAL_CIRCLE|DAYS_LAST_PHONE_CHANGE|FLAG_DOCUMENT_2|FLAG_DOCUMENT_3|FLAG_DOCUMENT_4|FLAG_DOCUMENT_5|FLAG_DOCUMENT_6|FLAG_DOCUMENT_7|FLAG_DOCUMENT_8|FLAG_DOCUMENT_9|FLAG_DOCUMENT_10|FLAG_DOCUMENT_11|FLAG_DOCUMENT_12|FLAG_DOCUMENT_13|FLAG_DOCUMENT_14|FLAG_DOCUMENT_15|FLAG_DOCUMENT_16|FLAG_DOCUMENT_17|FLAG_DOCUMENT_18|FLAG_DOCUMENT_19|FLAG_DOCUMENT_20|FLAG_DOCUMENT_21|AMT_REQ_CREDIT_BUREAU_HOUR|AMT_REQ_CREDIT_BUREAU_DAY|AMT_REQ_CREDIT_BUREAU_WEEK|AMT_REQ_CREDIT_BUREAU_MON|AMT_REQ_CREDIT_BUREAU_QRT|AMT_REQ_CREDIT_BUREAU_YEAR|AVG_DAYS_CREDIT|AVG_CREDIT_ACTV_ACTIVE|AVG_CREDIT_ACTV_CLOSED|AVG_CREDIT_ACTV_SOLD|AVG_CREDIT_ACTV_BADDBT|SUM_DAYS_CREDIT|SUM_CREDIT_ACTV_ACTIVE|SUM_CREDIT_ACTV_CLOSED|SUM_CREDIT_ACTV_SOLD|SUM_CREDIT_ACTV_BADDBT|MIN_DAYS_CREDIT|MIN_CREDIT_ACTV_ACTIVE|MIN_CREDIT_ACTV_CLOSED|MIN_CREDIT_ACTV_SOLD|MIN_CREDIT_ACTV_BADDBT|AVG_AMT_CREDIT_SUM_DEBT_by_AMT_CREDIT_SUM|AVG_AMT_CREDIT_SUM_DEBT_by_AMT_CREDIT_SUM_ACTIVE|AVG_AMT_CREDIT_SUM_DEBT_by_AMT_CREDIT_SUM_CLOSED|AVG_AMT_CREDIT_SUM_DEBT_by_AMT_CREDIT_SUM_SOLD|AVG_AMT_CREDIT_SUM_DEBT_by_AMT_CREDIT_SUM_BADDBT|MIN_AMT_CREDIT_SUM_DEBT_by_AMT_CREDIT_SUM|MIN_AMT_CREDIT_SUM_DEBT_by_AMT_CREDIT_SUM_ACTIVE|MIN_AMT_CREDIT_SUM_DEBT_by_AMT_CREDIT_SUM_CLOSED|MIN_AMT_CREDIT_SUM_DEBT_by_AMT_CREDIT_SUM_SOLD|MIN_AMT_CREDIT_SUM_DEBT_by_AMT_CREDIT_SUM_BADDBT|MAX_AMT_CREDIT_SUM_DEBT_by_AMT_CREDIT_SUM|MAX_AMT_CREDIT_SUM_DEBT_by_AMT_CREDIT_SUM_ACTIVE|MAX_AMT_CREDIT_SUM_DEBT_by_AMT_CREDIT_SUM_CLOSED|MAX_AMT_CREDIT_SUM_DEBT_by_AMT_CREDIT_SUM_SOLD|MAX_AMT_CREDIT_SUM_DEBT_by_AMT_CREDIT_SUM_BADDBT|AVG_AMT_CREDIT_SUM_DEBT_minus_AMT_CREDIT_SUM|AVG_AMT_CREDIT_SUM_DEBT_minus_AMT_CREDIT_SUM_ACTIVE|AVG_AMT_CREDIT_SUM_DEBT_minus_AMT_CREDIT_SUM_CLOSED|AVG_AMT_CREDIT_SUM_DEBT_minus_AMT_CREDIT_SUM_SOLD|AVG_AMT_CREDIT_SUM_DEBT_minus_AMT_CREDIT_SUM_BADDBT|MIN_AMT_CREDIT_SUM_DEBT_minus_AMT_CREDIT_SUM|MIN_AMT_CREDIT_SUM_DEBT_minus_AMT_CREDIT_SUM_ACTIVE|MIN_AMT_CREDIT_SUM_DEBT_minus_AMT_CREDIT_SUM_CLOSED|MIN_AMT_CREDIT_SUM_DEBT_minus_AMT_CREDIT_SUM_SOLD|MIN_AMT_CREDIT_SUM_DEBT_minus_AMT_CREDIT_SUM_BADDBT|MAX_AMT_CREDIT_SUM_DEBT_minus_AMT_CREDIT_SUM|MAX_AMT_CREDIT_SUM_DEBT_minus_AMT_CREDIT_SUM_ACTIVE|MAX_AMT_CREDIT_SUM_DEBT_minus_AMT_CREDIT_SUM_CLOSED|MAX_AMT_CREDIT_SUM_DEBT_minus_AMT_CREDIT_SUM_SOLD|MAX_AMT_CREDIT_SUM_DEBT_minus_AMT_CREDIT_SUM_BADDBT|\n",
            "+----------+------+------------------+-----------+------------+---------------+------------+----------------+----------+-----------+---------------+---------------+--------------------+--------------------+--------------------+-------------------+--------------------------+----------+-------------+-----------------+---------------+-----------+----------+--------------+---------------+----------------+----------+----------+--------------------+---------------+--------------------+---------------------------+--------------------------+-----------------------+--------------------------+--------------------------+---------------------------+----------------------+----------------------+-----------------------+--------------------+-------------------+------------------+-------------------+--------------+----------------+---------------------------+---------------+--------------+-------------+-------------+-------------+-------------+------------+--------------------+--------------+-----------------------+-----------------+---------------+-----------------+----------------------------+----------------+---------------+--------------+--------------+--------------+--------------+--------------------+---------------------+---------------+------------------------+------------------+---------------+-----------------+----------------------------+----------------+---------------+--------------+--------------+--------------+--------------+-------------+---------------------+---------------+------------------------+------------------+------------------+--------------+--------------------+------------------+-------------------+------------------------+------------------------+------------------------+------------------------+----------------------+---------------+---------------+---------------+---------------+---------------+---------------+---------------+---------------+----------------+----------------+----------------+----------------+----------------+----------------+----------------+----------------+----------------+----------------+----------------+----------------+--------------------------+-------------------------+--------------------------+-------------------------+-------------------------+--------------------------+---------------+----------------------+----------------------+--------------------+----------------------+---------------+----------------------+----------------------+--------------------+----------------------+---------------+----------------------+----------------------+--------------------+----------------------+-----------------------------------------+------------------------------------------------+------------------------------------------------+----------------------------------------------+------------------------------------------------+-----------------------------------------+------------------------------------------------+------------------------------------------------+----------------------------------------------+------------------------------------------------+-----------------------------------------+------------------------------------------------+------------------------------------------------+----------------------------------------------+------------------------------------------------+--------------------------------------------+---------------------------------------------------+---------------------------------------------------+-------------------------------------------------+---------------------------------------------------+--------------------------------------------+---------------------------------------------------+---------------------------------------------------+-------------------------------------------------+---------------------------------------------------+--------------------------------------------+---------------------------------------------------+---------------------------------------------------+-------------------------------------------------+---------------------------------------------------+\n",
            "|    100243|     0|        Cash loans|          M|           N|              Y|           0|        112500.0|  161730.0|    13833.0|       135000.0|  Unaccompanied|             Working|    Higher education|             Married|  House / apartment|                  0.028663|     -9720|         -573|           -689.0|          -2193|       null|         1|             1|              1|               1|         1|         0|            Laborers|            2.0|                   2|                          2|                    SUNDAY|                     13|                         0|                         0|                          0|                     0|                     1|                      1|Business Entity T...|               null|0.3940749254999855| 0.4543210601605785|          null|            null|                       null|           null|          null|         null|         null|         null|         null|        null|                null|          null|                   null|             null|           null|             null|                        null|            null|           null|          null|          null|          null|          null|                null|                 null|           null|                    null|              null|           null|             null|                        null|            null|           null|          null|          null|          null|          null|         null|                 null|           null|                    null|              null|              null|          null|                null|              null|               null|                     3.0|                     0.0|                     3.0|                     0.0|               -1197.0|              0|              1|              0|              0|              0|              0|              0|              0|               0|               0|               0|               0|               0|               0|               0|               0|               0|               0|               0|               0|                       0.0|                      0.0|                       0.0|                      0.0|                      0.0|                       3.0|         779.25|                608.25|                 171.0|                 0.0|                   0.0|           3117|                  2433|                   684|                   0|                     0|            380|                     0|                     0|                   0|                     0|                                    56.79|                                            42.6|                                             0.0|                                           0.0|                                             0.0|                                      0.0|                                             0.0|                                             0.0|                                           0.0|                                             0.0|                                    99.44|                                            99.4|                                             0.0|                                           0.0|                                             0.0|                                  -146775.38|                                          -146775.4|                                                0.0|                                              0.0|                                                0.0|                                   -523350.0|                                          -523350.0|                                                0.0|                                              0.0|                                                0.0|                                         0.0|                                                0.0|                                                0.0|                                              0.0|                                                0.0|\n",
            "|    100435|     0|        Cash loans|          F|           N|              Y|           0|        112500.0|  450000.0|    16294.5|       450000.0|  Unaccompanied|Commercial associate|Secondary / secon...|           Separated|  House / apartment|      0.035792000000000004|    -16462|        -4690|          -3290.0|            -15|       null|         1|             1|              0|               1|         0|         0|                null|            1.0|                   2|                          2|                  SATURDAY|                     10|                         0|                         0|                          0|                     0|                     1|                      1|    Industry: type 9|               null|0.6618868600420863| 0.6801388218428291|          null|            null|                       null|           null|          null|         null|         null|         null|         null|        null|                null|          null|                   null|             null|           null|             null|                        null|            null|           null|          null|          null|          null|          null|                null|                 null|           null|                    null|              null|           null|             null|                        null|            null|           null|          null|          null|          null|          null|         null|                 null|           null|                    null|              null|              null|          null|                null|              null|               null|                     0.0|                     0.0|                     0.0|                     0.0|               -2327.0|              0|              1|              0|              0|              0|              0|              0|              0|               0|               0|               0|               0|               0|               0|               0|               0|               0|               0|               0|               0|                       0.0|                      0.0|                       0.0|                      0.0|                      0.0|                       0.0|         1180.0|                198.75|                981.25|                 0.0|                   0.0|           4720|                   795|                  3925|                   0|                     0|            322|                     0|                     0|                   0|                     0|                                    38.68|                                            38.7|                                             0.0|                                           0.0|                                             0.0|                                      0.0|                                             0.0|                                             0.0|                                           0.0|                                             0.0|                                    88.46|                                            88.5|                                             0.0|                                           0.0|                                             0.0|                                -4.2193575E7|                                         -6531075.0|                                         -3.56625E7|                                              0.0|                                                0.0|                                    -7.515E7|                                         -1.94229E7|                                           -7.515E7|                                              0.0|                                                0.0|                                  -6701400.0|                                                0.0|                                                0.0|                                              0.0|                                                0.0|\n",
            "|    100549|     0|        Cash loans|          F|           N|              Y|           0|        225000.0|  545040.0|    28350.0|       450000.0|        Other_A|Commercial associate|Secondary / secon...|Single / not married|  House / apartment|                  0.032561|    -16540|        -3845|          -1484.0|            -55|       null|         1|             1|              0|               1|         0|         0|Private service s...|            1.0|                   1|                          1|                   TUESDAY|                     16|                         0|                         0|                          0|                     0|                     0|                      0|       Trade: type 3|               null|0.1937330395635624|               null|        0.0289|            null|                      0.929|         0.0276|          null|         null|       0.1034|       0.1667|         null|      0.0176|              0.0151|        0.0487|                 0.0386|           0.0581|         0.0294|             null|                       0.929|          0.0657|           null|          null|        0.1034|        0.1667|          null|0.018000000000000002|               0.0165|         0.0507|                  0.0389|            0.0615|         0.0291|             null|                       0.929|          0.0406|           null|          null|        0.1034|        0.1667|          null|       0.0179|               0.0154|         0.0496|                  0.0388|            0.0593|  reg oper account|block of flats|              0.0509|      Stone, brick|                 No|                     0.0|                     0.0|                     0.0|                     0.0|                   0.0|              0|              1|              0|              0|              0|              0|              0|              0|               0|               0|               0|               0|               0|               0|               1|               0|               0|               0|               0|               0|                       0.0|                      0.0|                       0.0|                      0.0|                      0.0|                       2.0|         1004.2|                   0.0|                1004.2|                 0.0|                   0.0|           5021|                     0|                  5021|                   0|                     0|            322|                     0|                   322|                   0|                     0|                                      0.0|                                             0.0|                                             0.0|                                           0.0|                                             0.0|                                      0.0|                                             0.0|                                             0.0|                                           0.0|                                             0.0|                                      0.0|                                             0.0|                                             0.0|                                           0.0|                                             0.0|                                  -2.14656E7|                                                0.0|                                         -2.14656E7|                                              0.0|                                                0.0|                                    -4.122E7|                                                0.0|                                           -4.122E7|                                              0.0|                                                0.0|                                  -3219300.0|                                                0.0|                                         -3219300.0|                                              0.0|                                                0.0|\n",
            "|    100669|     0|        Cash loans|          M|           Y|              N|           0|         81000.0|  670500.0|    36504.0|       670500.0|  Unaccompanied|           Pensioner|Secondary / secon...|             Married|  House / apartment|                  0.028663|    -22990|       365243|          -4509.0|          -4535|       30.0|         1|             0|              0|               1|         0|         0|                null|            2.0|                   2|                          2|                   TUESDAY|                     13|                         0|                         0|                          0|                     0|                     0|                      0|                 XNA| 0.5279308771925535|0.6798120934364773|  0.511891801533151|          null|            null|                       null|           null|          null|         null|         null|         null|         null|        null|                null|          null|                   null|             null|           null|             null|                        null|            null|           null|          null|          null|          null|          null|                null|                 null|           null|                    null|              null|           null|             null|                        null|            null|           null|          null|          null|          null|          null|         null|                 null|           null|                    null|              null|              null|          null|                null|              null|               null|                     5.0|                     2.0|                     5.0|                     1.0|               -2082.0|              0|              0|              0|              0|              1|              0|              0|              0|               0|               0|               0|               0|               0|               0|               0|               0|               0|               0|               0|               0|                       1.0|                      0.0|                       0.0|                      0.0|                      0.0|                       0.0|         456.67|                  97.0|                359.67|                 0.0|                   0.0|           1370|                   291|                  1079|                   0|                     0|            291|                     0|                     0|                   0|                     0|                                    16.14|                                            16.1|                                             0.0|                                           0.0|                                             0.0|                                      0.0|                                             0.0|                                             0.0|                                           0.0|                                             0.0|                                    48.43|                                            48.4|                                             0.0|                                           0.0|                                             0.0|                                  -9874800.0|                                         -2320800.0|                                         -7554000.0|                                              0.0|                                                0.0|                                     -1.35E7|                                         -6962400.0|                                            -1.35E7|                                              0.0|                                                0.0|                                  -6962400.0|                                                0.0|                                                0.0|                                              0.0|                                                0.0|\n",
            "|    100813|     0|        Cash loans|          F|           N|              N|           0|        135000.0|  635962.5|    21865.5|       549000.0|  Unaccompanied|             Working|Secondary / secon...|               Widow|Municipal apartment|                  0.022625|    -15069|        -1302|          -6538.0|          -4116|       null|         1|             1|              0|               1|         0|         0|                null|            1.0|                   2|                          2|                    FRIDAY|                     14|                         0|                         0|                          0|                     1|                     1|                      0|   Transport: type 4|               null|0.6393400306135488| 0.6690566947824041|        0.0165|            null|                     0.9786|           null|          null|         null|        0.069|       0.0417|         null|        null|                null|        0.0093|                   null|             null|         0.0168|             null|                      0.9786|            null|           null|          null|         0.069|        0.0417|          null|                null|                 null|         0.0097|                    null|              null|         0.0167|             null|                      0.9786|            null|           null|          null|         0.069|        0.0417|          null|         null|                 null|         0.0094|                    null|              null|              null|block of flats|               0.012|             Block|                 No|                     3.0|                     0.0|                     3.0|                     0.0|                   0.0|              0|              1|              0|              0|              0|              0|              0|              0|               0|               0|               0|               0|               0|               0|               0|               0|               0|               0|               0|               0|                       0.0|                      0.0|                       0.0|                      0.0|                      0.0|                       1.0|        1679.09|                159.73|               1519.36|                 0.0|                   0.0|          18470|                  1757|                 16713|                   0|                     0|            182|                     0|                     0|                   0|                     0|                                      0.0|                                             0.0|                                             0.0|                                           0.0|                                             0.0|                                      0.0|                                             0.0|                                             0.0|                                           0.0|                                             0.0|                                      0.0|                                             0.0|                                             0.0|                                           0.0|                                             0.0|                                  -4029552.0|                                         -1100000.0|                                         -2233641.6|                                              0.0|                                                0.0|                                  -9900000.0|                                         -9900000.0|                                         -5836900.5|                                              0.0|                                                0.0|                                  -1395355.5|                                                0.0|                                                0.0|                                              0.0|                                                0.0|\n",
            "|    101131|     0|        Cash loans|          M|           N|              Y|           0|        112500.0|  350676.0|     9774.0|       229500.0|  Unaccompanied|             Working|Secondary / secon...|           Separated|   Rented apartment|                    0.0228|    -13963|        -1392|          -2938.0|          -3387|       null|         1|             1|              0|               1|         0|         0|            Laborers|            1.0|                   2|                          2|                    MONDAY|                     10|                         0|                         0|                          0|                     1|                     1|                      0|        Construction| 0.2532668342280524|0.7791345264457081| 0.6610235391308081|          null|            null|                       null|           null|          null|         null|         null|         null|         null|        null|                null|          null|                   null|             null|           null|             null|                        null|            null|           null|          null|          null|          null|          null|                null|                 null|           null|                    null|              null|           null|             null|                        null|            null|           null|          null|          null|          null|          null|         null|                 null|           null|                    null|              null|              null|          null|                null|              null|               null|                     1.0|                     1.0|                     1.0|                     1.0|                -623.0|              0|              0|              0|              0|              0|              0|              0|              0|               0|               0|               0|               0|               0|               0|               0|               0|               0|               0|               0|               0|                       0.0|                      0.0|                       0.0|                      0.0|                      0.0|                       2.0|          375.0|                 375.0|                   0.0|                 0.0|                   0.0|            375|                   375|                     0|                   0|                     0|            375|                   375|                     0|                   0|                     0|                                      0.0|                                             0.0|                                             0.0|                                           0.0|                                             0.0|                                      0.0|                                             0.0|                                             0.0|                                           0.0|                                             0.0|                                      0.0|                                             0.0|                                             0.0|                                           0.0|                                             0.0|                                    -2.475E7|                                           -2.475E7|                                                0.0|                                              0.0|                                                0.0|                                    -2.475E7|                                           -2.475E7|                                                0.0|                                              0.0|                                                0.0|                                    -2.475E7|                                           -2.475E7|                                                0.0|                                              0.0|                                                0.0|\n",
            "|    101132|     0|   Revolving loans|          F|           N|              Y|           1|        157500.0|  135000.0|     6750.0|       135000.0|  Unaccompanied|Commercial associate|Secondary / secon...|           Separated|  House / apartment|      0.003817999999999...|    -12926|        -1081|          -3633.0|          -5161|       null|         1|             1|              1|               1|         1|         1|         Sales staff|            2.0|                   2|                          2|                    FRIDAY|                      8|                         0|                         0|                          0|                     0|                     0|                      0|       Self-employed| 0.3758750478189203|0.7200454553053602|  0.807273923277881|        0.0567|          0.0706|                     0.9911|           null|          null|          0.0|       0.1379|       0.1667|         null|       0.034|                null|        0.0661|                   null|             null|         0.0578|           0.0733|                      0.9911|            null|           null|           0.0|        0.1379|        0.1667|          null|              0.0348|                 null|         0.0689|                    null|              null|         0.0573|           0.0706|                      0.9911|            null|           null|           0.0|        0.1379|        0.1667|          null|       0.0346|                 null|         0.0673|                    null|              null|              null|block of flats|0.052000000000000005|             Block|                 No|                     0.0|                     0.0|                     0.0|                     0.0|               -2529.0|              0|              0|              0|              0|              0|              0|              0|              0|               0|               0|               0|               0|               0|               0|               0|               0|               0|               0|               0|               0|                       0.0|                      0.0|                       1.0|                      0.0|                      0.0|                       0.0|           null|                  null|                  null|                null|                  null|           null|                  null|                  null|                null|                  null|           null|                  null|                  null|                null|                  null|                                     null|                                            null|                                            null|                                          null|                                            null|                                     null|                                            null|                                            null|                                          null|                                            null|                                     null|                                            null|                                            null|                                          null|                                            null|                                        null|                                               null|                                               null|                                             null|                                               null|                                        null|                                               null|                                               null|                                             null|                                               null|                                        null|                                               null|                                               null|                                             null|                                               null|\n",
            "|    101490|     0|        Cash loans|          M|           N|              Y|           0|        135000.0|  229230.0|    24817.5|       202500.0|  Unaccompanied|Commercial associate|    Higher education|             Married|  House / apartment|                  0.018634|    -18738|        -5066|          -4922.0|          -1721|       null|         1|             1|              0|               1|         0|         0|            Laborers|            2.0|                   2|                          2|                 WEDNESDAY|                     10|                         0|                         0|                          0|                     0|                     0|                      0|Business Entity T...| 0.7387386444578554|0.6141115039710611| 0.7076993447402619|          null|            null|                       null|           null|          null|         null|         null|         null|         null|        null|                null|          null|                   null|             null|           null|             null|                        null|            null|           null|          null|          null|          null|          null|                null|                 null|           null|                    null|              null|           null|             null|                        null|            null|           null|          null|          null|          null|          null|         null|                 null|           null|                    null|              null|              null|          null|                null|              null|                 No|                     0.0|                     0.0|                     0.0|                     0.0|                -581.0|              0|              1|              0|              0|              0|              0|              0|              0|               0|               0|               0|               0|               0|               0|               0|               0|               0|               0|               0|               0|                       0.0|                      0.0|                       0.0|                      1.0|                      0.0|                       5.0|        1551.25|                205.25|                1346.0|                 0.0|                   0.0|           6205|                   821|                  5384|                   0|                     0|            396|                     0|                     0|                   0|                     0|                                     6.66|                                             6.7|                                             0.0|                                           0.0|                                             0.0|                                      0.0|                                             0.0|                                             0.0|                                           0.0|                                             0.0|                                    26.62|                                            26.6|                                             0.0|                                           0.0|                                             0.0|                               -4.45089375E7|                                      -2.47651875E7|                                        -1.974375E7|                                              0.0|                                                0.0|                                 -9.906075E7|                                        -9.906075E7|                                            -4.05E7|                                              0.0|                                                0.0|                                  -6975000.0|                                                0.0|                                                0.0|                                              0.0|                                                0.0|\n",
            "|    101621|     0|        Cash loans|          F|           N|              Y|           0|        193500.0|  427869.0|    27472.5|       387000.0|  Unaccompanied|           Pensioner|Secondary / secon...|      Civil marriage|  House / apartment|                  0.032561|    -20080|       365243|          -1295.0|          -3362|       null|         1|             0|              0|               1|         0|         0|                null|            2.0|                   1|                          1|                 WEDNESDAY|                     18|                         0|                         0|                          0|                     0|                     0|                      0|                 XNA|               null|0.6880745406976003| 0.7121551551910698|        0.3227|          0.1958|                     0.9891|         0.8436|           0.0|         0.28|       0.2414|       0.3333|       0.2083|      0.1035|              0.2627|        0.3198|                 0.0019|           0.0275|         0.0567|           0.0428|                      0.9826|          0.7713|            0.0|        0.0403|        0.0345|        0.3333|        0.0417|              0.0085|               0.0487|         0.0289|                     0.0|            0.0034|         0.3258|           0.1958|                      0.9891|          0.8457|            0.0|          0.28|        0.2414|        0.3333|        0.2083|       0.1053|               0.2672|         0.3256|                  0.0019|            0.0281|  org spec account|block of flats|              0.4925|             Panel|                 No|                     0.0|                     0.0|                     0.0|                     0.0|               -1772.0|              0|              1|              0|              0|              0|              0|              0|              0|               0|               0|               0|               0|               0|               0|               0|               0|               0|               0|               0|               0|                       0.0|                      0.0|                       0.0|                      0.0|                      0.0|                       2.0|        1159.67|                293.67|                 866.0|                 0.0|                   0.0|           3479|                   881|                  2598|                   0|                     0|            881|                     0|                     0|                   0|                     0|                                      0.0|                                             0.0|                                             0.0|                                           0.0|                                             0.0|                                      0.0|                                             0.0|                                             0.0|                                           0.0|                                             0.0|                                      0.0|                                             0.0|                                             0.0|                                           0.0|                                             0.0|                                 -1.393485E7|                                         -4500000.0|                                         -9434850.0|                                              0.0|                                                0.0|                                  -2.19159E7|                                            -1.35E7|                                         -2.19159E7|                                              0.0|                                                0.0|                                  -6388650.0|                                                0.0|                                                0.0|                                              0.0|                                                0.0|\n",
            "|    101835|     0|        Cash loans|          F|           Y|              Y|           0|        225000.0|  500211.0|    47623.5|       463500.0|       Children|           Pensioner|     Lower secondary|               Widow|  House / apartment|                  0.020713|    -23218|       365243|          -8100.0|          -4194|        0.0|         1|             0|              0|               1|         0|         0|                null|            1.0|                   3|                          3|                 WEDNESDAY|                     11|                         0|                         0|                          0|                     0|                     0|                      0|                 XNA| 0.7010307260788415|0.5771206807164158|0.36896873825284665|        0.0907|          0.0855|                     0.9891|           null|          null|          0.0|       0.2069|       0.1667|         null|      0.0778|                null|        0.0824|                   null|              0.0|         0.0924|           0.0887|                      0.9891|            null|           null|           0.0|        0.2069|        0.1667|          null|              0.0796|                 null|         0.0859|                    null|               0.0|         0.0916|           0.0855|                      0.9891|            null|           null|           0.0|        0.2069|        0.1667|          null|       0.0791|                 null|         0.0839|                    null|               0.0|              null|block of flats|              0.0746|             Panel|                 No|                     5.0|                     1.0|                     5.0|                     1.0|               -1280.0|              0|              0|              0|              0|              1|              0|              0|              0|               0|               0|               0|               0|               0|               0|               0|               0|               0|               0|               0|               0|                       0.0|                      0.0|                       0.0|                      0.0|                      0.0|                       3.0|        1288.25|                337.75|                 950.5|                 0.0|                   0.0|           5153|                  1351|                  3802|                   0|                     0|             56|                     0|                     0|                   0|                     0|                                    74.66|                                            37.3|                                             0.0|                                           0.0|                                             0.0|                                    66.92|                                             0.0|                                             0.0|                                           0.0|                                             0.0|                                     82.4|                                            82.4|                                             0.0|                                           0.0|                                             0.0|                                  -5269396.5|                                         -2634698.3|                                                0.0|                                              0.0|                                                0.0|                                  -8931150.0|                                         -8931150.0|                                                0.0|                                              0.0|                                                0.0|                                  -1607643.0|                                                0.0|                                                0.0|                                              0.0|                                                0.0|\n",
            "|    102546|     0|        Cash loans|          F|           N|              Y|           0|        135000.0|  544491.0|    17694.0|       454500.0|  Unaccompanied|           Pensioner|Secondary / secon...|             Married|  House / apartment|                   0.00702|    -21814|       365243|          -5808.0|          -4941|       null|         1|             0|              0|               1|         1|         0|                null|            2.0|                   2|                          2|                    MONDAY|                     13|                         0|                         0|                          0|                     0|                     0|                      0|                 XNA|               null|0.5537840490193092| 0.7557400501752248|          null|            null|                       null|           null|          null|         null|         null|         null|         null|        null|                null|          null|                   null|             null|           null|             null|                        null|            null|           null|          null|          null|          null|          null|                null|                 null|           null|                    null|              null|           null|             null|                        null|            null|           null|          null|          null|          null|          null|         null|                 null|           null|                    null|              null|              null|          null|                null|              null|               null|                     3.0|                     2.0|                     3.0|                     2.0|               -1366.0|              0|              1|              0|              0|              0|              0|              0|              0|               0|               0|               0|               0|               0|               0|               0|               0|               0|               0|               0|               0|                       0.0|                      0.0|                       0.0|                      0.0|                      0.0|                       4.0|         1203.5|                 28.75|               1174.75|                 0.0|                   0.0|           4814|                   115|                  4699|                   0|                     0|            115|                     0|                     0|                   0|                     0|                                      0.0|                                             0.0|                                             0.0|                                           0.0|                                             0.0|                                      0.0|                                             0.0|                                             0.0|                                           0.0|                                             0.0|                                      0.0|                                             0.0|                                             0.0|                                           0.0|                                             0.0|                                -1.4813775E7|                                         -3375000.0|                                       -1.1438775E7|                                              0.0|                                                0.0|                                    -2.025E7|                                            -1.35E7|                                           -2.025E7|                                              0.0|                                                0.0|                                  -5978250.0|                                                0.0|                                                0.0|                                              0.0|                                                0.0|\n",
            "|    102913|     0|        Cash loans|          F|           N|              N|           0|         99000.0|  814041.0|    23800.5|       679500.0|  Unaccompanied|             Working|Secondary / secon...|             Married|  House / apartment|                  0.019101|    -20278|       -10425|         -11197.0|          -3521|       null|         1|             1|              0|               1|         1|         0|            Managers|            2.0|                   2|                          2|                    FRIDAY|                      9|                         0|                         0|                          0|                     0|                     0|                      0|               Other|               null|0.6946860220299829|               null|          null|            null|                       null|           null|          null|         null|         null|         null|         null|        null|                null|          null|                   null|             null|           null|             null|                        null|            null|           null|          null|          null|          null|          null|                null|                 null|           null|                    null|              null|           null|             null|                        null|            null|           null|          null|          null|          null|          null|         null|                 null|           null|                    null|              null|              null|          null|                null|              null|               null|                     0.0|                     0.0|                     0.0|                     0.0|                -706.0|              0|              1|              0|              0|              0|              0|              0|              0|               0|               0|               0|               0|               0|               0|               0|               0|               0|               0|               0|               0|                      null|                     null|                      null|                     null|                     null|                      null|           null|                  null|                  null|                null|                  null|           null|                  null|                  null|                null|                  null|           null|                  null|                  null|                null|                  null|                                     null|                                            null|                                            null|                                          null|                                            null|                                     null|                                            null|                                            null|                                          null|                                            null|                                     null|                                            null|                                            null|                                          null|                                            null|                                        null|                                               null|                                               null|                                             null|                                               null|                                        null|                                               null|                                               null|                                             null|                                               null|                                        null|                                               null|                                               null|                                             null|                                               null|\n",
            "|    103129|     0|        Cash loans|          F|           N|              N|           0|        292500.0|  673875.0|    18531.0|       562500.0|  Unaccompanied|Commercial associate|    Higher education|           Separated|  House / apartment|                  0.032561|    -17931|         -255|           -548.0|          -1293|       null|         1|             1|              0|               1|         1|         0|                null|            1.0|                   1|                          1|                    MONDAY|                     15|                         0|                         0|                          0|                     0|                     0|                      0|   Transport: type 4| 0.6003259171630213| 0.509103258657017| 0.3842068130556564|          null|            null|                       null|           null|          null|         null|         null|         null|         null|        null|                null|          null|                   null|             null|           null|             null|                        null|            null|           null|          null|          null|          null|          null|                null|                 null|           null|                    null|              null|           null|             null|                        null|            null|           null|          null|          null|          null|          null|         null|                 null|           null|                    null|              null|              null|          null|                null|              null|               null|                     0.0|                     0.0|                     0.0|                     0.0|                  -4.0|              0|              1|              0|              0|              0|              0|              0|              0|               0|               0|               0|               0|               0|               0|               0|               0|               0|               0|               0|               0|                       0.0|                      0.0|                       0.0|                      0.0|                      0.0|                       0.0|         1007.0|                1007.0|                   0.0|                 0.0|                   0.0|           4028|                  4028|                     0|                   0|                     0|            591|                   591|                     0|                   0|                     0|                                    78.04|                                            78.0|                                             0.0|                                           0.0|                                             0.0|                                    31.67|                                            31.7|                                             0.0|                                           0.0|                                             0.0|                                   103.27|                                           103.3|                                             0.0|                                           0.0|                                             0.0|                                  -2.64306E7|                                         -2.64306E7|                                                0.0|                                              0.0|                                                0.0|                                 -8.075655E7|                                        -8.075655E7|                                                0.0|                                              0.0|                                                0.0|                                   1796850.0|                                          1796850.0|                                                0.0|                                              0.0|                                                0.0|\n",
            "|    103137|     0|        Cash loans|          F|           N|              Y|           0|        225000.0| 1546020.0|    45333.0|      1350000.0|         Family|Commercial associate|Secondary / secon...|             Married|  House / apartment|                  0.025164|    -23305|        -2521|         -11251.0|          -4211|       null|         1|             1|              0|               1|         0|         0|         Accountants|            2.0|                   2|                          2|                    FRIDAY|                      8|                         0|                         0|                          0|                     0|                     0|                      0|Business Entity T...|               null|0.6572665622416514| 0.7136313997323308|         0.068|            null|                     0.9836|           null|          null|          0.0|       0.1724|       0.1667|         null|        null|                null|         0.044|                   null|           0.0999|         0.0693|             null|                      0.9836|            null|           null|           0.0|        0.1724|        0.1667|          null|                null|                 null|         0.0459|                    null|            0.1058|         0.0687|             null|                      0.9836|            null|           null|           0.0|        0.1724|        0.1667|          null|         null|                 null|         0.0448|                    null|             0.102|              null|block of flats|              0.0564|      Stone, brick|                 No|                     0.0|                     0.0|                     0.0|                     0.0|               -1459.0|              0|              1|              0|              0|              0|              0|              0|              0|               0|               0|               0|               0|               0|               0|               0|               0|               0|               0|               0|               0|                       0.0|                      0.0|                       0.0|                      0.0|                      0.0|                       1.0|        1671.43|                 22.57|               1648.86|                 0.0|                   0.0|          11700|                   158|                 11542|                   0|                     0|            158|                     0|                     0|                   0|                     0|                                    18.75|                                            13.4|                                             0.0|                                           0.0|                                             0.0|                                      0.0|                                             0.0|                                             0.0|                                           0.0|                                             0.0|                                    93.74|                                            93.7|                                             0.0|                                           0.0|                                             0.0|                                -1.3093416E7|                                          -523092.9|                                       -1.2361086E7|                                              0.0|                                                0.0|                                      -3.6E7|                                         -3661650.0|                                             -3.6E7|                                              0.0|                                                0.0|                                  -2510865.0|                                                0.0|                                                0.0|                                              0.0|                                                0.0|\n",
            "|    103564|     0|   Revolving loans|          M|           N|              N|           2|         90000.0|  135000.0|     6750.0|       135000.0|  Unaccompanied|Commercial associate|Secondary / secon...|             Married|  House / apartment|                   0.00702|    -14644|         -133|          -3185.0|          -4740|       null|         1|             1|              0|               0|         0|         0|            Laborers|            4.0|                   2|                          2|                 WEDNESDAY|                      9|                         0|                         0|                          0|                     1|                     1|                      0|Business Entity T...|0.28958458530606906|0.5265514630301479|               null|          null|            null|                       null|           null|          null|         null|         null|         null|         null|        null|                null|          null|                   null|             null|           null|             null|                        null|            null|           null|          null|          null|          null|          null|                null|                 null|           null|                    null|              null|           null|             null|                        null|            null|           null|          null|          null|          null|          null|         null|                 null|           null|                    null|              null|              null|          null|                null|              null|               null|                     0.0|                     0.0|                     0.0|                     0.0|                -190.0|              0|              1|              0|              0|              0|              0|              0|              0|               0|               0|               0|               0|               0|               0|               0|               0|               0|               0|               0|               0|                      null|                     null|                      null|                     null|                     null|                      null|           null|                  null|                  null|                null|                  null|           null|                  null|                  null|                null|                  null|           null|                  null|                  null|                null|                  null|                                     null|                                            null|                                            null|                                          null|                                            null|                                     null|                                            null|                                            null|                                          null|                                            null|                                     null|                                            null|                                            null|                                          null|                                            null|                                        null|                                               null|                                               null|                                             null|                                               null|                                        null|                                               null|                                               null|                                             null|                                               null|                                        null|                                               null|                                               null|                                             null|                                               null|\n",
            "|    103643|     0|        Cash loans|          F|           N|              N|           0|         90000.0|  248760.0|    29650.5|       225000.0|  Unaccompanied|           Pensioner|    Higher education|             Married|  House / apartment|                  0.020246|    -24813|       365243|          -1509.0|          -4565|       null|         1|             0|              0|               1|         0|         0|                null|            2.0|                   3|                          3|                  THURSDAY|                     10|                         0|                         0|                          0|                     0|                     0|                      0|                 XNA|               null| 0.305015781942143| 0.6161216908872079|          null|            null|                       null|           null|          null|         null|         null|         null|         null|        null|                null|          null|                   null|             null|           null|             null|                        null|            null|           null|          null|          null|          null|          null|                null|                 null|           null|                    null|              null|           null|             null|                        null|            null|           null|          null|          null|          null|          null|         null|                 null|           null|                    null|              null|              null|          null|                null|              null|               null|                     0.0|                     0.0|                     0.0|                     0.0|                -139.0|              0|              0|              0|              0|              1|              0|              0|              0|               0|               0|               0|               0|               0|               0|               0|               0|               0|               0|               0|               0|                       0.0|                      0.0|                       0.0|                      0.0|                      0.0|                       6.0|        1165.44|                111.44|                1054.0|                 0.0|                   0.0|          10489|                  1003|                  9486|                   0|                     0|            116|                     0|                     0|                   0|                     0|                                    26.55|                                            17.7|                                             0.0|                                           0.0|                                             0.0|                                      0.0|                                             0.0|                                             0.0|                                           0.0|                                             0.0|                                    89.56|                                            89.6|                                             0.0|                                           0.0|                                             0.0|                              -2.043453075E7|                                         -3580270.5|                                       -1.5064125E7|                                              0.0|                                                0.0|                                    -3.915E7|                                         -3.18465E7|                                           -3.915E7|                                              0.0|                                                0.0|                                   -375934.5|                                                0.0|                                                0.0|                                              0.0|                                                0.0|\n",
            "|    103750|     0|        Cash loans|          F|           N|              Y|           0|         54000.0|  135000.0|    13279.5|       135000.0|  Unaccompanied|           Pensioner|Secondary / secon...|               Widow|  House / apartment|      0.014519999999999996|    -23168|       365243|          -4727.0|          -4302|       null|         1|             0|              0|               1|         0|         0|                null|            1.0|                   2|                          2|                    MONDAY|                      7|                         0|                         0|                          0|                     0|                     0|                      0|                 XNA|               null|              null| 0.7850520263728172|        0.0062|            null|                     0.9752|           null|          null|          0.0|        0.069|       0.0417|         null|        null|                null|        0.0052|                   null|           0.0079|         0.0063|             null|                      0.9752|            null|           null|           0.0|         0.069|        0.0417|          null|                null|                 null|         0.0054|                    null|            0.0084|         0.0062|             null|                      0.9752|            null|           null|           0.0|         0.069|        0.0417|          null|         null|                 null|         0.0053|                    null|            0.0081|              null|block of flats|              0.0058|             Panel|                 No|                     0.0|                     0.0|                     0.0|                     0.0|               -1473.0|              0|              1|              0|              0|              0|              0|              0|              0|               0|               0|               0|               0|               0|               0|               0|               0|               0|               0|               0|               0|                       0.0|                      0.0|                       0.0|                      0.0|                      0.0|                       1.0|         1066.5|                   0.0|                1066.5|                 0.0|                   0.0|           2133|                     0|                  2133|                   0|                     0|           1066|                     0|                  1066|                   0|                     0|                                      0.0|                                             0.0|                                             0.0|                                           0.0|                                             0.0|                                      0.0|                                             0.0|                                             0.0|                                           0.0|                                             0.0|                                      0.0|                                             0.0|                                             0.0|                                           0.0|                                             0.0|                                  -8309700.0|                                                0.0|                                         -8309700.0|                                              0.0|                                                0.0|                                  -8309700.0|                                                0.0|                                         -8309700.0|                                              0.0|                                                0.0|                                  -8309700.0|                                                0.0|                                         -8309700.0|                                              0.0|                                                0.0|\n",
            "|    103926|     0|        Cash loans|          F|           Y|              Y|           0|        157500.0|  302076.0|    24349.5|       270000.0|  Unaccompanied|Commercial associate|Secondary / secon...|             Married|  House / apartment|      0.035792000000000004|    -17984|        -2812|          -5778.0|          -1522|       13.0|         1|             1|              0|               1|         0|         0|            Laborers|            2.0|                   2|                          2|                    FRIDAY|                     14|                         0|                         0|                          0|                     0|                     0|                      0|Business Entity T...|               null|0.6559402317134336| 0.5937175866150576|          null|            null|                       null|           null|          null|         null|         null|         null|         null|        null|                null|          null|                   null|             null|           null|             null|                        null|            null|           null|          null|          null|          null|          null|                null|                 null|           null|                    null|              null|           null|             null|                        null|            null|           null|          null|          null|          null|          null|         null|                 null|           null|                    null|              null|              null|          null|                null|              null|               null|                     0.0|                     0.0|                     0.0|                     0.0|                -846.0|              0|              1|              0|              0|              0|              0|              0|              0|               0|               0|               0|               0|               0|               0|               0|               0|               0|               0|               0|               0|                       0.0|                      0.0|                       0.0|                      0.0|                      0.0|                       1.0|         976.22|                193.67|                782.56|                 0.0|                   0.0|           8786|                  1743|                  7043|                   0|                     0|             11|                     0|                     0|                   0|                     0|                                    45.83|                                            35.6|                                             0.0|                                           0.0|                                             0.0|                                      0.0|                                             0.0|                                             0.0|                                           0.0|                                             0.0|                                    100.0|                                           100.0|                                             0.0|                                           0.0|                                             0.0|                              -1.272130714E7|                                         -5219550.0|                                         -6010457.1|                                              0.0|                                                0.0|                                  -3.23946E7|                                         -3.23946E7|                                            -2.25E7|                                              0.0|                                                0.0|                                         0.0|                                                0.0|                                                0.0|                                              0.0|                                                0.0|\n",
            "|    104235|     0|        Cash loans|          F|           Y|              Y|           0|        315000.0|  701730.0|    66757.5|       675000.0|         Family|       State servant|    Higher education|             Married|  House / apartment|                   0.02461|    -20902|        -1484|          -9737.0|          -4429|        1.0|         1|             1|              1|               1|         1|         0|                null|            2.0|                   2|                          2|                 WEDNESDAY|                      9|                         0|                         0|                          0|                     0|                     1|                      1|               Other| 0.8607119558617061| 0.522019221612248| 0.2608559142068693|          null|            null|                       null|           null|          null|         null|         null|         null|         null|        null|                null|          null|                   null|             null|           null|             null|                        null|            null|           null|          null|          null|          null|          null|                null|                 null|           null|                    null|              null|           null|             null|                        null|            null|           null|          null|          null|          null|          null|         null|                 null|           null|                    null|              null|              null|          null|                null|              null|               null|                     0.0|                     0.0|                     0.0|                     0.0|               -1540.0|              0|              1|              0|              0|              0|              0|              0|              0|               0|               0|               0|               0|               0|               0|               0|               0|               0|               0|               0|               0|                       0.0|                      0.0|                       0.0|                      8.0|                      0.0|                       0.0|        1678.36|                320.05|               1358.32|                 0.0|                   0.0|          36924|                  7041|                 29883|                   0|                     0|             12|                     0|                     0|                   0|                     0|                                    11.11|                                             5.3|                                             0.0|                                           0.0|                                             0.0|                                      0.0|                                             0.0|                                             0.0|                                           0.0|                                             0.0|                                    100.0|                                           100.0|                                             0.0|                                           0.0|                                             0.0|                               -2.12701405E7|                                          -852631.6|                                      -1.46026054E7|                                              0.0|                                                0.0|                                  -7.18029E7|                                            -1.62E7|                                         -7.18029E7|                                              0.0|                                                0.0|                                         0.0|                                                0.0|                                                0.0|                                              0.0|                                                0.0|\n",
            "|    105285|     0|        Cash loans|          M|           N|              N|           0|        225000.0|  508495.5|    21541.5|       454500.0|  Unaccompanied|       State servant|Secondary / secon...|           Separated|  House / apartment|                  0.028663|    -10066|        -1704|          -2118.0|          -2750|       null|         1|             1|              0|               1|         0|         1|High skill tech s...|            1.0|                   2|                          2|                    SUNDAY|                     12|                         0|                         0|                          0|                     0|                     0|                      0|Business Entity T...|               null|0.6009469777540588| 0.4507472818545589|        0.1474|          0.1081|                     0.9826|          0.762|        0.0236|         0.16|       0.1379|       0.3333|       0.0417|      0.0227|              0.1202|        0.0954|                    0.0|           0.0446|         0.1502|           0.1122|                      0.9826|          0.7713|         0.0238|        0.1611|        0.1379|        0.3333|        0.0417|              0.0232|               0.1313|         0.0994|                     0.0|            0.0473|         0.1489|           0.1081|                      0.9826|          0.7652|         0.0237|          0.16|        0.1379|        0.3333|        0.0417|       0.0231|               0.1223|         0.0971|                     0.0|            0.0456|  reg oper account|block of flats|              0.1133|      Stone, brick|                 No|                     0.0|                     0.0|                     0.0|                     0.0|                -816.0|              0|              1|              0|              0|              0|              0|              0|              0|               0|               0|               0|               0|               0|               0|               0|               0|               0|               0|               0|               0|                       0.0|                      0.0|                       0.0|                      0.0|                      0.0|                       5.0|         1101.6|                 438.8|                 662.8|                 0.0|                   0.0|           5508|                  2194|                  3314|                   0|                     0|            593|                     0|                     0|                   0|                     0|                                    35.13|                                            28.1|                                             0.0|                                           0.0|                                             0.0|                                      0.0|                                             0.0|                                             0.0|                                           0.0|                                             0.0|                                    90.16|                                            90.2|                                             0.0|                                           0.0|                                             0.0|                               -3.84024375E7|                                         -6961950.0|                                            -2.97E7|                                              0.0|                                                0.0|                                      -9.0E7|                                         -3.01626E7|                                             -9.0E7|                                              0.0|                                                0.0|                                  -4647150.0|                                                0.0|                                                0.0|                                              0.0|                                                0.0|\n",
            "+----------+------+------------------+-----------+------------+---------------+------------+----------------+----------+-----------+---------------+---------------+--------------------+--------------------+--------------------+-------------------+--------------------------+----------+-------------+-----------------+---------------+-----------+----------+--------------+---------------+----------------+----------+----------+--------------------+---------------+--------------------+---------------------------+--------------------------+-----------------------+--------------------------+--------------------------+---------------------------+----------------------+----------------------+-----------------------+--------------------+-------------------+------------------+-------------------+--------------+----------------+---------------------------+---------------+--------------+-------------+-------------+-------------+-------------+------------+--------------------+--------------+-----------------------+-----------------+---------------+-----------------+----------------------------+----------------+---------------+--------------+--------------+--------------+--------------+--------------------+---------------------+---------------+------------------------+------------------+---------------+-----------------+----------------------------+----------------+---------------+--------------+--------------+--------------+--------------+-------------+---------------------+---------------+------------------------+------------------+------------------+--------------+--------------------+------------------+-------------------+------------------------+------------------------+------------------------+------------------------+----------------------+---------------+---------------+---------------+---------------+---------------+---------------+---------------+---------------+----------------+----------------+----------------+----------------+----------------+----------------+----------------+----------------+----------------+----------------+----------------+----------------+--------------------------+-------------------------+--------------------------+-------------------------+-------------------------+--------------------------+---------------+----------------------+----------------------+--------------------+----------------------+---------------+----------------------+----------------------+--------------------+----------------------+---------------+----------------------+----------------------+--------------------+----------------------+-----------------------------------------+------------------------------------------------+------------------------------------------------+----------------------------------------------+------------------------------------------------+-----------------------------------------+------------------------------------------------+------------------------------------------------+----------------------------------------------+------------------------------------------------+-----------------------------------------+------------------------------------------------+------------------------------------------------+----------------------------------------------+------------------------------------------------+--------------------------------------------+---------------------------------------------------+---------------------------------------------------+-------------------------------------------------+---------------------------------------------------+--------------------------------------------+---------------------------------------------------+---------------------------------------------------+-------------------------------------------------+---------------------------------------------------+--------------------------------------------+---------------------------------------------------+---------------------------------------------------+-------------------------------------------------+---------------------------------------------------+\n",
            "only showing top 20 rows\n",
            "\n"
          ]
        },
        {
          "output_type": "execute_result",
          "data": {
            "text/plain": [
              "307511"
            ]
          },
          "metadata": {},
          "execution_count": 106
        }
      ]
    }
  ]
}